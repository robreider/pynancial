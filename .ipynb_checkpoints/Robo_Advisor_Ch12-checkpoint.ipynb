{
 "cells": [
  {
   "cell_type": "markdown",
   "id": "ef056232",
   "metadata": {},
   "source": [
    "# Chapter 12 - Financial Planning Using Reinforcement Learning"
   ]
  },
  {
   "cell_type": "markdown",
   "id": "a98ea760",
   "metadata": {},
   "source": [
    "When we looked at asset allocation in earlier chapters, we were essentially performing a single-period optimization. However, most financial planning decisions involve making decisions over multiple periods. And the decisions made today - not only how to allocate assets but how much to spend, whether to claim Social Security, when to retire, what accounts to withdraw from, etc. - affect decisions in the future. These multiperiod, dynamic models, which economists sometimes call “lifecycle models”, are much more complicated to optimize.\n",
    "\n",
    "In recent years, a branch of Artificial Intelligence called “reinforcement learning” has been applied to a wide range of problems involving decision-making over multiple time periods. Google famously used reinforcement learning to train a computer model to beat the best human at the game Go. Similarly, Libratus used reinforcement learning to beat some of the best poker players. And the successes are not limited to playing games. However, there is currently very little written about using reinforcement learning to solve financial planning problems.\n",
    "In this chapter, we will explain how reinforcement learning can be used to solve multiperiod wealth management problems. As usual, we will start with a simple example and build up to more realistic, complicated examples."
   ]
  },
  {
   "cell_type": "markdown",
   "id": "81f9ce00",
   "metadata": {},
   "source": [
    "## 12.1 A Goals-Based Investing Example\n",
    "\n",
    "In Chapter 5, we used Monte Carlo simulations to answer the question of whether an investor will run out of money in retirement. The simple binary outcome of success or failure is an example of “Goals-Based Investing”. Other examples of goals might be saving for a child’s education or saving for a house.\n",
    "\n",
    "Hopefully, it will be easier to understand the theory behind reinforcement learning with a concrete example in mind. Consider an investor with \\\\$1 million in assets and a goal of reaching \\\\$2 million in 10 years. For now, assume there are no savings inflows or spending outflows over the ten years. We would like to compute the optimal asset allocation over time, and the probability of achieving the goal assuming the investor follows the optimal allocation. We assume the asset allocation can change once per year. \n",
    "\n",
    "The term “glide path” refers to how the asset allocation changes over time. Conventional wisdom says that the allocation to stocks should decline over time. Indeed, target-date mutual funds are designed to automatically rebalance stock and bond funds over time according to a predetermined glide path. But some authors have suggested an alternative view that equity exposure should increase over time. In this chapter, we will not only compute optimal glide paths, but you will be able to see what factors affect the shape and slope of the glide path. \n",
    "\n",
    "This starting example is simplistic and unrealistic on many levels. Perhaps the biggest shortcoming is that the goal is binary and does not make any distinction between achieving a final wealth of \\\\$2 million and \\\\$100 million. In reality, of course, even if one dies after the goals are achieved, they still may derive some benefit from knowing they are giving money to charities or children. We can modify the binary goal and use utility functions instead, which will be discussed later in the chapter. We will also discuss adding other choice variables besides asset allocation, like how much to spend each period and when to claim Social Security benefits.\n"
   ]
  },
  {
   "cell_type": "markdown",
   "id": "adbb381b",
   "metadata": {},
   "source": [
    "## 12.2 An Introduction to Reinforcement Learning\n",
    "\n",
    "Reinforcement learning is a branch of machine learning that involves training an agent to make decisions based on trial and error. In this approach, an agent interacts with an environment and receives feedback in the form of rewards or penalties for the actions it takes. In our example, the agent is the investor and the environment is the stock and bond market. The goal of an agent is to learn a policy, which is a set of rules that dictate which actions to take in which situations to maximize the cumulative reward over time.\n",
    "\n",
    "Just like the way a baby learns to walk, an agent’s behavior is shaped by the rewards it receives. Positive rewards encourage the agent to take similar actions in the future, while negative rewards discourage it from doing so. The agent uses this feedback to adjust its policy and improve its decision-making process. \n",
    "There are four common features that are used to describe most reinforcement learning problems: state, action, reward, and transition probabilities:\n",
    "\n",
    "* **State:** A state represents the relevant variables in the environment that affect an agent’s actions. In our case, the state will be a tuple containing two variables, wealth, $\\small{W}$, and discrete time steps, $\\small{t=0,1,2, \\ldots , T}$. We will discretize wealth into a finite set of states as well. In Listing 12.1, we create this wealth grid and plot it in Figure 12.1. A few comments are in order. Because the dispersion of potential wealth gets wider over time, our grid has a funnel shape rather than a rectangular shape. We compute a rough maximum and minimum value of wealth over time and then create an equally spaced grid in log of wealth space, which is on the right-hand side of Figure 12.1. The same grid in wealth space is on the left-hand side of Figure 12.1. In Figure 12.1, we only used a wealth grid size of 11 points for illustrative purposes, but when training the model later in the chapter, we substantially increased the grid size.\n",
    "\n",
    "* **Action:** An action, as the name indicates, is a decision the agent makes that changes the state. In a video game, an action could be moving a joystick to the left or right. In our example, an investor will only be able to invest in a stock fund or a risk-free bond, so an action would be the percentage of wealth that is invested in the stock fund and one minus that percentage is the percentage allocated to the bond. Just like we discretized states, we will discretize actions into 5% increments, so the action space of all possible actions is $\\small{A=0\\%, 5\\%, 10\\%, \\ldots , 100\\%}$. A policy is a mapping from each state to the best action at that state.\n",
    "\n",
    "* **Rewards:** A reward is a single number that represents the benefit an agent receives after taking an action. The goal of reinforcement learning is to maximize the cumulative rewards over time. A reward can be negative as well, so if the goal is to finish a task as quickly as possible, a negative reward can be assigned for every time step when the task is not completed. In our goals-based investing example, the agent receives a reward of +1 at time $\\small{T}$ if his wealth at time $\\small{T}$ exceeds the goal, and the agent receives no reward otherwise. We will look at other financial planning problems later in the chapter where the agent receives a reward every period when spending is taken into account.\n",
    "\n",
    "* **Transition Probabilities:** The transition probabilities define the probabilities of moving from one state at time $\\small{t}$ to another state at time $\\small{t+1}$ after taking a particular action. An implicit assumption is that only the current state at time $\\small{t}$, and not the history of previous states before $\\small{t}$, is relevant for computing transition probabilities. This is referred to as the “Markov property”, which is a standard assumption in reinforcement learning problems. In a game of chess, for example, the state would be the positions of the pieces on the board, and the transition dynamics only depend on the current state of the board - the history of how the pieces arrived at that state is irrelevant. In the goals-based investing example, for a given wealth at time $\\small{t}$ (the state) and an asset allocation (the action), we can use the mathematics of a normal distribution to compute the transition probabilities of getting to each possible wealth state at time $\\small{t+1}$. The Python code for the transition probabilities is given in the next section.\n"
   ]
  },
  {
   "cell_type": "markdown",
   "id": "94a2c21b",
   "metadata": {},
   "source": [
    "**Listing 12.1 Creating State Space for the Goals-Based Investing Example**"
   ]
  },
  {
   "cell_type": "code",
   "execution_count": 13,
   "id": "c9dc16d1",
   "metadata": {},
   "outputs": [
    {
     "data": {
      "image/png": "[encoded data removed]",
      "text/plain": [
       "<Figure size 720x432 with 2 Axes>"
      ]
     },
     "metadata": {
      "needs_background": "light"
     },
     "output_type": "display_data"
    }
   ],
   "source": [
    "import numpy as np\n",
    "import matplotlib.pyplot as plt\n",
    "from math import log, sqrt\n",
    "\n",
    "W0 = 1000000\n",
    "T = 10\n",
    "nW = 11 #A\n",
    "mu_stock = 0.08\n",
    "mu_bond = 0.045\n",
    "sig_stock = 0.20\n",
    "sig_bond = 0.0\n",
    "\n",
    "lnW = np.zeros((nW,T+1))\n",
    "W = np.zeros((nW, T+1))\n",
    "\n",
    "for t in range(T+1):\n",
    "    lnW_min = log(W0) + (mu_stock-0.5*sig_stock**2)*t - 2.5*sig_stock*sqrt(t)\n",
    "    lnW_max = log(W0) + (mu_stock-0.5*sig_stock**2)*t + 2.5*sig_stock*sqrt(t)\n",
    "    lnW[:,t] = np.linspace(lnW_min, lnW_max, nW) #B\n",
    "W = np.exp(lnW)\n",
    "\n",
    "plt.figure(figsize=(10, 6)) #C\n",
    "plt.subplot(1,2,1)    \n",
    "for t in range(T+1):\n",
    "    plt.scatter(t*np.ones(nW), W[:,t], color='r')\n",
    "plt.xlabel(\"time, $t$\")\n",
    "plt.ylabel(\"Wealth, $W$\")\n",
    "plt.subplot(1, 2, 2)\n",
    "for t in range(T+1):\n",
    "    plt.scatter(t*np.ones(nW), lnW[:,t], color='r')\n",
    "plt.xlabel(\"time, $t$\")\n",
    "plt.ylabel(\"Log of Wealth, $\\ln(W)$\");\n",
    "\n",
    "\n",
    "#A In the figure below, we used a grid size in wealth of 11, not 101\n",
    "#B Linear between min and max in log space\n",
    "#C Plot state spaces"
   ]
  },
  {
   "cell_type": "markdown",
   "id": "c7cd0b08",
   "metadata": {},
   "source": [
    "**Figure 12.1. State space in wealth-time and log wealth-time**"
   ]
  },
  {
   "cell_type": "markdown",
   "id": "757fefca",
   "metadata": {},
   "source": [
    "Now that we have described the reinforcement learning problem in terms of states, actions, rewards, and transition probabilities, the next step is to estimate the value at each state, which is referred to as the value function. The value function is the expected cumulative rewards, starting from that state. When the value function at each state is maximized, by choosing the best set of actions going forward, then it is the optimal value function. In some cases, a reward today is worth more than a reward in the future, so the value function computes the present value by discounting future rewards. In our case, we only have a reward at the end, so we don’t have to deal with discounting, but later we will discuss other financial planning problems involving discounting.\n",
    "Before we discuss the algorithms used in reinforcement learning, we will digress and discuss an older algorithm to estimate the value function. Reinforcement learning will make more sense when we explain “dynamic programming”, and it will give us a chance to highlight the method’s shortcomings and why reinforcement learning has become such a powerful tool.  "
   ]
  },
  {
   "cell_type": "markdown",
   "id": "5e463f08",
   "metadata": {},
   "source": [
    "### 12.2.1 Solution Using Dynamic Programming\n",
    "\n",
    "The traditional method for solving our goals-based investment problem was to use dynamic programming (DP) with backward induction (also called backward recursion), which is a technique that has been employed by economists for over 50 years. This method will provide a foundation for understanding reinforcement learning in the next section.\n",
    "\n",
    "Before we can implement the dynamic programming solution, we need to compute the transition probabilities going from any wealth state at time $\\small{t}$ to possible wealth states at time $\\small{t+1}$. Listing 12.2 provides the code for estimating the transition probabilities. We start with two helper functions. The first one, `compute_mu_sigma()`, is a simple function that takes an asset allocation and computes the mean and standard deviation of the portfolio. The second helper function, `compute_midpoints()` computes the midpoints of adjacent wealth states. We will estimate the probability of transitioning to a particular discrete wealth state as the probability of wealth falling between the lower and upper midpoints of adjacent wealth states. For the extreme lowest-wealth state, the lower bound is zero wealth, and for the extreme highest-wealth state, the upper bound is infinity. We then compute the cumulative distribution function (CDF) at each midpoint, and the difference between adjacent CDF’s is the area under a normal curve, which corresponds to the probability of landing between the midpoints. You may notice an unusual `np.float64()` wrapper when we are computing CDF. The reason is that if we are considering an allocation of 100% risk-free bonds, we would be dividing by zero volatility, which would normally produce an error, rather than +infinity or -infinity, which is what we want. Finally, it should be noted that to get the transition probabilities, Listing 12.2 assumes that stock returns are normally distributed, but we can easily modify the code to incorporate other distributions, like those with fat tails."
   ]
  },
  {
   "cell_type": "markdown",
   "id": "4098e9b9",
   "metadata": {},
   "source": [
    "**Listing 12.2 Computing Transition Probabilities**"
   ]
  },
  {
   "cell_type": "code",
   "execution_count": 6,
   "id": "9c22d7c9",
   "metadata": {},
   "outputs": [],
   "source": [
    "from scipy.stats import norm\n",
    "import warnings\n",
    "warnings.filterwarnings('ignore')\n",
    "\n",
    "def compute_mu_sigma(a):\n",
    "    mu = a/(nA-1)*mu_stock + (1-a/(nA-1))*mu_bond\n",
    "    sig = a/(nA-1)*sig_stock\n",
    "    return mu, sig\n",
    "\n",
    "def compute_midpoints():\n",
    "    W_midpoints = np.zeros((nW+1,T+1))\n",
    "    W_midpoints[0,:] = 0.000001\n",
    "    W_midpoints[nW,:] = np.inf\n",
    "    W_midpoints[1:nW,:] = (W[:nW-1,:]+W[1:nW,:])/2\n",
    "    return W_midpoints\n",
    "\n",
    "def compute_transition_probs(w, t, a):\n",
    "    mu, sig = compute_mu_sigma(a)\n",
    "    W_tplus1_dist = np.zeros(nW)\n",
    "    cdfs = norm.cdf(np.float64((np.log(W_midpoints[:,t+1]/w) - (mu-0.5*sig*sig))/sig)) #A\n",
    "    W_tplus1_dist = cdfs[1:nW+1] - cdfs[0:nW] #B\n",
    "    return W_tplus1_dist\n",
    "\n",
    "#A Standardize return by subtracting mean and dividing by standard deviation, and then get CDF\n",
    "#B Probability is the difference in adjacent CDF’s"
   ]
  },
  {
   "cell_type": "markdown",
   "id": "c8b54e56",
   "metadata": {},
   "source": [
    "In Figure 12.2, we illustrate the transition probabilities in going from the wealth state at node 54 (just under the \\\\$2 million goal) in the second-to-last period, $\\small{t=9}$, to possible wealth states at time $\\small{t=10}$, using the listing above."
   ]
  },
  {
   "cell_type": "markdown",
   "id": "b34e8bb2",
   "metadata": {},
   "source": [
    "<img align=\"left\" width=\"320\" height=\"750\" src=\"Fig12_2.png\">"
   ]
  },
  {
   "cell_type": "markdown",
   "id": "d89d5f3e",
   "metadata": {},
   "source": [
    "**Figure 12.2. Transition probabilities from a wealth state at time $\\small{T-1}$**"
   ]
  },
  {
   "cell_type": "markdown",
   "id": "71233180",
   "metadata": {},
   "source": [
    "We are now ready to use dynamic programming to compute the optimal value function, and it’s only a few lines of code, which is given in Listing 12.3. In our goals-based investing example, we know the value function at the last time period, $\\small{T}$. The terminal value is simply the reward at the end, which is +1 if we meet the goal and 0 if we don’t. Then, going one step back in time to $\\small{T-1}$, we loop through every wealth state. At each wealth state, we then loop through every possible action, or in our case every possible asset allocation, to find the one with the highest expected value. The expected value at a given state and choice of asset allocation is the dot product of the transition probabilities of the future state and the value at those future states. The function $\\small{V(W,t)}$ is the optimal value function at each state, and we keep track of the optimal action at each state with the function $\\small{A(W,t)}$. Once we find the optimal value at each possible wealth at time $\\small{T-1}$, we go back one time step and keep repeating until we get to time step 0."
   ]
  },
  {
   "cell_type": "markdown",
   "id": "e5b4cb44",
   "metadata": {},
   "source": [
    "**Listing 12.3 Dynamic Programming Solution for Goals-Based Investing**"
   ]
  },
  {
   "cell_type": "code",
   "execution_count": 8,
   "id": "b2167035",
   "metadata": {},
   "outputs": [],
   "source": [
    "G = 2000000\n",
    "nA = 21\n",
    "V = np.zeros((nW, T+1)) #A\n",
    "A = np.zeros((nW, T)) #B\n",
    "EV = np.zeros(nA) #C\n",
    "W_midpoints = compute_midpoints()\n",
    "\n",
    "for j in range(nW): #D\n",
    "    if W[j, T] > G: \n",
    "        V[j, T] = 1    \n",
    "        \n",
    "for t in range(T-1, -1, -1):\n",
    "    for j in range(nW):\n",
    "        for a in range(nA):\n",
    "            W_tplus1_dist = compute_transition_probs(W[j,t], t, a)\n",
    "            EV[a] = np.dot(W_tplus1_dist, V[:, t+1])\n",
    "        V[j,t] = EV.max() #E\n",
    "        A[j,t] = EV.argmax() #F\n",
    "\n",
    "#A Initialize the two-dimensional optimal value function\n",
    "#B Initialize the two-dimensional optimal action function\n",
    "#C Initialize the Expected Value as a function of possible actions\n",
    "#D Compute the value function in the last time period\n",
    "#E Save the optimal value for each state\n",
    "#F Save the optimal action for each state"
   ]
  },
  {
   "cell_type": "code",
   "execution_count": null,
   "id": "27373f8c",
   "metadata": {},
   "outputs": [],
   "source": []
  },
  {
   "cell_type": "code",
   "execution_count": null,
   "id": "64085e04",
   "metadata": {},
   "outputs": [],
   "source": []
  },
  {
   "cell_type": "code",
   "execution_count": null,
   "id": "4b613cfc",
   "metadata": {},
   "outputs": [],
   "source": []
  },
  {
   "cell_type": "code",
   "execution_count": null,
   "id": "8d82439c",
   "metadata": {},
   "outputs": [],
   "source": []
  },
  {
   "cell_type": "code",
   "execution_count": null,
   "id": "1996d6c3",
   "metadata": {},
   "outputs": [],
   "source": []
  },
  {
   "cell_type": "code",
   "execution_count": null,
   "id": "c28eece0",
   "metadata": {},
   "outputs": [],
   "source": []
  },
  {
   "cell_type": "code",
   "execution_count": null,
   "id": "3d556e88",
   "metadata": {},
   "outputs": [],
   "source": []
  },
  {
   "cell_type": "code",
   "execution_count": 2,
   "id": "1ffd1b94",
   "metadata": {},
   "outputs": [],
   "source": [
    "import pandas as pd\n",
    "import numpy as np\n",
    "import matplotlib.pyplot as plt\n",
    "from math import *\n",
    "from scipy.stats import norm"
   ]
  },
  {
   "cell_type": "code",
   "execution_count": 298,
   "id": "147b6f3d",
   "metadata": {},
   "outputs": [],
   "source": [
    "# Parameters\n",
    "W0 = 1000000\n",
    "T = 10\n",
    "deltaT = 1\n",
    "nW = 101\n",
    "nA = 15\n",
    "\n",
    "alpha = 0.1\n",
    "gamma = 1.0\n",
    "epsilon = 0.5\n",
    "nA = 15\n",
    "mu_stock = 0.08\n",
    "mu_bond = 0.02\n",
    "sig_stock = 0.20"
   ]
  },
  {
   "cell_type": "code",
   "execution_count": 4,
   "id": "171095ac",
   "metadata": {},
   "outputs": [],
   "source": [
    "# My simplified code, assuming there are no inflows I(t)\n",
    "\n",
    "W0 = 1000000\n",
    "T = 10\n",
    "deltaT = 1\n",
    "nW = 101\n",
    "nA = 11\n",
    "\n",
    "lnW_min = log(W0) + (mu_stock-0.5*sig_stock*sig_stock)*T - 3*sig_stock*sig_stock*sqrt(T)\n",
    "lnW_max = log(W0) + (mu_stock-0.5*sig_stock*sig_stock)*T + 3*sig_stock*sig_stock*sqrt(T)\n",
    "lnW_array = np.linspace(lnW_min, lnW_max, nW)\n",
    "W_array = np.exp(lnW_array)"
   ]
  },
  {
   "cell_type": "code",
   "execution_count": 91,
   "id": "652894d7",
   "metadata": {},
   "outputs": [],
   "source": [
    "# This version has a different array for each time period\n",
    "\n",
    "lnW_matrix = np.zeros((nW,T+1))\n",
    "W_matrix = np.zeros((nW, T+1))\n",
    "\n",
    "for t in range(T+1):\n",
    "    lnW_min = log(W0) + (mu_stock-0.5*sig_stock*sig_stock)*t - 2.5*sig_stock*sqrt(t)\n",
    "    lnW_max = log(W0) + (mu_stock-0.5*sig_stock*sig_stock)*t + 2.5*sig_stock*sqrt(t)\n",
    "    lnW_matrix[:,t] = np.linspace(lnW_min, lnW_max, nW)\n",
    "W_matrix = np.exp(lnW_matrix)"
   ]
  },
  {
   "cell_type": "markdown",
   "id": "684a2a71",
   "metadata": {},
   "source": [
    "A few thoughts on the above grid:\n",
    "\n",
    "First of all, I have to use continuously compounded returns, even though I used simple returns in the Monte Carlo simulation section. I would get minimum returns of less than -100% if I used simple returns (and negative wealth). It's theoretically possible in the Monte Carlo chapter too, but very unlikely in one year. But in retrospect, maybe I should change that.\n",
    "\n",
    "Second, I used a 2.5 or 3 standard deviation maximum for the cumulative return, rather than taking the last max and adding a possible 2.5 or 3 standard deviation return. I think that's right because the possibility of getting repeated 3 standard deviation moves is extremely unlikely.\n",
    "\n",
    "A tricky question is how do I deal with the maximum when there is consuption every period. I don't think the maximum will be high enough if I assume I consume 1/(T-t) of the last period maximum every period. That is an upper bound on the consumption."
   ]
  },
  {
   "cell_type": "code",
   "execution_count": 6,
   "id": "1372e2aa",
   "metadata": {},
   "outputs": [
    {
     "data": {
      "image/png": "[encoded data removed]",
      "text/plain": [
       "<Figure size 432x288 with 1 Axes>"
      ]
     },
     "metadata": {
      "needs_background": "light"
     },
     "output_type": "display_data"
    }
   ],
   "source": [
    "plt.plot(W_matrix[:,:]);"
   ]
  },
  {
   "cell_type": "code",
   "execution_count": 7,
   "id": "03211493",
   "metadata": {},
   "outputs": [
    {
     "data": {
      "image/png": "[encoded data removed]",
      "text/plain": [
       "<Figure size 432x288 with 1 Axes>"
      ]
     },
     "metadata": {
      "needs_background": "light"
     },
     "output_type": "display_data"
    }
   ],
   "source": [
    "for t in range(T+1):\n",
    "    plt.scatter(t*np.ones(nW), W_matrix[:,t], color='r')"
   ]
  },
  {
   "cell_type": "code",
   "execution_count": null,
   "id": "5dc29507",
   "metadata": {},
   "outputs": [],
   "source": []
  },
  {
   "cell_type": "code",
   "execution_count": 322,
   "id": "cda9b66b",
   "metadata": {},
   "outputs": [],
   "source": [
    "Q = np.zeros((nW, T+1, nA))"
   ]
  },
  {
   "cell_type": "code",
   "execution_count": 307,
   "id": "ca48df96",
   "metadata": {},
   "outputs": [],
   "source": [
    "H = 2000000\n",
    "R = np.zeros((nW, T+1, nA))\n",
    "for j in range(nW):\n",
    "    if W_matrix[j, T]>H:\n",
    "        R[j, T, :] = 1"
   ]
  },
  {
   "cell_type": "code",
   "execution_count": 464,
   "id": "c8ed481d",
   "metadata": {},
   "outputs": [],
   "source": [
    "# Maximize Expected utility of terminal wealth\n",
    "R = np.zeros((nW, T+1, nA))\n",
    "for j in range(nW):\n",
    "    R[j, T, :] = log(W_matrix[j,T])"
   ]
  },
  {
   "cell_type": "code",
   "execution_count": 10,
   "id": "ae39e00a",
   "metadata": {},
   "outputs": [],
   "source": [
    "from scipy.stats import norm"
   ]
  },
  {
   "cell_type": "code",
   "execution_count": 14,
   "id": "c4558942",
   "metadata": {},
   "outputs": [],
   "source": [
    "# To replicate Das\n",
    "mu_Das = np.array([.0526, .0552, .0577, .0603, .0629, .0655, .0680, .0706, .0732, .0757, .0783, .0809, .0835, .0860, .0886])\n",
    "sig_Das =np.array([.0485, .0486, .0493, .0508, .0529, .0556, .0587, .0623, .0662, .0705, .0749, .0796, .0844, .0894, .0945])"
   ]
  },
  {
   "cell_type": "code",
   "execution_count": 86,
   "id": "bd2d015d",
   "metadata": {},
   "outputs": [],
   "source": [
    "def NextW(W_now, W_array_next, a):\n",
    "    #mu = (a/(nA-1))*mu_stock + (1-a/(nA-1))*mu_bond\n",
    "    #sig = (a/(nA-1))*sig_stock\n",
    "    mu = mu_Das[a]\n",
    "    sig = sig_Das[a]\n",
    "    #print('mu,sig', mu, sig)\n",
    "    W_next_dist = norm.pdf((np.log(W_array_next/W_now) - (mu-0.5*sig*sig))/sig)\n",
    "    #print(\"W_next_dist\",W_next_dist)\n",
    "    W_next_dist = W_next_dist/sum(W_next_dist)\n",
    "    #print(\"W_next_dist normalized\",W_next_dist)\n",
    "    W_next_cumdist = W_next_dist.cumsum()\n",
    "    #print(\"W_next_cumdist\",W_next_cumdist)\n",
    "    W_next_index = len(np.where(np.random.uniform() > W_next_cumdist)[0])\n",
    "    return W_next_index"
   ]
  },
  {
   "cell_type": "code",
   "execution_count": 27,
   "id": "7015f677",
   "metadata": {},
   "outputs": [],
   "source": [
    "def myNextW(W_now, W_array_next, a):\n",
    "    #mu = (a/(nA-1))*mu_stock + (1-a/(nA-1))*mu_bond\n",
    "    #sig = (a/(nA-1))*sig_stock\n",
    "    mu = mu_Das[a]\n",
    "    sig = sig_Das[a]\n",
    "    W_next = W_now * (1+np.random.normal(loc=mu, scale=sig))\n",
    "    idx = (np.abs(W_array_next - W_next)).argmin()\n",
    "    W_next_index = idx\n",
    "    return W_next_index"
   ]
  },
  {
   "cell_type": "code",
   "execution_count": 197,
   "id": "374366e4",
   "metadata": {},
   "outputs": [],
   "source": [
    "def UpdateQ(state, Q):\n",
    "    W_now_index = state[0]\n",
    "    t = state[1]\n",
    "    #print('t',t)\n",
    "    #print('W_now_index', W_now_index, W_matrix[W_now_index, t])\n",
    "    if np.random.uniform() < epsilon:\n",
    "        A = np.random.randint(nA)\n",
    "        #print('random A', A)\n",
    "    else:\n",
    "        A_array = Q[W_now_index, t, :]\n",
    "        A = np.where(A_array == A_array.max())[0]\n",
    "        if (len(A)>1):\n",
    "            A = np.random.choice(A)\n",
    "        #print('optimal A', A)\n",
    "    if t<T:\n",
    "        W_now = W_matrix[W_now_index, t]\n",
    "        W_array_next = W_matrix[:, t+1]\n",
    "        W_next_index = myNextW(W_now, W_array_next, A)\n",
    "        #print('W_next_index', W_next_index, W_matrix[W_next_index, t+1])\n",
    "        Q[W_now_index, t, A] += alpha*(R[W_now_index, t, A] + gamma*Q[W_next_index, t+1, :].max() - Q[W_now_index, t, A])\n",
    "    else:\n",
    "        Q[W_now_index, t, A] += alpha*(R[W_now_index, t, A] - Q[W_now_index, t, A])\n",
    "        W_next_index = W_now_index\n",
    "    next_state = (W_next_index, t+1)\n",
    "    return next_state, Q"
   ]
  },
  {
   "cell_type": "code",
   "execution_count": 21,
   "id": "9f48d0b2",
   "metadata": {},
   "outputs": [],
   "source": [
    "from tqdm import tqdm"
   ]
  },
  {
   "cell_type": "code",
   "execution_count": 323,
   "id": "3d631fc1",
   "metadata": {},
   "outputs": [
    {
     "name": "stderr",
     "output_type": "stream",
     "text": [
      "Running...: 100%|██████████████████████████████████████████████████████████| 4000000/4000000 [29:20<00:00, 2271.87it/s]\n"
     ]
    }
   ],
   "source": [
    "n_episodes = 4000000\n",
    "mse = np.zeros(n_episodes)\n",
    "for i in tqdm(range(n_episodes), desc=\"Running...\"):\n",
    "    state=(0,0)\n",
    "    Q_old = np.copy(Q)\n",
    "    while state[1]<=T:\n",
    "#        if i<0.33*n_episodes:\n",
    "#            epsilon = 0.9\n",
    "#        elif i<0.66*n_episodes:\n",
    "#            epsilon = 0.6\n",
    "#        else:\n",
    "#            epsilon = 0.3\n",
    "        state, Q = UpdateQ(state, Q)\n",
    "    mse[i] = ((Q_old-Q)**2).mean()"
   ]
  },
  {
   "cell_type": "code",
   "execution_count": 305,
   "id": "ed3954d7",
   "metadata": {},
   "outputs": [],
   "source": [
    "def UpdateQ_no_reward(state, Q):\n",
    "    W_now_index = state[0]\n",
    "    t = state[1]\n",
    "    #print('t',t)\n",
    "    #print('W_now_index', W_now_index, W_matrix[W_now_index, t])\n",
    "    if np.random.uniform() < epsilon:\n",
    "        A = np.random.randint(nA)\n",
    "        #print('random A', A)\n",
    "    else:\n",
    "        A_array = Q[W_now_index, t, :]\n",
    "        A = np.where(A_array == A_array.max())[0]\n",
    "        if (len(A)>1):\n",
    "            A = np.random.choice(A)\n",
    "        #print('optimal A', A)\n",
    "\n",
    "    W_now = W_matrix[W_now_index, t]\n",
    "    W_array_next = W_matrix[:, t+1]\n",
    "    W_next_index = myNextW(W_now, W_array_next, A)\n",
    "    #print('W_next_index', W_next_index, W_matrix[W_next_index, t+1])\n",
    "    Q[W_now_index, t, A] += alpha*(gamma*Q[W_next_index, t+1, :].max() - Q[W_now_index, t, A])\n",
    "    next_state = (W_next_index, t+1)\n",
    "    return next_state, Q"
   ]
  },
  {
   "cell_type": "code",
   "execution_count": 309,
   "id": "e01cfc96",
   "metadata": {},
   "outputs": [
    {
     "name": "stderr",
     "output_type": "stream",
     "text": [
      "Running...: 100%|██████████████████████████████████████████████████████████| 4000000/4000000 [24:43<00:00, 2696.20it/s]\n"
     ]
    }
   ],
   "source": [
    "# This version initiates Q[:,T,:] to the reward\n",
    "H = 2000000\n",
    "for j in range(nW):\n",
    "    if W_matrix[j, T]>H:\n",
    "        Q[j, T, :] = 1\n",
    "n_episodes = 4000000\n",
    "for i in tqdm(range(n_episodes), desc=\"Running...\"):\n",
    "    state=(0,0)\n",
    "    Q_old = np.copy(Q)\n",
    "    while state[1]<=(T-1):\n",
    "#        if i<0.33*n_episodes:\n",
    "#            epsilon = 0.9\n",
    "#        elif i<0.66*n_episodes:\n",
    "#            epsilon = 0.6\n",
    "#        else:\n",
    "#            epsilon = 0.3\n",
    "        state, Q = UpdateQ_no_reward(state, Q)"
   ]
  },
  {
   "cell_type": "code",
   "execution_count": 300,
   "id": "7246609b",
   "metadata": {},
   "outputs": [
    {
     "data": {
      "image/png": "[encoded data removed]",
      "text/plain": [
       "<Figure size 432x288 with 1 Axes>"
      ]
     },
     "metadata": {
      "needs_background": "light"
     },
     "output_type": "display_data"
    }
   ],
   "source": [
    "df = pd.DataFrame(mse)\n",
    "df['ma'] = df.rolling(window=5000).mean()\n",
    "df['ma'].plot();"
   ]
  },
  {
   "cell_type": "code",
   "execution_count": 310,
   "id": "841d041f",
   "metadata": {},
   "outputs": [
    {
     "data": {
      "text/plain": [
       "array([0.73180377, 0.7049657 , 0.71254906, 0.72353318, 0.73364114,\n",
       "       0.73316737, 0.71650335, 0.73680178, 0.72717895, 0.75270728,\n",
       "       0.74170219, 0.6900279 , 0.69860978, 0.7295495 , 0.66658574])"
      ]
     },
     "execution_count": 310,
     "metadata": {},
     "output_type": "execute_result"
    }
   ],
   "source": [
    "Q[0,0,:]"
   ]
  },
  {
   "cell_type": "code",
   "execution_count": 324,
   "id": "2c1e9536",
   "metadata": {},
   "outputs": [
    {
     "data": {
      "text/plain": [
       "0.7594865592632393"
      ]
     },
     "execution_count": 324,
     "metadata": {},
     "output_type": "execute_result"
    }
   ],
   "source": [
    "Q[0,0,:].max()"
   ]
  },
  {
   "cell_type": "code",
   "execution_count": 45,
   "id": "289f81b5",
   "metadata": {},
   "outputs": [
    {
     "name": "stdout",
     "output_type": "stream",
     "text": [
      "[1. 1. 1. 1. 1. 1. 1. 1. 1. 1. 1. 1. 1. 1. 1.]\n"
     ]
    }
   ],
   "source": [
    "print(Q[55,10,:])"
   ]
  },
  {
   "cell_type": "code",
   "execution_count": 46,
   "id": "c381d043",
   "metadata": {},
   "outputs": [
    {
     "name": "stdout",
     "output_type": "stream",
     "text": [
      "[ 374883.92656559  386928.23072147  399359.49535317  412190.15276129\n",
      "  425433.03467249  439101.3850723   453208.87345019  467769.60847019\n",
      "  482798.15208076  498309.53407793  514319.26713636  530843.3623233\n",
      "  547898.34511097  565501.27190348  583669.74709457  602421.94067352\n",
      "  621776.60639664  641753.1005426   662371.40127032  683652.12859876\n",
      "  705616.56502871  728286.67682703  751685.13599475  775835.34294099\n",
      "  800761.44988527  826488.38501178  853041.87739963  880448.48275407\n",
      "  908735.60996441  937931.54851522  968065.4967781   999167.59121258\n",
      " 1031268.93650501 1064401.6366759  1098598.82718654 1133894.70807733\n",
      " 1170324.57817058 1207924.87037229 1246733.18810813 1286788.34292998\n",
      " 1328130.3933307  1370800.68480597 1414841.89120324 1460298.05739914\n",
      " 1507214.64334799 1555638.56954561 1605618.26395363 1657203.7104316\n",
      " 1710446.49872491 1765399.8760589  1822118.80039051 1880659.99537081\n",
      " 1941082.00707336 2003445.26254522 2067812.13023896 2134246.98238635\n",
      " 2202816.25937599 2273588.53619913 2346634.59103051 2422027.47601231\n",
      " 2499842.59031248 2580157.75553012 2663053.2935236  2748612.10673911\n",
      " 2836919.76112    2928064.57167988 3022137.69082495 3119233.19951405\n",
      " 3219448.20134743 3322882.91967845 3429640.79784528 3539828.60262289\n",
      " 3653556.53099867 3770938.32037864 3892091.36233433 4017136.82000411\n",
      " 4146199.74926645 4279409.22380623 4416898.46419913 4558804.97114337\n",
      " 4705270.66297183 4856442.01758223 5012470.2189272  5173511.30821087\n",
      " 5339726.33994307 5511281.54300723 5688348.48690318 5871104.25333088\n",
      " 6059731.61328689 6254419.20985066 6455361.74684326 6662760.18354744\n",
      " 6876821.9356837  7097761.08284323 7325798.58258541 7561162.49141376\n",
      " 7804088.1928514  8054818.63284423 8313604.56272717 8580704.78999633\n",
      " 8856386.43713803]\n"
     ]
    }
   ],
   "source": [
    "print(W_matrix[:,10])"
   ]
  },
  {
   "cell_type": "code",
   "execution_count": 47,
   "id": "44fa8878",
   "metadata": {},
   "outputs": [
    {
     "name": "stdout",
     "output_type": "stream",
     "text": [
      "[0. 0. 0. 0. 0. 0. 0. 0. 0. 0. 0. 0. 0. 0. 0. 0. 0. 0. 0. 0. 0. 0. 0. 0.\n",
      " 0. 0. 0. 0. 0. 0. 0. 0. 0. 0. 0. 0. 0. 0. 0. 0. 0. 0. 0. 0. 0. 0. 0. 0.\n",
      " 0. 0. 0. 0. 0. 1. 1. 1. 1. 1. 1. 1. 1. 1. 1. 1. 1. 1. 1. 1. 1. 1. 1. 1.\n",
      " 1. 1. 1. 1. 1. 1. 1. 1. 1. 1. 1. 1. 1. 1. 1. 1. 1. 1. 1. 1. 1. 1. 1. 1.\n",
      " 1. 1. 1. 1. 1.]\n"
     ]
    }
   ],
   "source": [
    "print(R[:,10,9])"
   ]
  },
  {
   "cell_type": "code",
   "execution_count": 53,
   "id": "6d690cde",
   "metadata": {},
   "outputs": [
    {
     "data": {
      "text/plain": [
       "array([1., 1., 1., 1., 1., 1., 1., 1., 1., 1., 1., 1., 1., 1., 1.])"
      ]
     },
     "execution_count": 53,
     "metadata": {},
     "output_type": "execute_result"
    }
   ],
   "source": [
    "R[53,10]"
   ]
  },
  {
   "cell_type": "code",
   "execution_count": 465,
   "id": "79cb8513",
   "metadata": {},
   "outputs": [
    {
     "name": "stdout",
     "output_type": "stream",
     "text": [
      "[12.11814396 12.16009129 12.20203863 12.24398596 12.28593329 12.32788062\n",
      " 12.36982795 12.41177529 12.45372262 12.49566995 12.53761728 12.57956461\n",
      " 12.62151194 12.66345928 12.70540661 12.74735394 12.78930127 12.8312486\n",
      " 12.87319594 12.91514327 12.9570906  12.99903793 13.04098526 13.0829326\n",
      " 13.12487993 13.16682726 13.20877459 13.25072192 13.29266926 13.33461659\n",
      " 13.37656392 13.41851125 13.46045858 13.50240592 13.54435325 13.58630058\n",
      " 13.62824791 13.67019524 13.71214257 13.75408991 13.79603724 13.83798457\n",
      " 13.8799319  13.92187923 13.96382657 14.0057739  14.04772123 14.08966856\n",
      " 14.13161589 14.17356323 14.21551056 14.25745789 14.29940522 14.34135255\n",
      " 14.38329989 14.42524722 14.46719455 14.50914188 14.55108921 14.59303655\n",
      " 14.63498388 14.67693121 14.71887854 14.76082587 14.8027732  14.84472054\n",
      " 14.88666787 14.9286152  14.97056253 15.01250986 15.0544572  15.09640453\n",
      " 15.13835186 15.18029919 15.22224652 15.26419386 15.30614119 15.34808852\n",
      " 15.39003585 15.43198318 15.47393052 15.51587785 15.55782518 15.59977251\n",
      " 15.64171984 15.68366718 15.72561451 15.76756184 15.80950917 15.8514565\n",
      " 15.89340383 15.93535117 15.9772985  16.01924583 16.06119316 16.10314049\n",
      " 16.14508783 16.18703516 16.22898249 16.27092982 16.31287715]\n"
     ]
    }
   ],
   "source": [
    "print(R[:,10,9])"
   ]
  },
  {
   "cell_type": "code",
   "execution_count": 457,
   "id": "93f249b9",
   "metadata": {},
   "outputs": [
    {
     "data": {
      "text/plain": [
       "4439894.5669179335"
      ]
     },
     "execution_count": 457,
     "metadata": {},
     "output_type": "execute_result"
    }
   ],
   "source": [
    "W_matrix[76,10]"
   ]
  },
  {
   "cell_type": "code",
   "execution_count": 460,
   "id": "a94093c0",
   "metadata": {},
   "outputs": [
    {
     "data": {
      "text/plain": [
       "4013244.4341181847"
      ]
     },
     "execution_count": 460,
     "metadata": {},
     "output_type": "execute_result"
    }
   ],
   "source": [
    "W_matrix[76,9]"
   ]
  },
  {
   "cell_type": "code",
   "execution_count": 85,
   "id": "6ba740e6",
   "metadata": {},
   "outputs": [
    {
     "name": "stdout",
     "output_type": "stream",
     "text": [
      "mu,sig 0.0732 0.0662\n",
      "W_next_dist [0.0114715  0.07240362 0.22442426 0.37709361 0.37294799 0.23264312\n",
      " 0.09704354 0.0284505  0.00611736]\n",
      "W_next_dist normalized [0.00806378 0.05089544 0.1577569  0.26507437 0.26216025 0.16353427\n",
      " 0.06821583 0.01999901 0.00430014]\n",
      "W_next_cumdist [0.00806378 0.05895922 0.21671612 0.48179049 0.74395074 0.90748502\n",
      " 0.97570085 0.99569986 1.        ]\n",
      "1\n"
     ]
    }
   ],
   "source": [
    "idx = NextW(100, np.array([90,95,100,105,110,115,120,125,130]), 8)\n",
    "print(idx)"
   ]
  },
  {
   "cell_type": "code",
   "execution_count": 476,
   "id": "ca388edf",
   "metadata": {},
   "outputs": [
    {
     "name": "stdout",
     "output_type": "stream",
     "text": [
      "[0. 0. 0. 0. 0. 0. 0. 0. 0. 0. 0.]\n"
     ]
    }
   ],
   "source": [
    "optimalA = np.zeros(T+1)\n",
    "for t in range (1,T+1):\n",
    "    #optimalA[t] = Q[(nW-1)//2, t, :].argmax()\n",
    "    optimalA[t] = Q[75, t, :].argmax()\n",
    "print(optimalA)"
   ]
  },
  {
   "cell_type": "code",
   "execution_count": 44,
   "id": "8fa94f9d",
   "metadata": {},
   "outputs": [
    {
     "data": {
      "text/plain": [
       "[<matplotlib.lines.Line2D at 0x1e3073f7bb0>]"
      ]
     },
     "execution_count": 44,
     "metadata": {},
     "output_type": "execute_result"
    },
    {
     "data": {
      "image/png": "[encoded data removed]",
      "text/plain": [
       "<Figure size 432x288 with 1 Axes>"
      ]
     },
     "metadata": {
      "needs_background": "light"
     },
     "output_type": "display_data"
    }
   ],
   "source": [
    "optimalQ = np.zeros(nW)\n",
    "for w in range(nW):\n",
    "    #optimalA[t] = Q[(nW-1)//2, t, :].argmax()\n",
    "    optimalQ[w] = Q[w, 9, :].max()\n",
    "plt.plot(optimalQ)"
   ]
  },
  {
   "cell_type": "code",
   "execution_count": 315,
   "id": "2679c332",
   "metadata": {},
   "outputs": [
    {
     "data": {
      "text/plain": [
       "array([0.00000000e+000, 0.00000000e+000, 0.00000000e+000, 0.00000000e+000,\n",
       "       0.00000000e+000, 0.00000000e+000, 0.00000000e+000, 0.00000000e+000,\n",
       "       0.00000000e+000, 0.00000000e+000, 0.00000000e+000, 0.00000000e+000,\n",
       "       0.00000000e+000, 0.00000000e+000, 0.00000000e+000, 0.00000000e+000,\n",
       "       0.00000000e+000, 0.00000000e+000, 0.00000000e+000, 0.00000000e+000,\n",
       "       0.00000000e+000, 0.00000000e+000, 0.00000000e+000, 0.00000000e+000,\n",
       "       0.00000000e+000, 0.00000000e+000, 0.00000000e+000, 0.00000000e+000,\n",
       "       0.00000000e+000, 0.00000000e+000, 0.00000000e+000, 0.00000000e+000,\n",
       "       0.00000000e+000, 0.00000000e+000, 0.00000000e+000, 0.00000000e+000,\n",
       "       0.00000000e+000, 0.00000000e+000, 0.00000000e+000, 0.00000000e+000,\n",
       "       0.00000000e+000, 0.00000000e+000, 0.00000000e+000, 0.00000000e+000,\n",
       "       7.63888289e-150, 1.19335928e-005, 7.93976672e-021, 2.36132600e-003,\n",
       "       4.70168019e-002, 5.95250835e-002, 5.07306478e-001, 1.89087416e-001,\n",
       "       2.66398005e-001, 5.57968549e-001, 6.44501341e-001, 7.65383824e-001,\n",
       "       9.48394248e-001, 9.06904274e-001, 9.40947308e-001, 9.99999166e-001,\n",
       "       1.00000000e+000, 9.95760561e-001, 1.00000000e+000, 1.00000000e+000,\n",
       "       1.00000000e+000, 1.00000000e+000, 1.00000000e+000, 1.00000000e+000,\n",
       "       1.00000000e+000, 1.00000000e+000, 9.99999515e-001, 9.99923823e-001,\n",
       "       9.99044995e-001, 9.35389181e-001, 8.90581011e-001, 5.21703100e-001,\n",
       "       9.99944467e-001, 1.90000000e-001, 0.00000000e+000, 1.00000000e-001,\n",
       "       0.00000000e+000, 1.00000000e-001, 0.00000000e+000, 0.00000000e+000,\n",
       "       0.00000000e+000, 0.00000000e+000, 0.00000000e+000, 0.00000000e+000,\n",
       "       0.00000000e+000, 0.00000000e+000, 0.00000000e+000, 0.00000000e+000,\n",
       "       0.00000000e+000, 0.00000000e+000, 0.00000000e+000, 0.00000000e+000,\n",
       "       0.00000000e+000, 0.00000000e+000, 0.00000000e+000, 0.00000000e+000,\n",
       "       0.00000000e+000])"
      ]
     },
     "execution_count": 315,
     "metadata": {},
     "output_type": "execute_result"
    }
   ],
   "source": [
    "Q[:, 9,14]"
   ]
  },
  {
   "cell_type": "code",
   "execution_count": 46,
   "id": "b2cfc0e9",
   "metadata": {},
   "outputs": [
    {
     "data": {
      "text/plain": [
       "[<matplotlib.lines.Line2D at 0x1e307489340>]"
      ]
     },
     "execution_count": 46,
     "metadata": {},
     "output_type": "execute_result"
    },
    {
     "data": {
      "image/png": "[encoded data removed]",
      "text/plain": [
       "<Figure size 432x288 with 1 Axes>"
      ]
     },
     "metadata": {
      "needs_background": "light"
     },
     "output_type": "display_data"
    }
   ],
   "source": [
    "optimalA = np.zeros(nW)\n",
    "for w in range(nW):\n",
    "    optimalA[w] = Q[w,1,:].argmax()\n",
    "#print(optimalA)\n",
    "plt.plot(optimalA)"
   ]
  },
  {
   "cell_type": "code",
   "execution_count": 327,
   "id": "70503a30",
   "metadata": {},
   "outputs": [
    {
     "name": "stdout",
     "output_type": "stream",
     "text": [
      "0 5.0\n",
      "1 8.818181818181818\n",
      "2 9.454545454545455\n",
      "3 9.545454545454545\n",
      "4 10.181818181818182\n",
      "5 10.090909090909092\n",
      "6 10.454545454545455\n",
      "7 9.181818181818182\n",
      "8 10.272727272727273\n",
      "9 9.727272727272727\n"
     ]
    }
   ],
   "source": [
    "path1 = [0, 50, 50, 50, 50, 50, 50, 50, 50, 50]\n",
    "path2 = [0, 51, 52, 53, 54, 55, 56, 57, 58, 59]\n",
    "window = 5\n",
    "for t,w in enumerate(path1):\n",
    "    optimalA = np.zeros(2*window+1)\n",
    "    if t==0:\n",
    "        optimalA[:] = Q[0,0,:].argmax()\n",
    "    else:\n",
    "        for i in range(w-window, w+window+1):\n",
    "            optimalA[i-w+window] = Q[i,t,:].argmax()\n",
    "        #print(t, optimalA)\n",
    "    avg_A = optimalA.mean()\n",
    "    print(t, avg_A)"
   ]
  },
  {
   "cell_type": "code",
   "execution_count": 314,
   "id": "d0ef0129",
   "metadata": {},
   "outputs": [
    {
     "name": "stdout",
     "output_type": "stream",
     "text": [
      "0 9.0\n",
      "1 8.909090909090908\n",
      "2 8.272727272727273\n",
      "3 9.545454545454545\n",
      "4 10.272727272727273\n",
      "5 6.363636363636363\n",
      "6 7.090909090909091\n",
      "7 8.454545454545455\n",
      "8 5.363636363636363\n",
      "9 1.9090909090909092\n"
     ]
    }
   ],
   "source": [
    "path1 = [0, 50, 50, 50, 50, 50, 50, 50, 50, 50]\n",
    "path2 = [0, 51, 52, 53, 54, 55, 56, 57, 58, 59]\n",
    "window = 5\n",
    "for t,w in enumerate(path2):\n",
    "    optimalA = np.zeros(2*window+1)\n",
    "    if t==0:\n",
    "        optimalA[:] = Q[0,0,:].argmax()\n",
    "    else:\n",
    "        for i in range(w-window, w+window+1):\n",
    "            optimalA[i-w+window] = Q[i,t,:].argmax()\n",
    "        #print(t, optimalA)\n",
    "    avg_A = optimalA.mean()\n",
    "    print(t, avg_A)"
   ]
  },
  {
   "cell_type": "code",
   "execution_count": null,
   "id": "8ddd9699",
   "metadata": {},
   "outputs": [],
   "source": []
  },
  {
   "cell_type": "code",
   "execution_count": null,
   "id": "1e2fcf47",
   "metadata": {},
   "outputs": [],
   "source": []
  },
  {
   "cell_type": "code",
   "execution_count": null,
   "id": "42678efa",
   "metadata": {},
   "outputs": [],
   "source": []
  },
  {
   "cell_type": "code",
   "execution_count": null,
   "id": "59cdaa49",
   "metadata": {},
   "outputs": [],
   "source": []
  },
  {
   "cell_type": "code",
   "execution_count": null,
   "id": "36583008",
   "metadata": {},
   "outputs": [],
   "source": []
  },
  {
   "cell_type": "code",
   "execution_count": null,
   "id": "3a2ce61e",
   "metadata": {},
   "outputs": [],
   "source": []
  },
  {
   "cell_type": "code",
   "execution_count": null,
   "id": "300c9ae0",
   "metadata": {},
   "outputs": [],
   "source": []
  },
  {
   "cell_type": "code",
   "execution_count": null,
   "id": "858bdc79",
   "metadata": {},
   "outputs": [],
   "source": []
  },
  {
   "cell_type": "code",
   "execution_count": null,
   "id": "bfc701c4",
   "metadata": {},
   "outputs": [],
   "source": []
  },
  {
   "cell_type": "code",
   "execution_count": 461,
   "id": "631b22f7",
   "metadata": {},
   "outputs": [
    {
     "data": {
      "text/plain": [
       "array([ 559898.3665654 ,  566884.32976943,  573957.45822488,\n",
       "        581118.8395099 ,  588369.5747726 ,  595710.77890032,\n",
       "        603143.58069107,  610669.12302708,  618288.56305059,\n",
       "        626003.07234169,  633813.83709855,  641722.05831973,\n",
       "        649728.95198891,  657835.74926183,  666043.69665562,\n",
       "        674354.05624044,  682768.10583356,  691287.1391958 ,\n",
       "        699912.46623054,  708645.41318504,  717487.32285444,\n",
       "        726439.55478819,  735503.4854991 ,  744680.50867503,\n",
       "        753972.03539312,  763379.49433685,  772904.33201563,\n",
       "        782548.01298727,  792312.02008315,  802197.85463624,\n",
       "        812207.03671194,  822341.1053418 ,  832601.6187602 ,\n",
       "        842990.15464387,  853508.31035457,  864157.70318464,\n",
       "        874939.97060571,  885856.77052045,  896909.78151754,\n",
       "        908100.70312971,  919431.25609512,  930903.18262193,\n",
       "        942518.24665615,  954278.23415291,  966184.95335106,\n",
       "        978240.23505121,  990445.93289721, 1002803.92366123,\n",
       "       1015316.10753226, 1027984.40840834, 1040810.77419239,\n",
       "       1053797.17709167, 1066945.61392107, 1080258.10641016,\n",
       "       1093736.701514  , 1107383.47172793, 1121200.51540623,\n",
       "       1135189.95708476, 1149353.94780762, 1163694.66545794,\n",
       "       1178214.31509272, 1192915.12928189, 1207799.36845161,\n",
       "       1222869.32123182, 1238127.30480814, 1253575.66527819,\n",
       "       1269216.77801231, 1285053.04801882, 1301086.91031378,\n",
       "       1317320.83029547, 1333757.30412338, 1350398.85910214,\n",
       "       1367248.05407001, 1384307.47979241, 1401579.75936024,\n",
       "       1419067.54859326, 1436773.53644837, 1454700.44543317,\n",
       "       1472851.03202448, 1491228.08709228, 1509834.43632875,\n",
       "       1528672.9406828 , 1547746.49679999, 1567058.03746787,\n",
       "       1586610.532067  , 1606406.98702746, 1626450.44629117,\n",
       "       1646743.99177991, 1667290.74386923, 1688093.8618682 ,\n",
       "       1709156.54450523, 1730482.03041991, 1752073.59866096,\n",
       "       1773934.56919045, 1796068.30339429, 1818478.20459905,\n",
       "       1841167.71859529, 1864140.3341674 , 1887399.58362999,\n",
       "       1910949.04337109, 1934792.33440203])"
      ]
     },
     "execution_count": 461,
     "metadata": {},
     "output_type": "execute_result"
    }
   ],
   "source": [
    "W_matrix[:,1]"
   ]
  },
  {
   "cell_type": "code",
   "execution_count": 341,
   "id": "6f52f471",
   "metadata": {},
   "outputs": [
    {
     "data": {
      "text/plain": [
       "array([1., 1., 1., 1., 1., 1., 1., 1., 1., 1., 1.])"
      ]
     },
     "execution_count": 341,
     "metadata": {},
     "output_type": "execute_result"
    }
   ],
   "source": [
    "R[99, 10,:]"
   ]
  },
  {
   "cell_type": "code",
   "execution_count": 350,
   "id": "3d71b0eb",
   "metadata": {},
   "outputs": [
    {
     "data": {
      "text/plain": [
       "1.9999999999994706"
      ]
     },
     "execution_count": 350,
     "metadata": {},
     "output_type": "execute_result"
    }
   ],
   "source": [
    "Q[100,10,10]+Q[100,10,9]"
   ]
  },
  {
   "cell_type": "code",
   "execution_count": null,
   "id": "fe92a5cf",
   "metadata": {},
   "outputs": [],
   "source": []
  },
  {
   "cell_type": "code",
   "execution_count": null,
   "id": "43fba4b7",
   "metadata": {},
   "outputs": [],
   "source": []
  },
  {
   "cell_type": "code",
   "execution_count": null,
   "id": "504b1d4d",
   "metadata": {},
   "outputs": [],
   "source": []
  },
  {
   "cell_type": "code",
   "execution_count": null,
   "id": "f1c181cf",
   "metadata": {},
   "outputs": [],
   "source": []
  },
  {
   "cell_type": "code",
   "execution_count": null,
   "id": "cf2d1e0b",
   "metadata": {},
   "outputs": [],
   "source": []
  },
  {
   "cell_type": "code",
   "execution_count": 77,
   "id": "2c00eeb4",
   "metadata": {},
   "outputs": [
    {
     "data": {
      "text/plain": [
       "array([0.80483742, 0.8305309 , 0.85695396, 0.88412732, 0.91207229,\n",
       "       0.94081077, 0.97036531, 1.00075906, 1.03201587, 1.06416024,\n",
       "       1.09721736])"
      ]
     },
     "execution_count": 77,
     "metadata": {},
     "output_type": "execute_result"
    }
   ],
   "source": [
    "W_matrix[:,1]/1000000-.1"
   ]
  },
  {
   "cell_type": "code",
   "execution_count": 368,
   "id": "55e707ca",
   "metadata": {},
   "outputs": [],
   "source": [
    "arr = np.array([0.3, .5, 0.7, 0.9, 1.0, 1.0, 1.1])"
   ]
  },
  {
   "cell_type": "code",
   "execution_count": 366,
   "id": "2a500360",
   "metadata": {},
   "outputs": [
    {
     "name": "stdout",
     "output_type": "stream",
     "text": [
      "1.0\n"
     ]
    }
   ],
   "source": [
    "print(np.random.choice(arr))"
   ]
  },
  {
   "cell_type": "code",
   "execution_count": 370,
   "id": "118606bc",
   "metadata": {},
   "outputs": [
    {
     "name": "stdout",
     "output_type": "stream",
     "text": [
      "[6]\n"
     ]
    }
   ],
   "source": [
    "A = np.where(arr == arr.max())[0]\n",
    "print(A)"
   ]
  },
  {
   "cell_type": "code",
   "execution_count": 371,
   "id": "846b3d43",
   "metadata": {},
   "outputs": [
    {
     "data": {
      "text/plain": [
       "array([1.1])"
      ]
     },
     "execution_count": 371,
     "metadata": {},
     "output_type": "execute_result"
    }
   ],
   "source": [
    "arr[A]"
   ]
  },
  {
   "cell_type": "code",
   "execution_count": null,
   "id": "0058ac87",
   "metadata": {},
   "outputs": [],
   "source": []
  },
  {
   "cell_type": "code",
   "execution_count": null,
   "id": "831952d2",
   "metadata": {},
   "outputs": [],
   "source": []
  },
  {
   "cell_type": "code",
   "execution_count": null,
   "id": "7da2df09",
   "metadata": {},
   "outputs": [],
   "source": []
  },
  {
   "cell_type": "code",
   "execution_count": 176,
   "id": "a8bbdd88",
   "metadata": {},
   "outputs": [
    {
     "name": "stdout",
     "output_type": "stream",
     "text": [
      "2\n"
     ]
    }
   ],
   "source": [
    "##z = np.random.uniform()\n",
    "##print(z)\n",
    "z = .6\n",
    "#idx = len(np.where(z > arr)[0])\n",
    "#idx = np.argwhere(arr>z)[0]\n",
    "# this argmax works\n",
    "idx = np.argmax(arr > z)\n",
    "idx = np.argmax(z < arr)\n",
    "#idx = np.searchsorted(arr, .95)\n",
    "print(idx)"
   ]
  },
  {
   "cell_type": "code",
   "execution_count": 216,
   "id": "b0d22c18",
   "metadata": {},
   "outputs": [
    {
     "name": "stdout",
     "output_type": "stream",
     "text": [
      "0\n"
     ]
    }
   ],
   "source": [
    "value = -4\n",
    "idx = (np.abs(arr - value)).argmin()\n",
    "print(idx)"
   ]
  },
  {
   "cell_type": "code",
   "execution_count": null,
   "id": "458800cd",
   "metadata": {},
   "outputs": [],
   "source": []
  },
  {
   "cell_type": "code",
   "execution_count": null,
   "id": "56250729",
   "metadata": {},
   "outputs": [],
   "source": []
  },
  {
   "cell_type": "code",
   "execution_count": null,
   "id": "ad553229",
   "metadata": {},
   "outputs": [],
   "source": []
  },
  {
   "cell_type": "code",
   "execution_count": 39,
   "id": "6da035ae",
   "metadata": {},
   "outputs": [
    {
     "data": {
      "text/plain": [
       "array([1, 2, 2, 3, 4, 5, 5, 5])"
      ]
     },
     "execution_count": 39,
     "metadata": {},
     "output_type": "execute_result"
    }
   ],
   "source": [
    "arr = np.array([1,2,2,3,4,5,5,5])\n",
    "arr"
   ]
  },
  {
   "cell_type": "code",
   "execution_count": 40,
   "id": "4e6715bb",
   "metadata": {},
   "outputs": [
    {
     "name": "stdout",
     "output_type": "stream",
     "text": [
      "5\n"
     ]
    }
   ],
   "source": [
    "print(arr.max())"
   ]
  },
  {
   "cell_type": "code",
   "execution_count": 41,
   "id": "ea33358b",
   "metadata": {},
   "outputs": [
    {
     "data": {
      "text/plain": [
       "(array([5, 6, 7], dtype=int64),)"
      ]
     },
     "execution_count": 41,
     "metadata": {},
     "output_type": "execute_result"
    }
   ],
   "source": [
    "x = np.where(arr==5)\n",
    "x"
   ]
  },
  {
   "cell_type": "code",
   "execution_count": 98,
   "id": "147e4387",
   "metadata": {},
   "outputs": [
    {
     "name": "stdout",
     "output_type": "stream",
     "text": [
      "2\n"
     ]
    }
   ],
   "source": [
    "print(np.random.choice(arr))"
   ]
  },
  {
   "cell_type": "code",
   "execution_count": 479,
   "id": "581dff87",
   "metadata": {},
   "outputs": [
    {
     "data": {
      "text/plain": [
       "array([[1, 2],\n",
       "       [3, 4]])"
      ]
     },
     "execution_count": 479,
     "metadata": {},
     "output_type": "execute_result"
    }
   ],
   "source": [
    "matrix1 = np.array([[1,2],[3,4]])\n",
    "matrix1"
   ]
  },
  {
   "cell_type": "code",
   "execution_count": 483,
   "id": "b0de9536",
   "metadata": {},
   "outputs": [
    {
     "data": {
      "text/plain": [
       "array([[0, 1],\n",
       "       [2, 9]])"
      ]
     },
     "execution_count": 483,
     "metadata": {},
     "output_type": "execute_result"
    }
   ],
   "source": [
    "matrix2 = np.array([[0,1],[2,9]])\n",
    "matrix2"
   ]
  },
  {
   "cell_type": "code",
   "execution_count": 484,
   "id": "e1e928ca",
   "metadata": {},
   "outputs": [
    {
     "data": {
      "text/plain": [
       "7.0"
      ]
     },
     "execution_count": 484,
     "metadata": {},
     "output_type": "execute_result"
    }
   ],
   "source": [
    "mse = ((matrix1 - matrix2)**2).mean()\n",
    "mse"
   ]
  },
  {
   "cell_type": "code",
   "execution_count": null,
   "id": "e9d4fca7",
   "metadata": {},
   "outputs": [],
   "source": []
  },
  {
   "cell_type": "code",
   "execution_count": null,
   "id": "acf9d9e1",
   "metadata": {},
   "outputs": [],
   "source": []
  },
  {
   "cell_type": "code",
   "execution_count": null,
   "id": "1247edd7",
   "metadata": {},
   "outputs": [],
   "source": []
  },
  {
   "cell_type": "code",
   "execution_count": null,
   "id": "7dd14d4c",
   "metadata": {},
   "outputs": [],
   "source": []
  },
  {
   "cell_type": "code",
   "execution_count": null,
   "id": "0687d091",
   "metadata": {},
   "outputs": [],
   "source": [
    "# His method isn't quite accurate. We should be getting the prob from -inf to -1.5, -1.5 to -0.5, ..."
   ]
  },
  {
   "cell_type": "code",
   "execution_count": 30,
   "id": "362dc0cd",
   "metadata": {},
   "outputs": [
    {
     "data": {
      "text/plain": [
       "array([-2, -1,  0,  1,  2])"
      ]
     },
     "execution_count": 30,
     "metadata": {},
     "output_type": "execute_result"
    }
   ],
   "source": [
    "p = np.array([-2,-1,0,1,2])\n",
    "p"
   ]
  },
  {
   "cell_type": "code",
   "execution_count": 31,
   "id": "e3728e76",
   "metadata": {},
   "outputs": [
    {
     "data": {
      "text/plain": [
       "array([0.05399097, 0.24197072, 0.39894228, 0.24197072, 0.05399097])"
      ]
     },
     "execution_count": 31,
     "metadata": {},
     "output_type": "execute_result"
    }
   ],
   "source": [
    "dist = norm.pdf(p)\n",
    "dist"
   ]
  },
  {
   "cell_type": "code",
   "execution_count": 32,
   "id": "c99fdb54",
   "metadata": {},
   "outputs": [
    {
     "data": {
      "text/plain": [
       "array([0.05448868, 0.24420134, 0.40261995, 0.24420134, 0.05448868])"
      ]
     },
     "execution_count": 32,
     "metadata": {},
     "output_type": "execute_result"
    }
   ],
   "source": [
    "dist = dist/sum(dist)\n",
    "dist"
   ]
  },
  {
   "cell_type": "code",
   "execution_count": 33,
   "id": "4080015c",
   "metadata": {},
   "outputs": [
    {
     "data": {
      "text/plain": [
       "array([0.05448868, 0.29869003, 0.70130997, 0.94551132, 1.        ])"
      ]
     },
     "execution_count": 33,
     "metadata": {},
     "output_type": "execute_result"
    }
   ],
   "source": [
    "cum_dist = dist.cumsum()\n",
    "cum_dist"
   ]
  },
  {
   "cell_type": "code",
   "execution_count": null,
   "id": "9307345a",
   "metadata": {},
   "outputs": [],
   "source": []
  },
  {
   "cell_type": "code",
   "execution_count": null,
   "id": "bc87b71e",
   "metadata": {},
   "outputs": [],
   "source": []
  },
  {
   "cell_type": "code",
   "execution_count": null,
   "id": "b05d842a",
   "metadata": {},
   "outputs": [],
   "source": []
  },
  {
   "cell_type": "code",
   "execution_count": 28,
   "id": "2c83c709",
   "metadata": {},
   "outputs": [
    {
     "name": "stdout",
     "output_type": "stream",
     "text": [
      "Selected Jupyter core packages...\n",
      "IPython          : 8.2.0\n",
      "ipykernel        : 6.9.1\n",
      "ipywidgets       : 7.6.5\n",
      "jupyter_client   : 6.1.12\n",
      "jupyter_core     : 4.9.2\n",
      "jupyter_server   : 1.13.5\n",
      "jupyterlab       : 3.3.2\n",
      "nbclient         : 0.5.13\n",
      "nbconvert        : 6.4.4\n",
      "nbformat         : 5.3.0\n",
      "notebook         : 6.4.8\n",
      "qtconsole        : 5.3.0\n",
      "traitlets        : 5.1.1\n"
     ]
    }
   ],
   "source": [
    "!jupyter --version"
   ]
  },
  {
   "cell_type": "code",
   "execution_count": 29,
   "id": "086312a8",
   "metadata": {},
   "outputs": [
    {
     "name": "stdout",
     "output_type": "stream",
     "text": [
      "Requirement already satisfied: notebook in c:\\users\\reide\\anaconda3\\lib\\site-packages (6.4.8)\n",
      "Collecting notebook\n",
      "  Downloading notebook-6.5.2-py3-none-any.whl (439 kB)\n",
      "Requirement already satisfied: traitlets>=4.2.1 in c:\\users\\reide\\anaconda3\\lib\\site-packages (from notebook) (5.1.1)\n",
      "Requirement already satisfied: terminado>=0.8.3 in c:\\users\\reide\\anaconda3\\lib\\site-packages (from notebook) (0.13.1)\n",
      "Requirement already satisfied: jupyter-core>=4.6.1 in c:\\users\\reide\\anaconda3\\lib\\site-packages (from notebook) (4.9.2)\n",
      "Requirement already satisfied: nbconvert>=5 in c:\\users\\reide\\anaconda3\\lib\\site-packages (from notebook) (6.4.4)\n",
      "Requirement already satisfied: pyzmq>=17 in c:\\users\\reide\\anaconda3\\lib\\site-packages (from notebook) (22.3.0)\n",
      "Requirement already satisfied: nest-asyncio>=1.5 in c:\\users\\reide\\anaconda3\\lib\\site-packages (from notebook) (1.5.5)\n",
      "Requirement already satisfied: jinja2 in c:\\users\\reide\\anaconda3\\lib\\site-packages (from notebook) (2.11.3)\n",
      "Requirement already satisfied: ipython-genutils in c:\\users\\reide\\anaconda3\\lib\\site-packages (from notebook) (0.2.0)\n",
      "Collecting nbclassic>=0.4.7\n",
      "  Downloading nbclassic-0.4.8-py3-none-any.whl (9.8 MB)\n",
      "Requirement already satisfied: Send2Trash>=1.8.0 in c:\\users\\reide\\anaconda3\\lib\\site-packages (from notebook) (1.8.0)\n",
      "Requirement already satisfied: argon2-cffi in c:\\users\\reide\\anaconda3\\lib\\site-packages (from notebook) (21.3.0)\n",
      "Requirement already satisfied: tornado>=6.1 in c:\\users\\reide\\anaconda3\\lib\\site-packages (from notebook) (6.1)\n",
      "Requirement already satisfied: ipykernel in c:\\users\\reide\\anaconda3\\lib\\site-packages (from notebook) (6.9.1)\n",
      "Requirement already satisfied: nbformat in c:\\users\\reide\\anaconda3\\lib\\site-packages (from notebook) (5.3.0)\n",
      "Requirement already satisfied: prometheus-client in c:\\users\\reide\\anaconda3\\lib\\site-packages (from notebook) (0.13.1)\n",
      "Requirement already satisfied: jupyter-client>=5.3.4 in c:\\users\\reide\\anaconda3\\lib\\site-packages (from notebook) (6.1.12)\n",
      "Requirement already satisfied: python-dateutil>=2.1 in c:\\users\\reide\\anaconda3\\lib\\site-packages (from jupyter-client>=5.3.4->notebook) (2.8.2)\n",
      "Requirement already satisfied: pywin32>=1.0 in c:\\users\\reide\\anaconda3\\lib\\site-packages (from jupyter-core>=4.6.1->notebook) (302)\n",
      "Collecting notebook-shim>=0.1.0\n",
      "  Downloading notebook_shim-0.2.2-py3-none-any.whl (13 kB)\n",
      "Requirement already satisfied: jupyter-server>=1.8 in c:\\users\\reide\\anaconda3\\lib\\site-packages (from nbclassic>=0.4.7->notebook) (1.13.5)\n",
      "Requirement already satisfied: websocket-client in c:\\users\\reide\\anaconda3\\lib\\site-packages (from jupyter-server>=1.8->nbclassic>=0.4.7->notebook) (0.58.0)\n",
      "Collecting pywinpty<2\n",
      "  Downloading pywinpty-1.1.6-cp39-none-win_amd64.whl (1.4 MB)\n",
      "Requirement already satisfied: anyio<4,>=3.1.0 in c:\\users\\reide\\anaconda3\\lib\\site-packages (from jupyter-server>=1.8->nbclassic>=0.4.7->notebook) (3.5.0)\n",
      "Requirement already satisfied: packaging in c:\\users\\reide\\anaconda3\\lib\\site-packages (from jupyter-server>=1.8->nbclassic>=0.4.7->notebook) (21.3)\n",
      "Requirement already satisfied: sniffio>=1.1 in c:\\users\\reide\\anaconda3\\lib\\site-packages (from anyio<4,>=3.1.0->jupyter-server>=1.8->nbclassic>=0.4.7->notebook) (1.2.0)\n",
      "Requirement already satisfied: idna>=2.8 in c:\\users\\reide\\anaconda3\\lib\\site-packages (from anyio<4,>=3.1.0->jupyter-server>=1.8->nbclassic>=0.4.7->notebook) (3.3)\n",
      "Requirement already satisfied: mistune<2,>=0.8.1 in c:\\users\\reide\\anaconda3\\lib\\site-packages (from nbconvert>=5->notebook) (0.8.4)\n",
      "Requirement already satisfied: bleach in c:\\users\\reide\\anaconda3\\lib\\site-packages (from nbconvert>=5->notebook) (4.1.0)\n",
      "Requirement already satisfied: pygments>=2.4.1 in c:\\users\\reide\\anaconda3\\lib\\site-packages (from nbconvert>=5->notebook) (2.11.2)\n",
      "Requirement already satisfied: pandocfilters>=1.4.1 in c:\\users\\reide\\anaconda3\\lib\\site-packages (from nbconvert>=5->notebook) (1.5.0)\n",
      "Requirement already satisfied: testpath in c:\\users\\reide\\anaconda3\\lib\\site-packages (from nbconvert>=5->notebook) (0.5.0)\n",
      "Requirement already satisfied: entrypoints>=0.2.2 in c:\\users\\reide\\anaconda3\\lib\\site-packages (from nbconvert>=5->notebook) (0.4)\n",
      "Requirement already satisfied: defusedxml in c:\\users\\reide\\anaconda3\\lib\\site-packages (from nbconvert>=5->notebook) (0.7.1)\n",
      "Requirement already satisfied: nbclient<0.6.0,>=0.5.0 in c:\\users\\reide\\anaconda3\\lib\\site-packages (from nbconvert>=5->notebook) (0.5.13)\n",
      "Requirement already satisfied: beautifulsoup4 in c:\\users\\reide\\anaconda3\\lib\\site-packages (from nbconvert>=5->notebook) (4.11.1)\n",
      "Requirement already satisfied: jupyterlab-pygments in c:\\users\\reide\\anaconda3\\lib\\site-packages (from nbconvert>=5->notebook) (0.1.2)\n",
      "Requirement already satisfied: MarkupSafe>=0.23 in c:\\users\\reide\\anaconda3\\lib\\site-packages (from jinja2->notebook) (2.0.1)\n",
      "Requirement already satisfied: fastjsonschema in c:\\users\\reide\\anaconda3\\lib\\site-packages (from nbformat->notebook) (2.15.1)\n",
      "Requirement already satisfied: jsonschema>=2.6 in c:\\users\\reide\\anaconda3\\lib\\site-packages (from nbformat->notebook) (4.4.0)\n",
      "Requirement already satisfied: attrs>=17.4.0 in c:\\users\\reide\\anaconda3\\lib\\site-packages (from jsonschema>=2.6->nbformat->notebook) (21.4.0)\n",
      "Requirement already satisfied: pyrsistent!=0.17.0,!=0.17.1,!=0.17.2,>=0.14.0 in c:\\users\\reide\\anaconda3\\lib\\site-packages (from jsonschema>=2.6->nbformat->notebook) (0.18.0)\n",
      "Requirement already satisfied: six>=1.5 in c:\\users\\reide\\anaconda3\\lib\\site-packages (from python-dateutil>=2.1->jupyter-client>=5.3.4->notebook) (1.16.0)\n",
      "Requirement already satisfied: argon2-cffi-bindings in c:\\users\\reide\\anaconda3\\lib\\site-packages (from argon2-cffi->notebook) (21.2.0)\n",
      "Requirement already satisfied: cffi>=1.0.1 in c:\\users\\reide\\anaconda3\\lib\\site-packages (from argon2-cffi-bindings->argon2-cffi->notebook) (1.15.0)\n",
      "Requirement already satisfied: pycparser in c:\\users\\reide\\anaconda3\\lib\\site-packages (from cffi>=1.0.1->argon2-cffi-bindings->argon2-cffi->notebook) (2.21)\n",
      "Requirement already satisfied: soupsieve>1.2 in c:\\users\\reide\\anaconda3\\lib\\site-packages (from beautifulsoup4->nbconvert>=5->notebook) (2.3.1)\n",
      "Requirement already satisfied: webencodings in c:\\users\\reide\\anaconda3\\lib\\site-packages (from bleach->nbconvert>=5->notebook) (0.5.1)\n",
      "Requirement already satisfied: debugpy<2.0,>=1.0.0 in c:\\users\\reide\\anaconda3\\lib\\site-packages (from ipykernel->notebook) (1.5.1)\n",
      "Requirement already satisfied: ipython>=7.23.1 in c:\\users\\reide\\anaconda3\\lib\\site-packages (from ipykernel->notebook) (8.2.0)\n",
      "Requirement already satisfied: matplotlib-inline<0.2.0,>=0.1.0 in c:\\users\\reide\\anaconda3\\lib\\site-packages (from ipykernel->notebook) (0.1.2)\n",
      "Requirement already satisfied: setuptools>=18.5 in c:\\users\\reide\\anaconda3\\lib\\site-packages (from ipython>=7.23.1->ipykernel->notebook) (61.2.0)\n",
      "Requirement already satisfied: backcall in c:\\users\\reide\\anaconda3\\lib\\site-packages (from ipython>=7.23.1->ipykernel->notebook) (0.2.0)\n",
      "Requirement already satisfied: jedi>=0.16 in c:\\users\\reide\\anaconda3\\lib\\site-packages (from ipython>=7.23.1->ipykernel->notebook) (0.18.1)\n",
      "Requirement already satisfied: pickleshare in c:\\users\\reide\\anaconda3\\lib\\site-packages (from ipython>=7.23.1->ipykernel->notebook) (0.7.5)\n",
      "Requirement already satisfied: decorator in c:\\users\\reide\\anaconda3\\lib\\site-packages (from ipython>=7.23.1->ipykernel->notebook) (5.1.1)\n",
      "Requirement already satisfied: stack-data in c:\\users\\reide\\anaconda3\\lib\\site-packages (from ipython>=7.23.1->ipykernel->notebook) (0.2.0)\n",
      "Requirement already satisfied: colorama in c:\\users\\reide\\anaconda3\\lib\\site-packages (from ipython>=7.23.1->ipykernel->notebook) (0.4.4)\n",
      "Requirement already satisfied: prompt-toolkit!=3.0.0,!=3.0.1,<3.1.0,>=2.0.0 in c:\\users\\reide\\anaconda3\\lib\\site-packages (from ipython>=7.23.1->ipykernel->notebook) (3.0.20)\n",
      "Requirement already satisfied: parso<0.9.0,>=0.8.0 in c:\\users\\reide\\anaconda3\\lib\\site-packages (from jedi>=0.16->ipython>=7.23.1->ipykernel->notebook) (0.8.3)\n",
      "Requirement already satisfied: wcwidth in c:\\users\\reide\\anaconda3\\lib\\site-packages (from prompt-toolkit!=3.0.0,!=3.0.1,<3.1.0,>=2.0.0->ipython>=7.23.1->ipykernel->notebook) (0.2.5)\n",
      "Requirement already satisfied: pyparsing!=3.0.5,>=2.0.2 in c:\\users\\reide\\anaconda3\\lib\\site-packages (from packaging->jupyter-server>=1.8->nbclassic>=0.4.7->notebook) (3.0.4)\n",
      "Requirement already satisfied: executing in c:\\users\\reide\\anaconda3\\lib\\site-packages (from stack-data->ipython>=7.23.1->ipykernel->notebook) (0.8.3)\n",
      "Requirement already satisfied: pure-eval in c:\\users\\reide\\anaconda3\\lib\\site-packages (from stack-data->ipython>=7.23.1->ipykernel->notebook) (0.2.2)\n",
      "Requirement already satisfied: asttokens in c:\\users\\reide\\anaconda3\\lib\\site-packages (from stack-data->ipython>=7.23.1->ipykernel->notebook) (2.0.5)\n",
      "Installing collected packages: pywinpty, notebook-shim, nbclassic, notebook\n",
      "  Attempting uninstall: pywinpty\n",
      "    Found existing installation: pywinpty 2.0.2\n",
      "    Uninstalling pywinpty-2.0.2:\n",
      "      Successfully uninstalled pywinpty-2.0.2\n",
      "  Attempting uninstall: nbclassic\n",
      "    Found existing installation: nbclassic 0.3.5\n",
      "    Uninstalling nbclassic-0.3.5:\n",
      "      Successfully uninstalled nbclassic-0.3.5\n",
      "  Attempting uninstall: notebook\n",
      "    Found existing installation: notebook 6.4.8\n",
      "    Uninstalling notebook-6.4.8:\n",
      "      Successfully uninstalled notebook-6.4.8\n",
      "Successfully installed nbclassic-0.4.8 notebook-6.5.2 notebook-shim-0.2.2 pywinpty-1.1.6\n"
     ]
    }
   ],
   "source": [
    "!pip install notebook --upgrade"
   ]
  },
  {
   "cell_type": "code",
   "execution_count": 30,
   "id": "000ad4c1",
   "metadata": {},
   "outputs": [
    {
     "name": "stdout",
     "output_type": "stream",
     "text": [
      "Selected Jupyter core packages...\n",
      "IPython          : 8.2.0\n",
      "ipykernel        : 6.9.1\n",
      "ipywidgets       : 7.6.5\n",
      "jupyter_client   : 6.1.12\n",
      "jupyter_core     : 4.9.2\n",
      "jupyter_server   : 1.13.5\n",
      "jupyterlab       : 3.3.2\n",
      "nbclient         : 0.5.13\n",
      "nbconvert        : 6.4.4\n",
      "nbformat         : 5.3.0\n",
      "notebook         : 6.5.2\n",
      "qtconsole        : 5.3.0\n",
      "traitlets        : 5.1.1\n"
     ]
    }
   ],
   "source": [
    "!jupyter --version"
   ]
  },
  {
   "cell_type": "code",
   "execution_count": null,
   "id": "d82f594d",
   "metadata": {},
   "outputs": [],
   "source": []
  },
  {
   "cell_type": "code",
   "execution_count": null,
   "id": "8901503e",
   "metadata": {},
   "outputs": [],
   "source": []
  },
  {
   "cell_type": "code",
   "execution_count": null,
   "id": "72462ea0",
   "metadata": {},
   "outputs": [],
   "source": []
  },
  {
   "cell_type": "markdown",
   "id": "3021a196",
   "metadata": {},
   "source": [
    "## Dynamic Programming Solution"
   ]
  },
  {
   "cell_type": "code",
   "execution_count": 112,
   "id": "f34f747e",
   "metadata": {},
   "outputs": [],
   "source": [
    "V = np.zeros((nW, T+1))\n",
    "A = np.zeros((nW, T))"
   ]
  },
  {
   "cell_type": "code",
   "execution_count": 113,
   "id": "9c67bdc1",
   "metadata": {},
   "outputs": [
    {
     "ename": "NameError",
     "evalue": "name 'W_matrix' is not defined",
     "output_type": "error",
     "traceback": [
      "\u001b[1;31m---------------------------------------------------------------------------\u001b[0m",
      "\u001b[1;31mNameError\u001b[0m                                 Traceback (most recent call last)",
      "Input \u001b[1;32mIn [113]\u001b[0m, in \u001b[0;36m<cell line: 1>\u001b[1;34m()\u001b[0m\n\u001b[0;32m      1\u001b[0m \u001b[38;5;28;01mfor\u001b[39;00m j \u001b[38;5;129;01min\u001b[39;00m \u001b[38;5;28mrange\u001b[39m(nW):\n\u001b[1;32m----> 2\u001b[0m     \u001b[38;5;28;01mif\u001b[39;00m \u001b[43mW_matrix\u001b[49m[j, T] \u001b[38;5;241m>\u001b[39m H:\n\u001b[0;32m      3\u001b[0m         V[j, T] \u001b[38;5;241m=\u001b[39m \u001b[38;5;241m1\u001b[39m\n",
      "\u001b[1;31mNameError\u001b[0m: name 'W_matrix' is not defined"
     ]
    }
   ],
   "source": [
    "for j in range(nW):\n",
    "    if W_matrix[j, T] > H:\n",
    "        V[j, T] = 1"
   ]
  },
  {
   "cell_type": "code",
   "execution_count": 220,
   "id": "6565c6e0",
   "metadata": {},
   "outputs": [],
   "source": [
    "# Maximize Expected utility of terminal wealth\n",
    "for j in range(nW):\n",
    "    V[j, T] = log(W_matrix[j,T])"
   ]
  },
  {
   "cell_type": "code",
   "execution_count": 282,
   "id": "543be27f",
   "metadata": {},
   "outputs": [],
   "source": [
    "for t in range(T-1, -1, -1):\n",
    "    for j in range(nW):\n",
    "        maxEV = 0\n",
    "        maxA = -1\n",
    "        for a in range(nA):\n",
    "            mu = mu_Das[a]\n",
    "            sig = sig_Das[a]\n",
    "            W_next_dist = norm.pdf((np.log(W_matrix[:,t+1]/W_matrix[j,t]) - (mu-0.5*sig*sig))/sig)\n",
    "            W_next_dist = W_next_dist/sum(W_next_dist)\n",
    "            EV = np.dot(W_next_dist, V[:, t+1])\n",
    "            if(EV > maxEV):\n",
    "                maxEV = EV\n",
    "                maxA = a\n",
    "        V[j,t] = maxEV\n",
    "        A[j,t] = maxA"
   ]
  },
  {
   "cell_type": "code",
   "execution_count": 283,
   "id": "c48c43a1",
   "metadata": {},
   "outputs": [
    {
     "data": {
      "text/plain": [
       "0.7330788202088148"
      ]
     },
     "execution_count": 283,
     "metadata": {},
     "output_type": "execute_result"
    }
   ],
   "source": [
    "V[50,0]"
   ]
  },
  {
   "cell_type": "code",
   "execution_count": 284,
   "id": "aad20618",
   "metadata": {},
   "outputs": [
    {
     "data": {
      "text/plain": [
       "14.0"
      ]
     },
     "execution_count": 284,
     "metadata": {},
     "output_type": "execute_result"
    }
   ],
   "source": [
    "A[50,0]"
   ]
  },
  {
   "cell_type": "code",
   "execution_count": 285,
   "id": "b6ac0022",
   "metadata": {},
   "outputs": [
    {
     "data": {
      "text/plain": [
       "array([1.51356836e-61, 2.68418845e-59, 4.39300711e-57, 6.58690373e-55,\n",
       "       8.99911658e-53, 1.11620139e-50, 1.25425427e-48, 1.27541510e-46,\n",
       "       1.17306924e-44, 9.75700151e-43, 7.33841085e-41, 4.99086088e-39,\n",
       "       3.06930219e-37, 1.70687012e-35, 8.58351598e-34, 3.90339213e-32,\n",
       "       1.60524260e-30, 5.96995594e-29, 2.00791445e-27, 6.10767601e-26,\n",
       "       1.68026640e-24, 4.18088400e-23, 9.40945343e-22, 1.91552474e-20,\n",
       "       3.52745616e-19, 5.87641374e-18, 8.85665610e-17, 1.20772366e-15,\n",
       "       1.49019786e-14, 1.66395748e-13, 1.68155774e-12, 1.53818621e-11,\n",
       "       1.27379050e-10, 9.55109020e-10, 6.48572874e-09, 3.98945675e-08,\n",
       "       2.22347288e-07, 1.12317061e-06, 5.14411590e-06, 2.13702461e-05,\n",
       "       8.05671531e-05, 2.75811916e-04, 8.57989113e-04, 2.42735989e-03,\n",
       "       6.25199242e-03, 1.46784865e-02, 3.14625272e-02, 6.16855526e-02,\n",
       "       1.10886181e-01, 1.83295462e-01, 2.79635840e-01, 3.95516974e-01,\n",
       "       5.21527619e-01, 6.45404928e-01, 7.93518507e-01, 9.19226801e-01,\n",
       "       9.77829809e-01, 9.95725373e-01, 9.99418784e-01, 9.99945990e-01,\n",
       "       9.99996578e-01, 9.99999851e-01, 9.99999996e-01, 1.00000000e+00,\n",
       "       1.00000000e+00, 1.00000000e+00, 1.00000000e+00, 1.00000000e+00,\n",
       "       1.00000000e+00, 1.00000000e+00, 1.00000000e+00, 1.00000000e+00,\n",
       "       1.00000000e+00, 1.00000000e+00, 1.00000000e+00, 1.00000000e+00,\n",
       "       1.00000000e+00, 1.00000000e+00, 1.00000000e+00, 1.00000000e+00,\n",
       "       1.00000000e+00, 1.00000000e+00, 1.00000000e+00, 1.00000000e+00,\n",
       "       1.00000000e+00, 1.00000000e+00, 1.00000000e+00, 1.00000000e+00,\n",
       "       1.00000000e+00, 1.00000000e+00, 1.00000000e+00, 1.00000000e+00,\n",
       "       1.00000000e+00, 1.00000000e+00, 1.00000000e+00, 1.00000000e+00,\n",
       "       1.00000000e+00, 1.00000000e+00, 1.00000000e+00, 1.00000000e+00,\n",
       "       1.00000000e+00])"
      ]
     },
     "execution_count": 285,
     "metadata": {},
     "output_type": "execute_result"
    }
   ],
   "source": [
    "V[:,9]"
   ]
  },
  {
   "cell_type": "code",
   "execution_count": 286,
   "id": "6207742b",
   "metadata": {},
   "outputs": [
    {
     "data": {
      "text/plain": [
       "array([0.10456652, 0.11105884, 0.11787167, 0.12500658, 0.13246469,\n",
       "       0.14024666, 0.14835274, 0.15678275, 0.16553605, 0.17461148,\n",
       "       0.18400736, 0.19372141, 0.20375069, 0.21409157, 0.22473967,\n",
       "       0.23568982, 0.24693605, 0.25847152, 0.27028854, 0.28237854,\n",
       "       0.29473209, 0.30733887, 0.32018772, 0.33326663, 0.34656278,\n",
       "       0.36006257, 0.37375165, 0.38761495, 0.40163677, 0.41580077,\n",
       "       0.43009007, 0.44448729, 0.4589746 , 0.4735338 , 0.4881464 ,\n",
       "       0.50279364, 0.51745661, 0.5321163 , 0.54675366, 0.5613497 ,\n",
       "       0.57588555, 0.59034251, 0.60470215, 0.6189464 , 0.63305753,\n",
       "       0.64701832, 0.66081207, 0.67442263, 0.68783454, 0.70103299,\n",
       "       0.71400392, 0.72673406, 0.73921093, 0.75142293, 0.76335928,\n",
       "       0.77501013, 0.78636651, 0.79742034, 0.80816447, 0.81859265,\n",
       "       0.8286995 , 0.83848053, 0.84793213, 0.85705152, 0.86583674,\n",
       "       0.87428666, 0.8824009 , 0.89017987, 0.89763442, 0.9048106 ,\n",
       "       0.91170394, 0.91826331, 0.92449248, 0.9303959 , 0.93602403,\n",
       "       0.94133618, 0.94636392, 0.95109872, 0.95553147, 0.95967418,\n",
       "       0.96356237, 0.96720097, 0.9705672 , 0.97367   , 0.97652046,\n",
       "       0.97913014, 0.98152226, 0.98370481, 0.98568   , 0.98746067,\n",
       "       0.98906853, 0.99050987, 0.99179257, 0.9929293 , 0.99393237,\n",
       "       0.99481839, 0.99559447, 0.99626965, 0.99685439, 0.99735849,\n",
       "       0.99779106])"
      ]
     },
     "execution_count": 286,
     "metadata": {},
     "output_type": "execute_result"
    }
   ],
   "source": [
    "V[:,1]"
   ]
  },
  {
   "cell_type": "code",
   "execution_count": 287,
   "id": "133e96b3",
   "metadata": {},
   "outputs": [
    {
     "data": {
      "text/plain": [
       "array([14., 14., 14., 14., 14., 14., 14., 14., 14., 14., 14., 14., 14.,\n",
       "       14., 14., 14., 14., 14., 14., 14., 14., 14., 14., 14., 14., 14.,\n",
       "       14., 14., 14., 14., 14., 14., 14., 14., 14., 14., 14., 14., 14.,\n",
       "       14., 14., 14., 14., 14., 14., 14., 14., 14., 14., 14., 14., 14.,\n",
       "       14., 14., 14., 14., 14., 14., 14., 14., 14., 14., 14., 14., 14.,\n",
       "       14., 14., 14., 13., 12., 12., 12., 12., 12., 11., 11., 10., 10.,\n",
       "       10.,  9.,  9.,  8.,  8.,  8.,  8.,  8.,  7.,  7.,  7.,  7.,  6.,\n",
       "        6.,  6.,  6.,  6.,  5.,  5.,  5.,  5.,  5.,  5.])"
      ]
     },
     "execution_count": 287,
     "metadata": {},
     "output_type": "execute_result"
    }
   ],
   "source": [
    "A[:,1]"
   ]
  },
  {
   "cell_type": "code",
   "execution_count": 219,
   "id": "7b4d0ef3",
   "metadata": {},
   "outputs": [
    {
     "data": {
      "text/plain": [
       "0.022750131948179195"
      ]
     },
     "execution_count": 219,
     "metadata": {},
     "output_type": "execute_result"
    }
   ],
   "source": [
    "norm.cdf(-2)"
   ]
  },
  {
   "cell_type": "code",
   "execution_count": 288,
   "id": "940cdf9c",
   "metadata": {},
   "outputs": [
    {
     "data": {
      "text/plain": [
       "[<matplotlib.lines.Line2D at 0x27b80f6c0a0>]"
      ]
     },
     "execution_count": 288,
     "metadata": {},
     "output_type": "execute_result"
    },
    {
     "data": {
      "image/png": "[encoded data removed]",
      "text/plain": [
       "<Figure size 432x288 with 1 Axes>"
      ]
     },
     "metadata": {
      "needs_background": "light"
     },
     "output_type": "display_data"
    }
   ],
   "source": [
    "optimalA = np.zeros(nW)\n",
    "for w in range(nW):\n",
    "    optimalA[w] = A[w,1]\n",
    "plt.plot(optimalA)"
   ]
  },
  {
   "cell_type": "code",
   "execution_count": 232,
   "id": "5bdea661",
   "metadata": {},
   "outputs": [
    {
     "name": "stdout",
     "output_type": "stream",
     "text": [
      "0 14.0\n",
      "1 14.0\n",
      "2 14.0\n",
      "3 14.0\n",
      "4 14.0\n",
      "5 14.0\n",
      "6 14.0\n",
      "7 14.0\n",
      "8 14.0\n",
      "9 14.0\n"
     ]
    }
   ],
   "source": [
    "path1 = [50, 50, 50, 50, 50, 50, 50, 50, 50, 50]\n",
    "window = 0\n",
    "for t,w in enumerate(path1):\n",
    "    optimalA = np.zeros(2*window+1)\n",
    "    for i in range(w-window, w+window+1):\n",
    "        optimalA[i-w+window] = A[i,t]\n",
    "    avg_A = optimalA.mean()\n",
    "    print(t, avg_A)"
   ]
  },
  {
   "cell_type": "code",
   "execution_count": 233,
   "id": "80cfcef8",
   "metadata": {},
   "outputs": [
    {
     "name": "stdout",
     "output_type": "stream",
     "text": [
      "0 14.0\n",
      "1 14.0\n",
      "2 14.0\n",
      "3 14.0\n",
      "4 14.0\n",
      "5 14.0\n",
      "6 11.0\n",
      "7 7.0\n",
      "8 3.0\n",
      "9 1.0\n"
     ]
    }
   ],
   "source": [
    "path2 = [0, 51, 52, 53, 54, 55, 56, 57, 58, 59]\n",
    "window = 0\n",
    "for t,w in enumerate(path2):\n",
    "    optimalA = np.zeros(2*window+1)\n",
    "    for i in range(w-window, w+window+1):\n",
    "        optimalA[i-w+window] = A[i,t]\n",
    "    avg_A = optimalA.mean()\n",
    "    print(t, avg_A)"
   ]
  },
  {
   "cell_type": "markdown",
   "id": "ce42e1c0",
   "metadata": {},
   "source": [
    "This is the dynamic programming solution when I estimate next period's distribution slightly differently from Das"
   ]
  },
  {
   "cell_type": "code",
   "execution_count": 289,
   "id": "081d54ef",
   "metadata": {},
   "outputs": [],
   "source": [
    "V = np.zeros((nW, T+1))\n",
    "A = np.zeros((nW, T))"
   ]
  },
  {
   "cell_type": "code",
   "execution_count": 290,
   "id": "7b833f8a",
   "metadata": {},
   "outputs": [],
   "source": [
    "for j in range(nW):\n",
    "    if W_matrix[j, T] > H:\n",
    "        V[j, T] = 1"
   ]
  },
  {
   "cell_type": "code",
   "execution_count": 291,
   "id": "64cfd974",
   "metadata": {},
   "outputs": [],
   "source": [
    "for t in range(T-1, -1, -1):\n",
    "    for j in range(nW):\n",
    "        maxEV = 0\n",
    "        maxA = -1\n",
    "        for a in range(nA):\n",
    "            mu = mu_Das[a]\n",
    "            sig = sig_Das[a]\n",
    "            W_next_dist = np.zeros(nW)\n",
    "            mids = [0.000001]\n",
    "            for i in range(nW-1):\n",
    "                mids.append((W_matrix[i,t+1]+W_matrix[i+1,t+1])/2.)\n",
    "            mids.append(np.inf)\n",
    "            for i in range(nW):\n",
    "                W_next_dist[i] = (norm.cdf(log(mids[i+1])-log(W_matrix[j,t]), loc=mu-0.5*sig*sig, scale=sig) \n",
    "                      - norm.cdf(log(mids[i])-log(W_matrix[j,t]), loc=mu-0.5*sig*sig, scale=sig))\n",
    "            EV = np.dot(W_next_dist, V[:, t+1])\n",
    "            if(EV > maxEV):\n",
    "                maxEV = EV\n",
    "                maxA = a\n",
    "        V[j,t] = maxEV\n",
    "        A[j,t] = maxA"
   ]
  },
  {
   "cell_type": "code",
   "execution_count": 292,
   "id": "9bd18fcd",
   "metadata": {},
   "outputs": [
    {
     "data": {
      "text/plain": [
       "0.7312122012652977"
      ]
     },
     "execution_count": 292,
     "metadata": {},
     "output_type": "execute_result"
    }
   ],
   "source": [
    "V[50,0]"
   ]
  },
  {
   "cell_type": "code",
   "execution_count": 293,
   "id": "0cab8beb",
   "metadata": {},
   "outputs": [
    {
     "data": {
      "text/plain": [
       "14.0"
      ]
     },
     "execution_count": 293,
     "metadata": {},
     "output_type": "execute_result"
    }
   ],
   "source": [
    "A[50,0]"
   ]
  },
  {
   "cell_type": "code",
   "execution_count": 337,
   "id": "ed191e5c",
   "metadata": {},
   "outputs": [
    {
     "data": {
      "text/plain": [
       "[<matplotlib.lines.Line2D at 0x198c6fe7ee0>]"
      ]
     },
     "execution_count": 337,
     "metadata": {},
     "output_type": "execute_result"
    },
    {
     "data": {
      "image/png": "[encoded data removed]",
      "text/plain": [
       "<Figure size 432x288 with 1 Axes>"
      ]
     },
     "metadata": {
      "needs_background": "light"
     },
     "output_type": "display_data"
    }
   ],
   "source": [
    "optimalA = np.zeros(nW)\n",
    "for w in range(nW):\n",
    "    optimalA[w] = A[w,0]\n",
    "plt.plot(optimalA)"
   ]
  },
  {
   "cell_type": "code",
   "execution_count": 295,
   "id": "96ee42f2",
   "metadata": {},
   "outputs": [
    {
     "data": {
      "text/plain": [
       "array([14., 14., 14., 14., 14., 14., 14., 14., 14., 14., 14., 14., 14.,\n",
       "       14., 14., 14., 14., 14., 14., 14., 14., 14., 14., 14., 14., 14.,\n",
       "       14., 14., 14., 14., 14., 14., 14., 14., 14., 14., 14., 14., 14.,\n",
       "       14., 14., 14., 14., 14., 14., 14., 14., 14., 14., 14., 14., 14.,\n",
       "       14., 14., 14., 14., 14., 14., 14., 14., 14., 14., 14., 14., 14.,\n",
       "       14., 14., 14., 14., 13., 12., 12., 12., 12., 11., 11., 10., 10.,\n",
       "       10., 10.,  9.,  8.,  8.,  8.,  8.,  8.,  7.,  7.,  7.,  7.,  6.,\n",
       "        6.,  6.,  6.,  6.,  5.,  5.,  5.,  5.,  5.,  5.])"
      ]
     },
     "execution_count": 295,
     "metadata": {},
     "output_type": "execute_result"
    }
   ],
   "source": [
    "optimalA"
   ]
  },
  {
   "cell_type": "code",
   "execution_count": null,
   "id": "8d1c93f8",
   "metadata": {},
   "outputs": [],
   "source": []
  },
  {
   "cell_type": "code",
   "execution_count": null,
   "id": "01d8aea6",
   "metadata": {},
   "outputs": [],
   "source": []
  },
  {
   "cell_type": "code",
   "execution_count": null,
   "id": "2eb2b4ee",
   "metadata": {},
   "outputs": [],
   "source": []
  },
  {
   "cell_type": "code",
   "execution_count": null,
   "id": "18caef40",
   "metadata": {},
   "outputs": [],
   "source": []
  },
  {
   "cell_type": "markdown",
   "id": "418e1ae1",
   "metadata": {},
   "source": [
    "### Comparison of prob distribution methods"
   ]
  },
  {
   "cell_type": "code",
   "execution_count": 275,
   "id": "52966189",
   "metadata": {},
   "outputs": [
    {
     "data": {
      "text/plain": [
       "array([8.82008819e-09, 1.57738521e-08, 2.78958384e-08, 4.87840541e-08,\n",
       "       8.43632252e-08, 1.44266427e-07, 2.43957511e-07, 4.07943416e-07,\n",
       "       6.74562941e-07, 1.10301608e-06, 1.78352018e-06, 2.85174721e-06,\n",
       "       4.50900628e-06, 7.04997327e-06, 1.09001109e-05, 1.66652249e-05,\n",
       "       2.51958062e-05, 3.76688319e-05, 5.56894418e-05, 8.14142435e-05,\n",
       "       1.17696822e-04, 1.68254192e-04, 2.37850391e-04, 3.32490056e-04,\n",
       "       4.59610845e-04, 6.28258961e-04, 8.49227269e-04, 1.13513101e-03,\n",
       "       1.50039241e-03, 1.96110364e-03, 2.53473785e-03, 3.23968191e-03,\n",
       "       4.09457194e-03, 5.11742467e-03, 6.32457325e-03, 7.72943610e-03,\n",
       "       9.34116862e-03, 1.11632700e-02, 1.31922375e-02, 1.54163765e-02,\n",
       "       1.78148830e-02, 2.03573130e-02, 2.30035441e-02, 2.57043049e-02,\n",
       "       2.84023185e-02, 3.10340560e-02, 3.35320496e-02, 3.58276628e-02,\n",
       "       3.78541650e-02, 3.95499265e-02, 4.08615189e-02, 4.17465074e-02,\n",
       "       4.21757297e-02, 4.21348914e-02, 4.16253568e-02, 4.06640729e-02,\n",
       "       3.92826337e-02, 3.75255560e-02, 3.54478982e-02, 3.31124000e-02,\n",
       "       3.05863495e-02, 2.79383947e-02, 2.52355089e-02, 2.25402901e-02,\n",
       "       1.99087390e-02, 1.73886081e-02, 1.50183666e-02, 1.28267728e-02,\n",
       "       1.08330043e-02, 9.04726366e-03, 7.47175107e-03, 6.10188976e-03,\n",
       "       4.92768726e-03, 3.93512681e-03, 3.10750005e-03, 2.42661217e-03,\n",
       "       1.87381372e-03, 1.43083408e-03, 1.08041088e-03, 8.06724864e-04,\n",
       "       5.95660430e-04, 4.34919495e-04, 3.14018919e-04, 2.24202046e-04,\n",
       "       1.58292429e-04, 1.10514059e-04, 7.62977509e-05, 5.20886086e-05,\n",
       "       3.51649977e-05, 2.34755214e-05, 1.54973241e-05, 1.01166098e-05,\n",
       "       6.53055514e-06, 4.16871320e-06, 2.63142351e-06, 1.64254131e-06,\n",
       "       1.01386158e-06, 6.18839244e-07, 3.73519986e-07, 2.22939313e-07,\n",
       "       1.31581941e-07])"
      ]
     },
     "execution_count": 275,
     "metadata": {},
     "output_type": "execute_result"
    }
   ],
   "source": [
    "W_next_dist = norm.pdf((np.log(W_matrix[:,1]/W_matrix[50,0]) - (mu-0.5*sig*sig))/sig)\n",
    "W_next_dist = W_next_dist/sum(W_next_dist)\n",
    "W_next_dist"
   ]
  },
  {
   "cell_type": "code",
   "execution_count": 276,
   "id": "92f7cc47",
   "metadata": {},
   "outputs": [
    {
     "data": {
      "text/plain": [
       "array([1.97180588e-08, 1.59965580e-08, 2.82743350e-08, 4.94196354e-08,\n",
       "       8.54177167e-08, 1.45994894e-07, 2.46756535e-07, 4.12421172e-07,\n",
       "       6.81639164e-07, 1.11406214e-06, 1.80055170e-06, 2.87768383e-06,\n",
       "       4.54801473e-06, 7.10791058e-06, 1.09850833e-05, 1.67882748e-05,\n",
       "       2.53717307e-05, 3.79171279e-05, 5.60353502e-05, 8.18898482e-05,\n",
       "       1.18342125e-04, 1.69118058e-04, 2.38991210e-04, 3.33975953e-04,\n",
       "       4.61519225e-04, 6.30675159e-04, 8.52242102e-04, 1.13883702e-03,\n",
       "       1.50487873e-03, 1.96644936e-03, 2.54100410e-03, 3.24690291e-03,\n",
       "       4.10274552e-03, 5.12650278e-03, 6.33445356e-03, 7.73995542e-03,\n",
       "       9.35209921e-03, 1.11743198e-02, 1.32030550e-02, 1.54265608e-02,\n",
       "       1.78239989e-02, 2.03649115e-02, 2.30091860e-02, 2.57075880e-02,\n",
       "       2.84029048e-02, 3.10316977e-02, 3.35266117e-02, 3.58191392e-02,\n",
       "       3.78426879e-02, 3.95357662e-02, 4.08450748e-02, 4.17282896e-02,\n",
       "       4.21563327e-02, 4.21149623e-02, 4.16055591e-02, 4.06450498e-02,\n",
       "       3.92649736e-02, 3.75097624e-02, 3.54343660e-02, 3.31014008e-02,\n",
       "       3.05780249e-02, 2.79327592e-02, 2.52324602e-02, 2.25396260e-02,\n",
       "       1.99101789e-02, 1.73918175e-02, 1.50229812e-02, 1.28324217e-02,\n",
       "       1.08393308e-02, 9.05394112e-03, 7.47849494e-03, 6.10846495e-03,\n",
       "       4.93391100e-03, 3.94086790e-03, 3.11267505e-03, 2.43117953e-03,\n",
       "       1.87776662e-03, 1.43419279e-03, 1.08321531e-03, 8.09027682e-04,\n",
       "       5.97521181e-04, 4.36399815e-04, 3.15178904e-04, 2.25097697e-04,\n",
       "       1.58974068e-04, 1.11025529e-04, 7.66762268e-05, 5.23648589e-05,\n",
       "       3.53639249e-05, 2.36168679e-05, 1.55964391e-05, 1.01852084e-05,\n",
       "       6.57742187e-06, 4.20032392e-06, 2.65247425e-06, 1.65638341e-06,\n",
       "       1.02284981e-06, 6.24603141e-07, 3.77170534e-07, 2.25222950e-07,\n",
       "       3.13301739e-07])"
      ]
     },
     "execution_count": 276,
     "metadata": {},
     "output_type": "execute_result"
    }
   ],
   "source": [
    "W_next_dist2 = np.zeros(nW)\n",
    "mids = [0.000001]\n",
    "for i in range(nW-1):\n",
    "    mids.append((W_matrix[i,1]+W_matrix[i+1,1])/2.)\n",
    "mids.append(np.inf)\n",
    "for i in range(nW):\n",
    "    W_next_dist2[i] = (norm.cdf(log(mids[i+1])-log(W_matrix[50,0]), loc=mu-0.5*sig*sig, scale=sig) \n",
    "                      - norm.cdf(log(mids[i])-log(W_matrix[50,0]), loc=mu-0.5*sig*sig, scale=sig))\n",
    "W_next_dist2[:]"
   ]
  },
  {
   "cell_type": "code",
   "execution_count": 279,
   "id": "ead1d092",
   "metadata": {},
   "outputs": [
    {
     "data": {
      "text/plain": [
       "array([-1.08979706e-08, -2.22705825e-10, -3.78496602e-10, -6.35581280e-10,\n",
       "       -1.05449145e-09, -1.72846634e-09, -2.79902339e-09, -4.47775542e-09,\n",
       "       -7.07622257e-09, -1.10460573e-08, -1.70315198e-08, -2.59366233e-08,\n",
       "       -3.90084563e-08, -5.79373031e-08, -8.49724312e-08, -1.23049819e-07,\n",
       "       -1.75924535e-07, -2.48295922e-07, -3.45908393e-07, -4.75604770e-07,\n",
       "       -6.45303418e-07, -8.63865836e-07, -1.14081896e-06, -1.48589778e-06,\n",
       "       -1.90838013e-06, -2.41619843e-06, -3.01483269e-06, -3.70601647e-06,\n",
       "       -4.48632027e-06, -5.34571389e-06, -6.26624549e-06, -7.22100679e-06,\n",
       "       -8.17357304e-06, -9.07810933e-06, -9.88031306e-06, -1.05193156e-05,\n",
       "       -1.09305909e-05, -1.10498192e-05, -1.08175398e-05, -1.01843057e-05,\n",
       "       -9.11594113e-06, -7.59842268e-06, -5.64185898e-06, -3.28306111e-06,\n",
       "       -5.86269132e-07,  2.35826253e-06,  5.43792988e-06,  8.52358132e-06,\n",
       "        1.14771126e-05,  1.41602974e-05,  1.64441321e-05,  1.82178768e-05,\n",
       "        1.93969708e-05,  1.99290810e-05,  1.97977155e-05,  1.90230676e-05,\n",
       "        1.76600303e-05,  1.57936010e-05,  1.35321481e-05,  1.09992029e-05,\n",
       "        8.32455715e-06,  5.63547028e-06,  3.04872991e-06,  6.64171394e-07,\n",
       "       -1.43992722e-06, -3.20937522e-06, -4.61454138e-06, -5.64897568e-06,\n",
       "       -6.32653516e-06, -6.67745960e-06, -6.74387540e-06, -6.57518580e-06,\n",
       "       -6.22374096e-06, -5.74108893e-06, -5.17500108e-06, -4.56735922e-06,\n",
       "       -3.95289716e-06, -3.35871465e-06, -2.80443079e-06, -2.30281782e-06,\n",
       "       -1.86075072e-06, -1.48032078e-06, -1.15998470e-06, -8.95651334e-07,\n",
       "       -6.81639406e-07, -5.11469218e-07, -3.78475846e-07, -2.76250244e-07,\n",
       "       -1.98927238e-07, -1.41346504e-07, -9.91150341e-08, -6.85986234e-08,\n",
       "       -4.68667330e-08, -3.16107206e-08, -2.10507325e-08, -1.38420996e-08,\n",
       "       -8.98822956e-09, -5.76389746e-09, -3.65054818e-09, -2.28363761e-09,\n",
       "       -1.81719798e-07])"
      ]
     },
     "execution_count": 279,
     "metadata": {},
     "output_type": "execute_result"
    }
   ],
   "source": [
    "(W_next_dist-W_next_dist2)"
   ]
  },
  {
   "cell_type": "code",
   "execution_count": null,
   "id": "9aaecb87",
   "metadata": {},
   "outputs": [],
   "source": []
  },
  {
   "cell_type": "code",
   "execution_count": null,
   "id": "75988b11",
   "metadata": {},
   "outputs": [],
   "source": []
  },
  {
   "cell_type": "code",
   "execution_count": null,
   "id": "1ad0514d",
   "metadata": {},
   "outputs": [],
   "source": []
  },
  {
   "cell_type": "code",
   "execution_count": null,
   "id": "f725733a",
   "metadata": {},
   "outputs": [],
   "source": []
  },
  {
   "cell_type": "code",
   "execution_count": null,
   "id": "09c0555e",
   "metadata": {},
   "outputs": [],
   "source": []
  },
  {
   "cell_type": "code",
   "execution_count": null,
   "id": "ba7386a1",
   "metadata": {},
   "outputs": [],
   "source": []
  },
  {
   "cell_type": "markdown",
   "id": "b2d8e8a9",
   "metadata": {},
   "source": [
    "### Some notes\n",
    "\n",
    "I tried a different way from Das to transition from one state to the next. He computes the cumulative distribution. I just simulate returns and choose the closest wealth node. I was getting different results from him and I'm still not sure why. Could the two approximations lead to different values at the initial node (about 0.73 vs 0.70 after 1 million episodes). Interestingly, the Dynamic Programming gives almost identical results, and the two distributions are pretty close as well.\n"
   ]
  },
  {
   "cell_type": "markdown",
   "id": "f1019174",
   "metadata": {},
   "source": [
    "## Listings in Chapter"
   ]
  },
  {
   "cell_type": "code",
   "execution_count": 1017,
   "id": "df845290",
   "metadata": {},
   "outputs": [
    {
     "data": {
      "text/plain": [
       "Text(0, 0.5, 'Log of Wealth, $\\\\ln(W)$')"
      ]
     },
     "execution_count": 1017,
     "metadata": {},
     "output_type": "execute_result"
    },
    {
     "data": {
      "image/png": "[encoded data removed]",
      "text/plain": [
       "<Figure size 720x432 with 2 Axes>"
      ]
     },
     "metadata": {
      "needs_background": "light"
     },
     "output_type": "display_data"
    }
   ],
   "source": [
    "# Listing 12.1\n",
    "\n",
    "import numpy as np\n",
    "import matplotlib.pyplot as plt\n",
    "from math import log, sqrt\n",
    "\n",
    "W0 = 1000000\n",
    "T = 10\n",
    "nW = 101 #A\n",
    "mu_stock = 0.08\n",
    "mu_bond = 0.045\n",
    "sig_stock = 0.20\n",
    "sig_bond = 0.0\n",
    "\n",
    "lnW = np.zeros((nW,T+1))\n",
    "W = np.zeros((nW, T+1))\n",
    "\n",
    "for t in range(T+1):\n",
    "    lnW_min = log(W0) + (mu_stock-0.5*sig_stock**2)*t - 2.5*sig_stock*sqrt(t)\n",
    "    lnW_max = log(W0) + (mu_stock-0.5*sig_stock**2)*t + 2.5*sig_stock*sqrt(t)\n",
    "    lnW[:,t] = np.linspace(lnW_min, lnW_max, nW) #B\n",
    "W = np.exp(lnW)\n",
    "\n",
    "plt.figure(figsize=(10, 6)) #C\n",
    "plt.subplot(1,2,1)    \n",
    "for t in range(T+1):\n",
    "    plt.scatter(t*np.ones(nW), W[:,t], color='r')\n",
    "plt.xlabel(\"time, $t$\")\n",
    "plt.ylabel(\"Wealth, $W$\")\n",
    "plt.subplot(1, 2, 2)\n",
    "for t in range(T+1):\n",
    "    plt.scatter(t*np.ones(nW), lnW[:,t], color='r')\n",
    "plt.xlabel(\"time, $t$\")\n",
    "plt.ylabel(\"Log of Wealth, $\\ln(W)$\")"
   ]
  },
  {
   "cell_type": "code",
   "execution_count": 71,
   "id": "13c31d55",
   "metadata": {},
   "outputs": [],
   "source": [
    "# Listing 12.2\n",
    "\n",
    "import warnings\n",
    "warnings.filterwarnings('ignore')\n",
    "\n",
    "def compute_mu_sigma(a):\n",
    "    mu = a/(nA-1)*mu_stock + (1-a/(nA-1))*mu_bond\n",
    "    sig = a/(nA-1)*sig_stock\n",
    "    return mu, sig\n",
    "\n",
    "def compute_midpoints():\n",
    "    W_midpoints = np.zeros((nW+1,T+1))\n",
    "    W_midpoints[0,:] = 0.000001\n",
    "    W_midpoints[nW,:] = np.inf\n",
    "    W_midpoints[1:nW,:] = (W[:nW-1,:]+W[1:nW,:])/2\n",
    "    return W_midpoints\n",
    "\n",
    "def compute_transition_probs(w, t, a):\n",
    "    mu, sig = compute_mu_sigma(a)\n",
    "    W_tplus1_dist = np.zeros(nW)\n",
    "    cdfs = norm.cdf(np.float64((np.log(W_midpoints[:,t+1]/w) - (mu-0.5*sig*sig))/sig)) #A\n",
    "    W_tplus1_dist = cdfs[1:nW+1] - cdfs[0:nW] #B\n",
    "    return W_tplus1_dist"
   ]
  },
  {
   "cell_type": "code",
   "execution_count": 26,
   "id": "6704526c",
   "metadata": {},
   "outputs": [],
   "source": [
    "# Listing 12.3\n",
    "\n",
    "G = 2000000\n",
    "nA = 21\n",
    "V = np.zeros((nW, T+1)) #A\n",
    "A = np.zeros((nW, T)) #B\n",
    "EV = np.zeros(nA) #C\n",
    "W_midpoints = compute_midpoints()\n",
    "\n",
    "for j in range(nW): #D\n",
    "    if W[j, T] > G: \n",
    "        V[j, T] = 1    \n",
    "        \n",
    "for t in range(T-1, -1, -1):\n",
    "    for j in range(nW):\n",
    "        for a in range(nA):\n",
    "            W_tplus1_dist = compute_transition_probs(W[j,t], t, a)\n",
    "            EV[a] = np.dot(W_tplus1_dist, V[:, t+1])\n",
    "        V[j,t] = EV.max() #E\n",
    "        A[j,t] = EV.argmax() #F"
   ]
  },
  {
   "cell_type": "code",
   "execution_count": 27,
   "id": "e46fe502",
   "metadata": {},
   "outputs": [
    {
     "data": {
      "text/plain": [
       "0.6802996555240084"
      ]
     },
     "execution_count": 27,
     "metadata": {},
     "output_type": "execute_result"
    }
   ],
   "source": [
    "V[0,0]"
   ]
  },
  {
   "cell_type": "code",
   "execution_count": 28,
   "id": "b4892f23",
   "metadata": {},
   "outputs": [
    {
     "data": {
      "text/plain": [
       "17.0"
      ]
     },
     "execution_count": 28,
     "metadata": {},
     "output_type": "execute_result"
    }
   ],
   "source": [
    "A[0,0]"
   ]
  },
  {
   "cell_type": "code",
   "execution_count": 30,
   "id": "26048a04",
   "metadata": {},
   "outputs": [],
   "source": [
    "# Listing 12.4\n",
    "\n",
    "def transition(w, t, a):\n",
    "    mu, sig = compute_mu_sigma(a)\n",
    "    W_tplus1 = w * exp(mu-0.5*sig*sig + sig*np.random.normal())\n",
    "    W_tplus1_idx = (np.abs(W[:,t+1] - W_tplus1)).argmin()\n",
    "    return W_tplus1_idx"
   ]
  },
  {
   "cell_type": "code",
   "execution_count": 40,
   "id": "dcdb8f21",
   "metadata": {},
   "outputs": [],
   "source": [
    "# Listing 12.5\n",
    "\n",
    "def Update_Q(w_idx, t, Q):\n",
    "    if np.random.uniform() < epsilon:\n",
    "        a = np.random.randint(nA)\n",
    "    else:\n",
    "        A_array = Q[w_idx, t, :]\n",
    "        a = np.where(A_array == A_array.max())[0]\n",
    "        if (len(a)>1):\n",
    "            a = np.random.choice(a)\n",
    "    W_tplus1_idx = transition(W[w_idx,t], t, a)\n",
    "    Q[w_idx, t, a] += alpha*(gamma*Q[W_tplus1_idx, t+1, :].max() - Q[W_idx, t, a])\n",
    "    return W_tplus1_idx, t+1, Q"
   ]
  },
  {
   "cell_type": "code",
   "execution_count": 42,
   "id": "236b8f7a",
   "metadata": {},
   "outputs": [],
   "source": [
    "# Listing 12.6\n",
    "\n",
    "Q = np.zeros((nW, T+1, nA))\n",
    "G = 2000000\n",
    "for j in range(nW):\n",
    "    if W[j, T]>G:\n",
    "        Q[j, T, :] = 1"
   ]
  },
  {
   "cell_type": "code",
   "execution_count": 43,
   "id": "ab09b4a7",
   "metadata": {},
   "outputs": [
    {
     "name": "stderr",
     "output_type": "stream",
     "text": [
      "Running...: 100%|██████████████████████████████████████████████████████████| 1000000/1000000 [06:32<00:00, 2550.97it/s]\n"
     ]
    }
   ],
   "source": [
    "# Listing 12.7\n",
    "from tqdm import tqdm\n",
    "\n",
    "n_episodes = 1000000\n",
    "epsilon = 0.5\n",
    "alpha = 0.1\n",
    "gamma = 1.0\n",
    "\n",
    "for i in tqdm(range(n_episodes), desc=\"Running...\"):\n",
    "    W_idx = 0\n",
    "    t = 0\n",
    "    while t<=(T-1):\n",
    "        W_idx, t, Q = Update_Q(W_idx, t, Q)"
   ]
  },
  {
   "cell_type": "code",
   "execution_count": null,
   "id": "d6c2947f",
   "metadata": {},
   "outputs": [],
   "source": []
  },
  {
   "cell_type": "code",
   "execution_count": null,
   "id": "73e31a4f",
   "metadata": {},
   "outputs": [],
   "source": []
  },
  {
   "cell_type": "code",
   "execution_count": null,
   "id": "64df8286",
   "metadata": {},
   "outputs": [],
   "source": []
  },
  {
   "cell_type": "code",
   "execution_count": null,
   "id": "03ab0ec0",
   "metadata": {},
   "outputs": [],
   "source": []
  },
  {
   "cell_type": "code",
   "execution_count": null,
   "id": "e833b542",
   "metadata": {},
   "outputs": [],
   "source": []
  },
  {
   "cell_type": "code",
   "execution_count": null,
   "id": "64d2ee50",
   "metadata": {},
   "outputs": [],
   "source": []
  },
  {
   "cell_type": "code",
   "execution_count": 535,
   "id": "4d133cc5",
   "metadata": {},
   "outputs": [],
   "source": [
    "import pandas as pd\n",
    "import numpy as np\n",
    "import matplotlib.pyplot as plt\n",
    "from math import log, sqrt"
   ]
  },
  {
   "cell_type": "code",
   "execution_count": null,
   "id": "2ec0c19c",
   "metadata": {},
   "outputs": [],
   "source": [
    "# Parameters\n",
    "W0 = 1000000\n",
    "T = 10\n",
    "deltaT = 1\n",
    "nW = 11\n",
    "#nA = 15\n",
    "\n",
    "#alpha = 0.1\n",
    "#gamma = 1.0\n",
    "#epsilon = 0.5\n",
    "#nA = 15\n",
    "mu_stock = 0.08\n",
    "mu_bond = 0.03\n",
    "sig_stock = 0.20"
   ]
  },
  {
   "cell_type": "code",
   "execution_count": 1002,
   "id": "caa994ca",
   "metadata": {},
   "outputs": [
    {
     "data": {
      "text/plain": [
       "Text(0, 0.5, 'Log of Wealth, $\\\\ln(W)$')"
      ]
     },
     "execution_count": 1002,
     "metadata": {},
     "output_type": "execute_result"
    },
    {
     "data": {
      "image/png": "[encoded data removed]",
      "text/plain": [
       "<Figure size 720x432 with 2 Axes>"
      ]
     },
     "metadata": {
      "needs_background": "light"
     },
     "output_type": "display_data"
    }
   ],
   "source": [
    "W0 = 1000000\n",
    "T = 10\n",
    "nW = 101 #11\n",
    "mu_stock = 0.08\n",
    "sig_stock = 0.2\n",
    "\n",
    "lnW = np.zeros((nW,T+1))\n",
    "W = np.zeros((nW, T+1))\n",
    "\n",
    "for t in range(T+1):\n",
    "    #lnW_min = log(W0*(1 + mu_stock*t - 2.5*sig_stock*sqrt(t))\n",
    "    #lnW_max = log(W0*(1 + mu_stock*t + 2.5*sig_stock*sqrt(t))\n",
    "    lnW_min = log(W0) + (mu_stock-0.5*sig_stock*sig_stock)*t - 2.5*sig_stock*sqrt(t)\n",
    "    lnW_max = log(W0) + (mu_stock-0.5*sig_stock*sig_stock)*t + 2.5*sig_stock*sqrt(t)\n",
    "    lnW[:,t] = np.linspace(lnW_min, lnW_max, nW)\n",
    "W = np.exp(lnW)\n",
    "\n",
    "plt.figure(figsize=(10, 6)) \n",
    "plt.subplots_adjust(wspace=0.4)\n",
    "plt.subplot(1,2,1)    \n",
    "for t in range(T+1):\n",
    "    plt.scatter(t*np.ones(nW), W[:,t], color='r', s=20)\n",
    "plt.xlabel(\"time, $t$\")\n",
    "plt.ylabel(\"Wealth, $W$\")\n",
    "plt.subplot(1, 2, 2)\n",
    "for t in range(T+1):\n",
    "    plt.scatter(t*np.ones(nW), lnW[:,t], color='r', s=20)\n",
    "plt.xlabel(\"time, $t$\")\n",
    "plt.ylabel(\"Log of Wealth, $\\ln(W)$\")\n",
    "\n",
    "#plt.savefig('Fig12_1.png', dpi=300);\n",
    "#plt.savefig('Fig12_1.svg', format='svg');"
   ]
  },
  {
   "cell_type": "code",
   "execution_count": 22,
   "id": "0439fe1a",
   "metadata": {},
   "outputs": [
    {
     "data": {
      "image/png": "[encoded data removed]",
      "text/plain": [
       "<Figure size 576x576 with 2 Axes>"
      ]
     },
     "metadata": {
      "needs_background": "light"
     },
     "output_type": "display_data"
    }
   ],
   "source": [
    "plt.figure(figsize=(8, 8)) \n",
    "plt.subplot(2, 1, 1)\n",
    "for t in range(T+1):\n",
    "    plt.scatter(t*np.ones(nW), lnW[:,t], color='r')\n",
    "    plt.xlabel(\"time, $t$\")\n",
    "    plt.ylabel(\"Log of Wealth, $\\ln(W)$\")\n",
    "\n",
    "plt.subplot(2,1,2)    \n",
    "for t in range(T+1):\n",
    "    plt.scatter(t*np.ones(nW), W[:,t], color='r')\n",
    "    plt.xlabel(\"time, $t$\")\n",
    "    plt.ylabel(\"Wealth, $W$\") "
   ]
  },
  {
   "cell_type": "code",
   "execution_count": 37,
   "id": "dd641655",
   "metadata": {},
   "outputs": [
    {
     "data": {
      "text/plain": [
       "1993715.5332430804"
      ]
     },
     "execution_count": 37,
     "metadata": {},
     "output_type": "execute_result"
    }
   ],
   "source": [
    "W[55,9]"
   ]
  },
  {
   "cell_type": "code",
   "execution_count": 39,
   "id": "75aefe7e",
   "metadata": {},
   "outputs": [
    {
     "data": {
      "text/plain": [
       "array([1941082.00707336, 2003445.26254522, 2067812.13023896,\n",
       "       2134246.98238635, 2202816.25937599, 2273588.53619913])"
      ]
     },
     "execution_count": 39,
     "metadata": {},
     "output_type": "execute_result"
    }
   ],
   "source": [
    "W[55-3:55+3,10]"
   ]
  },
  {
   "cell_type": "code",
   "execution_count": 1006,
   "id": "7af015b9",
   "metadata": {},
   "outputs": [
    {
     "data": {
      "text/plain": [
       "Text(9.8, 2309114.4995195977, '⋮')"
      ]
     },
     "execution_count": 1006,
     "metadata": {},
     "output_type": "execute_result"
    },
    {
     "data": {
      "image/png": "[encoded data removed]",
      "text/plain": [
       "<Figure size 288x576 with 1 Axes>"
      ]
     },
     "metadata": {
      "needs_background": "light"
     },
     "output_type": "display_data"
    }
   ],
   "source": [
    "W9 = 54\n",
    "W10min = 49\n",
    "W10max = 59\n",
    "mu_stock = 0.08\n",
    "mu_bond = 0.03\n",
    "sig_stock = 0.20\n",
    "H = 2000000\n",
    "\n",
    "V = np.zeros((nW, T+1))\n",
    "A = np.zeros((nW, T))\n",
    "\n",
    "for j in range(nW):\n",
    "    if W[j, T] > H:\n",
    "        V[j, T] = 1\n",
    "\n",
    "a = 0.5\n",
    "mu = a*mu_stock + (1-a)*mu_bond\n",
    "sig = a*sig_stock\n",
    "W_next_dist = norm.pdf((np.log(W[:,10]/W[W9,9]) - (mu-0.5*sig*sig))/sig)\n",
    "W_next_dist = W_next_dist/sum(W_next_dist)\n",
    "EV = np.dot(W_next_dist, V[:, 10])\n",
    "\n",
    "plt.figure(figsize=(4, 8)) \n",
    "plt.scatter(9, W[W9,9], color='r')\n",
    "plt.scatter(10*np.ones(W10max-W10min), W[W10min:W10max,10], color='r')\n",
    "plt.axhline(y=2000000, color='k', linestyle='dashed', lw=1)\n",
    "#plt.annotate(text='0.5',xy=(9, W[W9,9]), dx=1, dy=W[W10max,10]-W[W9,9], xytext=(9.5,(W[W9,9]+W[W10max,10])/2),arrowprops={})\n",
    "plt.xticks(np.arange(9, 11, 1))\n",
    "plt.xlim(8.8, 10.2)\n",
    "plt.xlabel(\"time, $t$\")\n",
    "plt.ylabel(\"Wealth, $W$\")\n",
    "arrowprops = dict(arrowstyle='<|-,head_width=0.4,head_length=0.6', color='k', lw=1)\n",
    "for i in range(W10max-W10min):\n",
    "    plt.annotate(text='', xy=(9, W[W9,9]),\n",
    "             xycoords='data',\n",
    "             xytext=(10, W[W10min+i,10]),\n",
    "             ha='center', va='bottom', size=8,\n",
    "             arrowprops=arrowprops,\n",
    "            )\n",
    "    plt.annotate(text=str(round(100*W_next_dist[W10min+i],1))+'%', xy=(9.8, (0.2*W[W9,9]+0.8*W[W10min+i,10])), textcoords='data', xytext=(9.8, (0.2*W[W9,9]+0.8*W[W10min+i,10])),\n",
    "             ha='center', va='top', size=12,\n",
    "            )\n",
    "plt.annotate(text=u\"\\u22EE\", xy=(9.8, 0.96*(W[W9,9]+W[W10min,10])/2), textcoords='data', xytext=(9.8, 0.96*(W[W9,9]+W[W10min,10])/2),\n",
    "             ha='center', va='top', size=20, weight='bold'\n",
    "            )\n",
    "plt.annotate(text=u\"\\u22EE\", xy=(9.8, 1.06*(W[W9,9]+W[W10max,10])/2), textcoords='data', xytext=(9.8, 1.06*(W[W9,9]+W[W10max,10])/2),\n",
    "             ha='center', va='top', size=20, weight='bold'\n",
    "            )\n",
    "#plt.savefig('Fig12_2.png', dpi=300, bbox_inches='tight');\n",
    "#plt.savefig('Fig12_2.svg', format='svg', bbox_inches='tight');"
   ]
  },
  {
   "cell_type": "code",
   "execution_count": 750,
   "id": "2d5f32cc",
   "metadata": {},
   "outputs": [],
   "source": [
    "mu_stock = 0.08\n",
    "mu_bond = 0.045\n",
    "sig_stock = 0.2\n",
    "T = 10\n",
    "G = 2000000\n",
    "nA = 21\n",
    "V = np.zeros((nW, T+1))\n",
    "A = np.zeros((nW, T))\n",
    "for j in range(nW):\n",
    "    if W[j, T] > G:\n",
    "        V[j, T] = 1\n",
    "EV = np.zeros(nA)        \n",
    "        \n",
    "for t in range(T-1, -1, -1):\n",
    "    for j in range(nW):\n",
    "        for a in range(nA):\n",
    "            W_tplus1_dist = compute_transition_probs(W[j,t], t, a)\n",
    "            EV[a] = np.dot(W_tplus1_dist, V[:, t+1])\n",
    "        V[j,t] = EV.max()\n",
    "        A[j,t] = EV.argmax()"
   ]
  },
  {
   "cell_type": "code",
   "execution_count": 747,
   "id": "51f19d4f",
   "metadata": {},
   "outputs": [
    {
     "data": {
      "text/plain": [
       "0.6634867760014906"
      ]
     },
     "execution_count": 747,
     "metadata": {},
     "output_type": "execute_result"
    }
   ],
   "source": [
    "V[50,0]"
   ]
  },
  {
   "cell_type": "code",
   "execution_count": 748,
   "id": "f28a0819",
   "metadata": {},
   "outputs": [
    {
     "data": {
      "text/plain": [
       "19.0"
      ]
     },
     "execution_count": 748,
     "metadata": {},
     "output_type": "execute_result"
    }
   ],
   "source": [
    "A[50,0]"
   ]
  },
  {
   "cell_type": "code",
   "execution_count": null,
   "id": "cf251a3e",
   "metadata": {},
   "outputs": [],
   "source": []
  },
  {
   "cell_type": "code",
   "execution_count": null,
   "id": "83059f2f",
   "metadata": {},
   "outputs": [],
   "source": []
  },
  {
   "cell_type": "code",
   "execution_count": null,
   "id": "00d99d19",
   "metadata": {},
   "outputs": [],
   "source": []
  },
  {
   "cell_type": "code",
   "execution_count": null,
   "id": "d202fc63",
   "metadata": {},
   "outputs": [],
   "source": []
  },
  {
   "cell_type": "markdown",
   "id": "c8975de9",
   "metadata": {},
   "source": [
    "The Das method for computing transition probabilites doesn't work when sigma equals zero. All the probabilities are zero. So I have to use my method of computing cumulative probabilities."
   ]
  },
  {
   "cell_type": "code",
   "execution_count": 537,
   "id": "69fb2853",
   "metadata": {},
   "outputs": [],
   "source": [
    "def compute_transition_probs(w, t, a):\n",
    "    mu, sig = compute_mu_sigma(a)\n",
    "    W_tplus1_dist = np.zeros(nW)\n",
    "    for i in range(nW):\n",
    "        W_tplus1_dist[i] = (norm.cdf(midpoints[i+1]/w-1, loc=mu, scale=sig) \n",
    "                          - norm.cdf(midpoints[i]/w-1, loc=mu, scale=sig))\n",
    "    return W_tplus1_dist"
   ]
  },
  {
   "cell_type": "code",
   "execution_count": 754,
   "id": "44ebfdc7",
   "metadata": {},
   "outputs": [],
   "source": [
    "# Using continuously compounded returns rather than simple returns\n",
    "\n",
    "def compute_transition_probs(w, t, a):\n",
    "    mu, sig = compute_mu_sigma(a)\n",
    "    W_tplus1_dist = np.zeros(nW)\n",
    "    cdfs = norm.cdf(np.float64((np.log(W_midpoints[:,t+1]/w) - (mu - 0.5*sig*sig))/sig))\n",
    "    W_tplus1_dist = cdfs[1:nW+1] - cdfs[0:nW]\n",
    "    return W_tplus1_dist"
   ]
  },
  {
   "cell_type": "code",
   "execution_count": 710,
   "id": "7f8e5581",
   "metadata": {},
   "outputs": [],
   "source": [
    "import warnings\n",
    "warnings.filterwarnings('ignore')\n",
    "\n",
    "def compute_transition_probs(w, t, a):\n",
    "    mu, sig = compute_mu_sigma(a)\n",
    "    W_tplus1_dist = np.zeros(nW)\n",
    "    cdfs = norm.cdf(np.float64((W_midpoints[:,t+1]/w - 1 - mu)/sig))\n",
    "    W_tplus1_dist = cdfs[1:nW+1] - cdfs[0:nW]\n",
    "    return W_tplus1_dist"
   ]
  },
  {
   "cell_type": "code",
   "execution_count": 667,
   "id": "ad234063",
   "metadata": {},
   "outputs": [
    {
     "name": "stdout",
     "output_type": "stream",
     "text": [
      "[1.00000000e-06 3.22657503e+05 3.33482836e+05 3.44671365e+05\n",
      " 3.56235275e+05 3.68187161e+05 3.80540039e+05 3.93307362e+05\n",
      " 4.06503036e+05 4.20141432e+05 4.34237404e+05 4.48806303e+05\n",
      " 4.63863996e+05 4.79426883e+05 4.95511914e+05 5.12136606e+05\n",
      " 5.29319065e+05 5.47078005e+05 5.65432767e+05 5.84403342e+05\n",
      " 6.04010389e+05 6.24275263e+05 6.45220035e+05 6.66867515e+05\n",
      " 6.89241280e+05 7.12365696e+05 7.36265949e+05 7.60968069e+05\n",
      " 7.86498958e+05 8.12886422e+05 8.40159200e+05 8.68346994e+05\n",
      " 8.97480504e+05 9.27591459e+05 9.58712653e+05 9.90877979e+05\n",
      " 1.02412247e+06 1.05848233e+06 1.09399498e+06 1.13069911e+06\n",
      " 1.16863467e+06 1.20784299e+06 1.24836678e+06 1.29025016e+06\n",
      " 1.33353874e+06 1.37827969e+06 1.42452172e+06 1.47231519e+06\n",
      " 1.52171216e+06 1.57276642e+06 1.62553358e+06 1.68007111e+06\n",
      " 1.73643840e+06 1.79469684e+06 1.85490989e+06 1.91714312e+06\n",
      " 1.98146430e+06 2.04794350e+06 2.11665311e+06 2.18766796e+06\n",
      " 2.26106540e+06 2.33692537e+06 2.41533047e+06 2.49636611e+06\n",
      " 2.58012054e+06 2.66668498e+06 2.75615369e+06 2.84862414e+06\n",
      " 2.94419701e+06 3.04297641e+06 3.14506991e+06 3.25058870e+06\n",
      " 3.35964771e+06 3.47236570e+06 3.58886544e+06 3.70927381e+06\n",
      " 3.83372195e+06 3.96234538e+06 4.09528421e+06 4.23268320e+06\n",
      " 4.37469201e+06 4.52146528e+06 4.67316288e+06 4.82995002e+06\n",
      " 4.99199744e+06 5.15948165e+06 5.33258504e+06 5.51149614e+06\n",
      " 5.69640981e+06 5.88752743e+06 6.08505715e+06 6.28921410e+06\n",
      " 6.50022063e+06 6.71830653e+06 6.94370934e+06 7.17667453e+06\n",
      " 7.41745583e+06 7.66631548e+06 7.92352449e+06 8.18936301e+06\n",
      " 8.46412056e+06            inf]\n"
     ]
    }
   ],
   "source": [
    "W_midpoints = np.zeros((nW+1,T+1))\n",
    "def compute_midpoints():\n",
    "    W_midpoints[0,:] = 0.000001\n",
    "    W_midpoints[nW,:] = np.inf\n",
    "    for t in range(1,T+1):\n",
    "        for i in range(1,nW):\n",
    "            W_midpoints[i, t] = (W[i-1,t]+W[i,t])/2.\n",
    "    return W_midpoints\n",
    "W_midpoints = compute_midpoints()\n",
    "print(W_midpoints[:,T-1])"
   ]
  },
  {
   "cell_type": "code",
   "execution_count": 716,
   "id": "70d66bc4",
   "metadata": {},
   "outputs": [
    {
     "name": "stdout",
     "output_type": "stream",
     "text": [
      "[1.00000000e-06 3.88723298e+05 4.00561685e+05 4.12760604e+05\n",
      " 4.25331036e+05 4.38284295e+05 4.51632039e+05 4.65386282e+05\n",
      " 4.79559404e+05 4.94164163e+05 5.09213702e+05 5.24721568e+05\n",
      " 5.40701719e+05 5.57168537e+05 5.74136846e+05 5.91621916e+05\n",
      " 6.09639485e+05 6.28205772e+05 6.47337486e+05 6.67051847e+05\n",
      " 6.87366600e+05 7.08300030e+05 7.29870977e+05 7.52098858e+05\n",
      " 7.75003678e+05 7.98606054e+05 8.22927229e+05 8.47989094e+05\n",
      " 8.73814207e+05 9.00425811e+05 9.27847859e+05 9.56105034e+05\n",
      " 9.85222767e+05 1.01522727e+06 1.04614554e+06 1.07800542e+06\n",
      " 1.11083557e+06 1.14466555e+06 1.17952580e+06 1.21544771e+06\n",
      " 1.25246361e+06 1.29060680e+06 1.32991163e+06 1.37041347e+06\n",
      " 1.41214877e+06 1.45515510e+06 1.49947117e+06 1.54513687e+06\n",
      " 1.59219329e+06 1.64068280e+06 1.69064903e+06 1.74213696e+06\n",
      " 1.79519293e+06 1.84986469e+06 1.90620146e+06 1.96425393e+06\n",
      " 2.02407437e+06 2.08571661e+06 2.14923614e+06 2.21469013e+06\n",
      " 2.28213748e+06 2.35163892e+06 2.42325698e+06 2.49705614e+06\n",
      " 2.57310283e+06 2.65146547e+06 2.73221462e+06 2.81542294e+06\n",
      " 2.90116533e+06 2.98951897e+06 3.08056338e+06 3.17438050e+06\n",
      " 3.27105478e+06 3.37067323e+06 3.47332551e+06 3.57910402e+06\n",
      " 3.68810397e+06 3.80042345e+06 3.91616358e+06 4.03542852e+06\n",
      " 4.15832561e+06 4.28496548e+06 4.41546211e+06 4.54993295e+06\n",
      " 4.68849903e+06 4.83128509e+06 4.97841962e+06 5.13003507e+06\n",
      " 5.28626790e+06 5.44725872e+06 5.61315245e+06 5.78409839e+06\n",
      " 5.96025041e+06 6.14176706e+06 6.32881171e+06 6.52155273e+06\n",
      " 6.72016358e+06 6.92482302e+06 7.13571528e+06 7.35303017e+06\n",
      " 7.57696327e+06            inf]\n"
     ]
    }
   ],
   "source": [
    "def compute_midpoints():\n",
    "    W_midpoints = np.zeros((nW+1,T+1))\n",
    "    W_midpoints[0,:] = 0.000001\n",
    "    W_midpoints[nW,:] = np.inf\n",
    "    W_midpoints[1:nW,:] = (W[:nW-1,:]+W[1:nW,:])/2\n",
    "    return W_midpoints\n",
    "W_midpoints = compute_midpoints()\n",
    "print(W_midpoints[:,T-1])"
   ]
  },
  {
   "cell_type": "code",
   "execution_count": null,
   "id": "e030ba78",
   "metadata": {},
   "outputs": [],
   "source": []
  },
  {
   "cell_type": "code",
   "execution_count": null,
   "id": "2f25c440",
   "metadata": {},
   "outputs": [],
   "source": []
  },
  {
   "cell_type": "code",
   "execution_count": null,
   "id": "6eb647e1",
   "metadata": {},
   "outputs": [],
   "source": []
  },
  {
   "cell_type": "code",
   "execution_count": 533,
   "id": "35910f50",
   "metadata": {},
   "outputs": [],
   "source": [
    "def compute_transition_probs(w, t, a):\n",
    "    mu, sig = compute_mu_sigma(a)\n",
    "    W_tplus1_dist = np.zeros(nW)\n",
    "    midpoints = [0.000001]\n",
    "    for i in range(nW-1):\n",
    "        midpoints.append((W[i,t+1]+W[i+1,t+1])/2.)\n",
    "    midpoints.append(np.inf)\n",
    "    for i in range(nW):\n",
    "        W_tplus1_dist[i] = (norm.cdf(midpoints[i+1]/w-1, loc=mu, scale=sig) \n",
    "                          - norm.cdf(midpoints[i]/w-1, loc=mu, scale=sig))\n",
    "    return W_tplus1_dist"
   ]
  },
  {
   "cell_type": "code",
   "execution_count": 540,
   "id": "5e06cf53",
   "metadata": {},
   "outputs": [],
   "source": [
    "def compute_mu_sigma(a):\n",
    "    mu = a/(nA-1)*mu_stock + (1-a/(nA-1))*mu_bond\n",
    "    sig = a/(nA-1)*sig_stock\n",
    "    return mu, sig"
   ]
  },
  {
   "cell_type": "code",
   "execution_count": null,
   "id": "80246699",
   "metadata": {},
   "outputs": [],
   "source": []
  },
  {
   "cell_type": "code",
   "execution_count": 1009,
   "id": "0f2f864a",
   "metadata": {},
   "outputs": [
    {
     "data": {
      "text/plain": [
       "Text(9.8, 2309114.4995195977, '⋮')"
      ]
     },
     "execution_count": 1009,
     "metadata": {},
     "output_type": "execute_result"
    },
    {
     "data": {
      "image/png": "[encoded data removed]",
      "text/plain": [
       "<Figure size 288x576 with 1 Axes>"
      ]
     },
     "metadata": {
      "needs_background": "light"
     },
     "output_type": "display_data"
    }
   ],
   "source": [
    "W9 = 54\n",
    "W10min = 49\n",
    "W10max = 59\n",
    "\n",
    "\n",
    "W_tplus1_dist = compute_transition_probs(W[W9,9], 9, 10)\n",
    "\n",
    "plt.figure(figsize=(4, 8)) \n",
    "plt.scatter(9, W[W9,9], color='r')\n",
    "plt.scatter(10*np.ones(W10max-W10min), W[W10min:W10max,10], color='r')\n",
    "plt.axhline(y=2000000, color='k', linestyle='dashed', lw=1)\n",
    "#plt.annotate(text='0.5',xy=(9, W[W9,9]), dx=1, dy=W[W10max,10]-W[W9,9], xytext=(9.5,(W[W9,9]+W[W10max,10])/2),arrowprops={})\n",
    "plt.xticks(np.arange(9, 11, 1))\n",
    "plt.xlim(8.8, 10.2)\n",
    "plt.xlabel(\"time, $t$\")\n",
    "plt.ylabel(\"Wealth, $W$\")\n",
    "arrowprops = dict(arrowstyle='<|-,head_width=0.4,head_length=0.6', color='k', lw=1)\n",
    "for i in range(W10max-W10min):\n",
    "    plt.annotate(text='', xy=(9, W[W9,9]),\n",
    "             xycoords='data',\n",
    "             xytext=(10, W[W10min+i,10]),\n",
    "             ha='center', va='bottom', size=8,\n",
    "             arrowprops=arrowprops,\n",
    "            )\n",
    "    plt.annotate(text=str(round(100*W_tplus1_dist[W10min+i],1))+'%', xy=(9.8, (0.2*W[W9,9]+0.8*W[W10min+i,10])), textcoords='data', xytext=(9.8, (0.2*W[W9,9]+0.8*W[W10min+i,10])),\n",
    "             ha='center', va='top', size=12,\n",
    "            )\n",
    "#plt.annotate(text=u\"\\u22EE\", xy=(9.8, 0.94*(W[W9,9]+W[W10min,10])/2), textcoords='data', xytext=(9.8, 0.94*(W[W9,9]+W[W10min,10])/2),\n",
    "#             ha='center', va='top', size=20, weight='bold'\n",
    "#            )\n",
    "#plt.annotate(text=u\"\\u22EE\", xy=(9.8, 1.06*(W[W9,9]+W[W10max,10])/2), textcoords='data', xytext=(9.8, 1.06*(W[W9,9]+W[W10max,10])/2),\n",
    "#             ha='center', va='top', size=20, weight='bold'\n",
    "#            )\n",
    "plt.annotate(text=u\"\\u22EE\", xy=(9.8, 0.96*(W[W9,9]+W[W10min,10])/2), textcoords='data', xytext=(9.8, 0.96*(W[W9,9]+W[W10min,10])/2),\n",
    "             ha='center', va='top', size=20, weight='bold'\n",
    "            )\n",
    "plt.annotate(text=u\"\\u22EE\", xy=(9.8, 1.06*(W[W9,9]+W[W10max,10])/2), textcoords='data', xytext=(9.8, 1.06*(W[W9,9]+W[W10max,10])/2),\n",
    "             ha='center', va='top', size=20, weight='bold'\n",
    "            )\n",
    "\n",
    "#plt.savefig('Fig12_2.png', dpi=300, bbox_inches='tight');\n",
    "#plt.savefig('Fig12_2.svg', format='svg', bbox_inches='tight');"
   ]
  },
  {
   "cell_type": "code",
   "execution_count": 495,
   "id": "520ae0f3",
   "metadata": {},
   "outputs": [
    {
     "name": "stdout",
     "output_type": "stream",
     "text": [
      "[1000000.0, 1060000.0, 1123600.0000000002, 1191016.0, 1262476.9600000004, 1338225.5776000002, 1418519.1122560003, 1503630.2589913607, 1593848.0745308422, 1689478.959002693]\n",
      "[50, 50, 50, 50, 50, 50, 50, 50, 50, 49]\n"
     ]
    }
   ],
   "source": [
    "Wpath1 = [1000000*1.06**i for i in range(10)]\n",
    "print(Wpath1)\n",
    "path1 = [50]\n",
    "for i in range(1,10):\n",
    "    path1.append(np.abs(W[:,i]-Wpath1[i]).argmin())\n",
    "print(path1)"
   ]
  },
  {
   "cell_type": "code",
   "execution_count": 10,
   "id": "255e1a6b",
   "metadata": {},
   "outputs": [
    {
     "name": "stdout",
     "output_type": "stream",
     "text": [
      "[1000000.0, 1075000.0, 1155625.0, 1242296.8749999998, 1335469.140625, 1435629.3261718748, 1543301.5256347654, 1659049.1400573726, 1783477.8255616755, 1917238.6624788009]\n",
      "[50, 51, 52, 52, 52, 53, 53, 53, 53, 54]\n"
     ]
    }
   ],
   "source": [
    "Wpath2 = [1000000*1.075**i for i in range(10)]\n",
    "print(Wpath2)\n",
    "path2 = [50]\n",
    "for i in range(1,10):\n",
    "    path2.append(np.abs(W[:,i]-Wpath2[i]).argmin())\n",
    "print(path2)"
   ]
  },
  {
   "cell_type": "code",
   "execution_count": 11,
   "id": "b6c720eb",
   "metadata": {},
   "outputs": [
    {
     "name": "stdout",
     "output_type": "stream",
     "text": [
      "[1000000.0, 1090000.0, 1188100.0000000002, 1295029.0000000002, 1411581.6100000006, 1538623.9549000005, 1677100.1108410007, 1828039.1208166908, 1992562.6416901934, 2171893.279442311]\n",
      "[50, 53, 54, 55, 55, 56, 56, 57, 57, 58]\n"
     ]
    }
   ],
   "source": [
    "Wpath3 = [1000000*1.09**i for i in range(10)]\n",
    "print(Wpath3)\n",
    "path3 = [50]\n",
    "for i in range(1,10):\n",
    "    path3.append(np.abs(W[:,i]-Wpath3[i]).argmin())\n",
    "print(path3)"
   ]
  },
  {
   "cell_type": "code",
   "execution_count": null,
   "id": "87759c12",
   "metadata": {},
   "outputs": [],
   "source": []
  },
  {
   "cell_type": "code",
   "execution_count": null,
   "id": "966ea2fb",
   "metadata": {},
   "outputs": [],
   "source": []
  },
  {
   "cell_type": "code",
   "execution_count": null,
   "id": "b4e1edad",
   "metadata": {},
   "outputs": [],
   "source": []
  },
  {
   "cell_type": "code",
   "execution_count": 447,
   "id": "15e33b37",
   "metadata": {},
   "outputs": [
    {
     "data": {
      "text/plain": [
       "Text(0, 0.5, 'Wealth, $W$')"
      ]
     },
     "execution_count": 447,
     "metadata": {},
     "output_type": "execute_result"
    },
    {
     "data": {
      "image/png": "[encoded data removed]",
      "text/plain": [
       "<Figure size 432x288 with 1 Axes>"
      ]
     },
     "metadata": {
      "needs_background": "light"
     },
     "output_type": "display_data"
    }
   ],
   "source": [
    "plt.plot(Wpath3, marker='^', label='9% Return Path')\n",
    "plt.plot(Wpath2, marker='s', label='7.5% Return Path')\n",
    "plt.plot(Wpath1, marker='o', label='6% Return Path')\n",
    "plt.legend()\n",
    "plt.xticks(np.arange(0, 10))\n",
    "plt.xlabel(\"time, $t$\")\n",
    "plt.ylabel(\"Wealth, $W$\")\n",
    "#plt.savefig('Fig12_3.png', dpi=300, bbox_inches='tight');\n",
    "#plt.savefig('Fig12_3.svg', format='svg', bbox_inches='tight');"
   ]
  },
  {
   "cell_type": "code",
   "execution_count": 29,
   "id": "0cf347f8",
   "metadata": {},
   "outputs": [
    {
     "data": {
      "text/plain": [
       "Text(0, 0.5, 'Percent Allocation to Stocks')"
      ]
     },
     "execution_count": 29,
     "metadata": {},
     "output_type": "execute_result"
    },
    {
     "data": {
      "image/png": "[encoded data removed]",
      "text/plain": [
       "<Figure size 432x288 with 1 Axes>"
      ]
     },
     "metadata": {
      "needs_background": "light"
     },
     "output_type": "display_data"
    }
   ],
   "source": [
    "#path1 = [50, 50, 50, 50, 50, 50, 50, 50, 50, 50, 50]\n",
    "#path2 = [50, 51, 52, 53, 54, 55, 56, 57, 58, 59, 60]\n",
    "#path3 = [50, 51, 51, 52, 52, 53, 53, 54, 54, 55, 55]\n",
    "optimalA1 = np.zeros(T)\n",
    "optimalA2 = np.zeros(T)\n",
    "optimalA3 = np.zeros(T)\n",
    "for t in range(T):\n",
    "    optimalA1[t] = A[path1[t],t]*0.05\n",
    "    optimalA2[t] = A[path2[t],t]*0.05\n",
    "    optimalA3[t] = A[path3[t],t]*0.05\n",
    "plt.plot(optimalA3, marker='^', label='9% Return Path')\n",
    "plt.plot(optimalA2, marker='s', label='7.5% Return Path')\n",
    "plt.plot(optimalA1, marker='o', label='6% Return Path')\n",
    "plt.legend()\n",
    "plt.xticks(np.arange(0, 10))\n",
    "plt.xlabel(\"time, $t$\")\n",
    "plt.ylabel(\"Percent Allocation to Stocks\")\n",
    "#plt.savefig('Fig12_4.png', dpi=300, bbox_inches='tight');\n",
    "#plt.savefig('Fig12_4.svg', format='svg', bbox_inches='tight');"
   ]
  },
  {
   "cell_type": "code",
   "execution_count": null,
   "id": "3c938f3e",
   "metadata": {},
   "outputs": [],
   "source": []
  },
  {
   "cell_type": "code",
   "execution_count": null,
   "id": "63bc053a",
   "metadata": {},
   "outputs": [],
   "source": []
  },
  {
   "cell_type": "code",
   "execution_count": null,
   "id": "edcee2eb",
   "metadata": {},
   "outputs": [],
   "source": []
  },
  {
   "cell_type": "code",
   "execution_count": null,
   "id": "a75a2a36",
   "metadata": {},
   "outputs": [],
   "source": []
  },
  {
   "cell_type": "code",
   "execution_count": null,
   "id": "d854bef7",
   "metadata": {},
   "outputs": [],
   "source": []
  },
  {
   "cell_type": "code",
   "execution_count": null,
   "id": "3e0897e9",
   "metadata": {},
   "outputs": [],
   "source": []
  },
  {
   "cell_type": "code",
   "execution_count": null,
   "id": "55537833",
   "metadata": {},
   "outputs": [],
   "source": []
  },
  {
   "cell_type": "code",
   "execution_count": null,
   "id": "da362abf",
   "metadata": {},
   "outputs": [],
   "source": [
    "for t in range(T-1, -1, -1):\n",
    "    for j in range(nW):\n",
    "        maxEV = 0\n",
    "        maxA = -1\n",
    "        for a in range(nA):\n",
    "            mu = mu_Das[a]\n",
    "            sig = sig_Das[a]\n",
    "            W_next_dist = np.zeros(nW)\n",
    "            mids = [0.000001]\n",
    "            for i in range(nW-1):\n",
    "                mids.append((W_matrix[i,t+1]+W_matrix[i+1,t+1])/2.)\n",
    "            mids.append(np.inf)\n",
    "            for i in range(nW):\n",
    "                W_next_dist[i] = (norm.cdf(log(mids[i+1])-log(W_matrix[j,t]), loc=mu-0.5*sig*sig, scale=sig) \n",
    "                      - norm.cdf(log(mids[i])-log(W_matrix[j,t]), loc=mu-0.5*sig*sig, scale=sig))\n",
    "            EV = np.dot(W_next_dist, V[:, t+1])\n",
    "            if(EV > maxEV):\n",
    "                maxEV = EV\n",
    "                maxA = a\n",
    "        V[j,t] = maxEV\n",
    "        A[j,t] = maxA"
   ]
  },
  {
   "cell_type": "code",
   "execution_count": 163,
   "id": "b2c9041f",
   "metadata": {},
   "outputs": [],
   "source": [
    "l = [1.1, 2.2, 3.3, 3.3, 1.5, 3.2999]"
   ]
  },
  {
   "cell_type": "code",
   "execution_count": 165,
   "id": "d72c92ac",
   "metadata": {},
   "outputs": [
    {
     "data": {
      "text/plain": [
       "3.3"
      ]
     },
     "execution_count": 165,
     "metadata": {},
     "output_type": "execute_result"
    }
   ],
   "source": [
    "m = max(l)\n",
    "m"
   ]
  },
  {
   "cell_type": "code",
   "execution_count": 166,
   "id": "56e64228",
   "metadata": {},
   "outputs": [
    {
     "data": {
      "text/plain": [
       "2"
      ]
     },
     "execution_count": 166,
     "metadata": {},
     "output_type": "execute_result"
    }
   ],
   "source": [
    "m_index = l.index(m)\n",
    "m_index"
   ]
  },
  {
   "cell_type": "code",
   "execution_count": 175,
   "id": "6157725d",
   "metadata": {},
   "outputs": [],
   "source": [
    "V = np.zeros(100)\n",
    "A = np.zeros(100)"
   ]
  },
  {
   "cell_type": "markdown",
   "id": "28c12ea9",
   "metadata": {},
   "source": [
    "Here are four ways to get the maximum element of an array. I evolved from 1 to 2 to 3 to 4"
   ]
  },
  {
   "cell_type": "code",
   "execution_count": 192,
   "id": "3130441d",
   "metadata": {},
   "outputs": [],
   "source": [
    "for i in range(100):\n",
    "    temp_max = -999\n",
    "    temp_element = -1\n",
    "    for j in range(20):\n",
    "        x = random.uniform(0,1)\n",
    "        if x > temp_max:\n",
    "            temp_max = x\n",
    "            temp_element = j\n",
    "    V[i] = temp_max\n",
    "    A[i] = temp_element"
   ]
  },
  {
   "cell_type": "code",
   "execution_count": 182,
   "id": "2f07727a",
   "metadata": {},
   "outputs": [],
   "source": [
    "for i in range(100):\n",
    "    l = []\n",
    "    for j in range(20):\n",
    "        l.append(random.uniform(0,1))\n",
    "    V[i] = max(l)\n",
    "    A[i] = l.index(max(l))"
   ]
  },
  {
   "cell_type": "code",
   "execution_count": 185,
   "id": "85b2dedc",
   "metadata": {},
   "outputs": [],
   "source": [
    "l = [0]*20\n",
    "for i in range(100):\n",
    "    for j in range(20):\n",
    "        l[j] = random.uniform(0,1)\n",
    "    V[i] = max(l)\n",
    "    A[i] = l.index(max(l))"
   ]
  },
  {
   "cell_type": "code",
   "execution_count": 190,
   "id": "32758fa9",
   "metadata": {},
   "outputs": [],
   "source": [
    "a = np.zeros(20)\n",
    "for i in range(100):\n",
    "    for j in range(20):\n",
    "        a[j] = random.uniform(0,1)\n",
    "    V[i] = a.max()\n",
    "    A[i] = a.argmax()"
   ]
  },
  {
   "cell_type": "code",
   "execution_count": null,
   "id": "6c8fd22a",
   "metadata": {},
   "outputs": [],
   "source": []
  },
  {
   "cell_type": "code",
   "execution_count": 187,
   "id": "8338ae21",
   "metadata": {},
   "outputs": [],
   "source": [
    "a = np.array([3.1, 2.2, 5.6, 3.1])"
   ]
  },
  {
   "cell_type": "code",
   "execution_count": 189,
   "id": "0fe89558",
   "metadata": {},
   "outputs": [
    {
     "name": "stdout",
     "output_type": "stream",
     "text": [
      "2\n"
     ]
    }
   ],
   "source": [
    "print(a.argmax())"
   ]
  },
  {
   "cell_type": "code",
   "execution_count": null,
   "id": "a99f5ed4",
   "metadata": {},
   "outputs": [],
   "source": []
  },
  {
   "cell_type": "code",
   "execution_count": 181,
   "id": "1838ca30",
   "metadata": {},
   "outputs": [
    {
     "name": "stdout",
     "output_type": "stream",
     "text": [
      "[]\n"
     ]
    }
   ],
   "source": [
    "l = []*5\n",
    "print(l)"
   ]
  },
  {
   "cell_type": "code",
   "execution_count": 193,
   "id": "9d4dfde6",
   "metadata": {},
   "outputs": [
    {
     "data": {
      "text/plain": [
       "array([0.94105856, 0.96410531, 0.95538262, 0.92895067, 0.99484872])"
      ]
     },
     "execution_count": 193,
     "metadata": {},
     "output_type": "execute_result"
    }
   ],
   "source": [
    "V[:5]"
   ]
  },
  {
   "cell_type": "code",
   "execution_count": 173,
   "id": "ffd9bf85",
   "metadata": {},
   "outputs": [
    {
     "name": "stdout",
     "output_type": "stream",
     "text": [
      "0.31795991302061666\n"
     ]
    }
   ],
   "source": [
    "print(random.uniform(0,1))"
   ]
  },
  {
   "cell_type": "code",
   "execution_count": 172,
   "id": "ac77616c",
   "metadata": {},
   "outputs": [],
   "source": [
    "import random"
   ]
  },
  {
   "cell_type": "code",
   "execution_count": 244,
   "id": "7e85011a",
   "metadata": {},
   "outputs": [
    {
     "name": "stdout",
     "output_type": "stream",
     "text": [
      "0.0\n"
     ]
    }
   ],
   "source": [
    "print(norm.cdf(-math.inf))"
   ]
  },
  {
   "cell_type": "code",
   "execution_count": 290,
   "id": "53d549c5",
   "metadata": {},
   "outputs": [],
   "source": [
    "import warnings\n",
    "warnings.filterwarnings('ignore')"
   ]
  },
  {
   "cell_type": "code",
   "execution_count": 291,
   "id": "3eaa4c16",
   "metadata": {},
   "outputs": [
    {
     "data": {
      "text/plain": [
       "-inf"
      ]
     },
     "execution_count": 291,
     "metadata": {},
     "output_type": "execute_result"
    }
   ],
   "source": [
    "np.float64(-5)/0"
   ]
  },
  {
   "cell_type": "code",
   "execution_count": 240,
   "id": "c197aa5e",
   "metadata": {},
   "outputs": [],
   "source": [
    "import math"
   ]
  },
  {
   "cell_type": "code",
   "execution_count": 261,
   "id": "1924060a",
   "metadata": {},
   "outputs": [
    {
     "name": "stdout",
     "output_type": "stream",
     "text": [
      "[2.91153373e-13 8.12696192e-14 1.04596355e-13 1.34790432e-13\n",
      " 1.73920654e-13 2.24692191e-13 2.90646039e-13 3.76422056e-13\n",
      " 4.88106161e-13 6.33688981e-13 8.23672258e-13 1.07187126e-12\n",
      " 1.39647736e-12 1.82146627e-12 2.37846564e-12 3.10923377e-12\n",
      " 4.06895148e-12 5.33059688e-12 6.99076278e-12 9.17739713e-12\n",
      " 1.20601079e-11 1.58638889e-11 2.08874119e-11 2.75274138e-11\n",
      " 3.63112249e-11 4.79401705e-11 6.33475012e-11 8.37757362e-11\n",
      " 1.10879952e-10 1.46865747e-10 1.94673551e-10 2.58224869e-10\n",
      " 3.42751303e-10 4.55234153e-10 6.04991749e-10 8.04464060e-10\n",
      " 1.07026066e-09 1.42456011e-09 1.89697806e-09 2.52706009e-09\n",
      " 3.36760687e-09 4.48910711e-09 5.98564409e-09 7.98276025e-09\n",
      " 1.06479212e-08 1.42044270e-08 1.89498886e-08 2.52807442e-08\n",
      " 3.37247526e-08 4.49840080e-08 5.99918083e-08 7.99877323e-08\n",
      " 1.06616604e-07 9.99999574e-01]\n"
     ]
    }
   ],
   "source": [
    "a=10\n",
    "w=W[54,9]\n",
    "\n",
    "mu, sig = compute_mu_sigma(a)\n",
    "W_tplus1_dist = np.zeros(nW)\n",
    "midpoints = [0.000001]\n",
    "for i in range(nW-1):\n",
    "    midpoints.append((W[i,t+1]+W[i+1,t+1])/2.)\n",
    "midpoints.append(np.inf)\n",
    "for i in range(nW):\n",
    "    W_tplus1_dist[i] = (norm.cdf(midpoints[i+1]/w-1, loc=mu, scale=sig) \n",
    "                          - norm.cdf(midpoints[i]/w-1, loc=mu, scale=sig))\n",
    "print(W_tplus1_dist)"
   ]
  },
  {
   "cell_type": "markdown",
   "id": "be6751b0",
   "metadata": {},
   "source": [
    "$$\\underbrace{Q(S_t,A_t)}_{\\text{updated }Q} \\leftarrow \\underbrace{Q(S_t,A_t)}_{\\text{old }Q} + \\underbrace{\\alpha}_{\\text{learning rate}}   \\left(\\underbrace{R_{t+1}}_{\\text{reward}} + \\underbrace{\\gamma}_{\\text{discount} \\\\ \\ \\ \\  \\text{rate}}  \\underbrace{\\max_a Q(S_{t+1}, a)}_{\\text{optimal next Q}} - \\underbrace{Q(S_t,A_t)}_{\\text{old Q}} \\right)$$"
   ]
  },
  {
   "cell_type": "markdown",
   "id": "24254e43",
   "metadata": {},
   "source": [
    "$$\\underbrace{Q(S_t,A_t)\\vphantom{\\max_a}}_{\\text{updated }Q\\vphantom{\\max_a}} \\ \\  \\leftarrow \\ \\   \\underbrace{Q(S_t,A_t)\\vphantom{\\max_a}}_{\\text{current }Q}\\  + \\underbrace{\\ \\ \\ \\ \\ \\  \\alpha\\ \\ \\ \\ \\ \\  \n",
    "\\vphantom{\\max_a}}_{\\text{learning rate}}   \\left(\\underbrace{\\ \\ \\  R_{t+1}\\ \\ \\ \\vphantom{\\max_a}}_{\\text{reward}} + \\underbrace{\\ \\ \\ \\ \\ \\ \\gamma \\ \\ \\ \\ \\ \\ \\vphantom{\\max_a}}_{\\text{discount rate}}  \\underbrace{\\max_a Q(S_{t+1}, a)}_{\\text{optimal next Q}} \\ - \\ \\underbrace{Q(S_t,A_t)\\vphantom{\\max_a}}_{\\text{current Q}} \\right)$$"
   ]
  },
  {
   "cell_type": "markdown",
   "id": "5f79f041",
   "metadata": {},
   "source": [
    "$$\\underbrace{(zzz)}_{\\textrm{tall}}\n",
    "\\underbrace{zzz}_{\\textrm{short}}$$"
   ]
  },
  {
   "cell_type": "markdown",
   "id": "63c16f43",
   "metadata": {},
   "source": [
    "$$\\underbrace{(zzz)\\vphantom{\\(}}_{\\textrm{tall}}\n",
    "\\underbrace{zzz  \\vphantom{\\(}}_{\\textrm{short}}$$"
   ]
  },
  {
   "cell_type": "markdown",
   "id": "1356a248",
   "metadata": {},
   "source": [
    "$$\\underbrace{(zzz)(}_{\\textrm{tall}}\n",
    "\\underbrace{zzz  (}_{\\textrm{short}}$$"
   ]
  },
  {
   "cell_type": "code",
   "execution_count": 1,
   "id": "944668c7",
   "metadata": {},
   "outputs": [],
   "source": [
    "def transition(w, t, a):\n",
    "    mu, sig = compute_mu_sigma(a)\n",
    "    W_tplus1 = w * exp(mu-0.5*sig*sig + sig*np.random.normal())\n",
    "    W_tplus1_idx = (np.abs(W[:,t+1] - W_tplus1)).argmin()\n",
    "    return W_tplus1_idx"
   ]
  },
  {
   "cell_type": "code",
   "execution_count": null,
   "id": "14dda179",
   "metadata": {},
   "outputs": [],
   "source": [
    "def Update_Q(w_idx, t, Q):\n",
    "    if np.random.uniform() < epsilon:\n",
    "        a = np.random.randint(nA)\n",
    "    else:\n",
    "        A_array = Q[W_now_index, t, :]\n",
    "        a = np.where(A_array == A_array.max())[0]\n",
    "        if (len(a)>1):\n",
    "            a = np.random.choice(a)\n",
    "    W_tplus1_idx = transition(W[w_idx,t], t, a)\n",
    "    Q[w_idx, t, a] += alpha*(gamma*Q[W_tplus1_idx, t+1, :].max() - Q[W_idx, t, a])\n",
    "    return w_tplus1_idx, t+1, Q"
   ]
  },
  {
   "cell_type": "code",
   "execution_count": null,
   "id": "c6ccbb35",
   "metadata": {},
   "outputs": [],
   "source": [
    "H = 2000000\n",
    "for j in range(nW):\n",
    "    if W_matrix[j, T]>H:\n",
    "        Q[j, T, :] = 1"
   ]
  },
  {
   "cell_type": "code",
   "execution_count": null,
   "id": "1dccf79b",
   "metadata": {},
   "outputs": [],
   "source": [
    "n_episodes = 4000000\n",
    "for i in tqdm(range(n_episodes), desc=\"Running...\"):\n",
    "    W_idx = 0\n",
    "    t = 0\n",
    "    while t<=(T-1):\n",
    "        W_idx, t, Q = Update_Q(W_idx, t, Q)"
   ]
  },
  {
   "cell_type": "code",
   "execution_count": null,
   "id": "b2a0092f",
   "metadata": {},
   "outputs": [],
   "source": []
  },
  {
   "cell_type": "code",
   "execution_count": null,
   "id": "6dce3965",
   "metadata": {},
   "outputs": [],
   "source": []
  },
  {
   "cell_type": "markdown",
   "id": "7843c5fd",
   "metadata": {},
   "source": [
    "## Optimal Consumption and Portfolio Choice"
   ]
  },
  {
   "cell_type": "code",
   "execution_count": 1327,
   "id": "44a99da5",
   "metadata": {},
   "outputs": [],
   "source": [
    "# Equivalent to Listing 12.1, but W0=1\n",
    "\n",
    "W0 = 1000000\n",
    "T = 10\n",
    "nW = 101 #A\n",
    "mu_stock = 0.08\n",
    "mu_bond = 0.045\n",
    "sig_stock = 0.20\n",
    "sig_bond = 0.0\n",
    "\n",
    "Cbar = np.zeros(T+1)\n",
    "Cbar[0] = 0\n",
    "for t in range(1, T+1):\n",
    "    Cbar[t] = Cbar[t-1] + 1/(T-t+1)\n",
    "\n",
    "lnW = np.zeros((nW,T+1))\n",
    "W = np.zeros((nW, T+1))\n",
    "\n",
    "for t in range(T+1):\n",
    "    lnW_min = log(W0) - t*log(3)\n",
    "    #lnW_min = log(W0) - Cbar[t] + (mu_stock-0.5*sig_stock**2)*t - 2.5*sig_stock*sqrt(t)\n",
    "    lnW_max = log(W0) - Cbar[t] + (mu_stock-0.5*sig_stock**2)*t + 2.5*sig_stock*sqrt(t)\n",
    "    lnW[:,t] = np.linspace(lnW_min, lnW_max, nW) #B\n",
    "W = np.exp(lnW)"
   ]
  },
  {
   "cell_type": "code",
   "execution_count": 1183,
   "id": "140afd89",
   "metadata": {},
   "outputs": [
    {
     "data": {
      "text/plain": [
       "array([1.69350878e-05, 1.87608191e-05, 2.07833782e-05, 2.30239845e-05,\n",
       "       2.55061452e-05, 2.82559017e-05, 3.13021029e-05, 3.46767077e-05,\n",
       "       3.84151206e-05, 4.25565629e-05, 4.71444842e-05, 5.22270183e-05,\n",
       "       5.78574882e-05, 6.40949656e-05, 7.10048906e-05, 7.86597580e-05,\n",
       "       8.71398784e-05, 9.65342203e-05, 1.06941344e-04, 1.18470434e-04,\n",
       "       1.31242448e-04, 1.45391383e-04, 1.61065680e-04, 1.78429786e-04,\n",
       "       1.97665874e-04, 2.18975760e-04, 2.42583013e-04, 2.68735307e-04,\n",
       "       2.97707018e-04, 3.29802099e-04, 3.65357275e-04, 4.04745569e-04,\n",
       "       4.48380221e-04, 4.96719020e-04, 5.50269110e-04, 6.09592306e-04,\n",
       "       6.75310995e-04, 7.48114658e-04, 8.28767110e-04, 9.18114510e-04,\n",
       "       1.01709424e-03, 1.12674474e-03, 1.24821639e-03, 1.38278362e-03,\n",
       "       1.53185821e-03, 1.69700418e-03, 1.87995414e-03, 2.08262750e-03,\n",
       "       2.30715059e-03, 2.55587898e-03, 2.83142218e-03, 3.13667104e-03,\n",
       "       3.47482804e-03, 3.84944094e-03, 4.26443996e-03, 4.72417904e-03,\n",
       "       5.23348148e-03, 5.79769060e-03, 6.42272576e-03, 7.11514446e-03,\n",
       "       7.88221117e-03, 8.73197351e-03, 9.67334669e-03, 1.07162071e-02,\n",
       "       1.18714957e-02, 1.31513333e-02, 1.45691471e-02, 1.61398120e-02,\n",
       "       1.78798065e-02, 1.98073857e-02, 2.19427725e-02, 2.43083704e-02,\n",
       "       2.69289976e-02, 2.98321485e-02, 3.30482811e-02, 3.66111372e-02,\n",
       "       4.05580964e-02, 4.49305677e-02, 4.97744248e-02, 5.51404865e-02,\n",
       "       6.10850504e-02, 6.76704836e-02, 7.49658766e-02, 8.30477685e-02,\n",
       "       9.20009498e-02, 1.01919352e-01, 1.12907034e-01, 1.25079271e-01,\n",
       "       1.38563768e-01, 1.53501997e-01, 1.70050680e-01, 1.88383437e-01,\n",
       "       2.08692605e-01, 2.31191255e-01, 2.56115432e-01, 2.83726624e-01,\n",
       "       3.14314512e-01, 3.48200008e-01, 3.85738618e-01, 4.27324176e-01,\n",
       "       4.73392974e-01])"
      ]
     },
     "execution_count": 1183,
     "metadata": {},
     "output_type": "execute_result"
    }
   ],
   "source": [
    "W[:,10]"
   ]
  },
  {
   "cell_type": "code",
   "execution_count": 1184,
   "id": "29230ab4",
   "metadata": {},
   "outputs": [
    {
     "data": {
      "text/plain": [
       "0.49999999999776884"
      ]
     },
     "execution_count": 1184,
     "metadata": {},
     "output_type": "execute_result"
    }
   ],
   "source": [
    "V[100,10]"
   ]
  },
  {
   "cell_type": "code",
   "execution_count": 1221,
   "id": "42030348",
   "metadata": {},
   "outputs": [
    {
     "name": "stdout",
     "output_type": "stream",
     "text": [
      "9\n",
      "8\n",
      "7\n",
      "6\n",
      "5\n",
      "4\n",
      "3\n",
      "2\n",
      "1\n",
      "0\n"
     ]
    }
   ],
   "source": [
    "# Equivalent to Listing 12.3\n",
    "\n",
    "nA = 11\n",
    "nC = 40\n",
    "V = np.zeros((nW, T+1)) #A\n",
    "A = np.zeros((nW, T)) #B\n",
    "C = np.zeros((nW, T))\n",
    "EV = np.zeros((nA, nC)) #C\n",
    "W_midpoints = compute_midpoints()\n",
    "\n",
    "gamma = 0.95\n",
    "CRRA = 3\n",
    "def utility(c):\n",
    "    if (CRRA == 1):\n",
    "        util = log(c)\n",
    "    else:\n",
    "        util = (c**(1-CRRA)-1)/(1-CRRA)\n",
    "    return util\n",
    "\n",
    "for j in range(nW): #D \n",
    "        V[j, T] = utility(W[j,T])   \n",
    "        \n",
    "for t in range(T-1, -1, -1):\n",
    "    print(t)\n",
    "    for j in range(nW):\n",
    "        for a in range(nA):\n",
    "            for c in range(nC):\n",
    "                cons = (c+1)/(1.5*nC)*W[j,t]\n",
    "                W_tplus1_dist = compute_transition_probs(W[j,t]-cons, t, a)\n",
    "                EV[a,c] = np.dot(W_tplus1_dist, utility(cons)+gamma*V[:,t+1])\n",
    "                #if (t==2 and j==50 and a==10):\n",
    "                    #print(c, cons, W[j,t], W[j,t]-cons, W_tplus1_dist.argmax(), utility(cons), V[W_tplus1_dist.argmax(),3], EV[a,c])\n",
    "                    #print(a,c,cons,utility(cons),EV[a,c])\n",
    "        V[j,t] = EV.max() #E\n",
    "        A[j,t], C[j,t] = np.unravel_index(EV.argmax(), EV.shape) #F"
   ]
  },
  {
   "cell_type": "code",
   "execution_count": 1061,
   "id": "4bd5c7f1",
   "metadata": {},
   "outputs": [
    {
     "data": {
      "text/plain": [
       "9.0"
      ]
     },
     "execution_count": 1061,
     "metadata": {},
     "output_type": "execute_result"
    }
   ],
   "source": [
    "A[0,0]"
   ]
  },
  {
   "cell_type": "code",
   "execution_count": 504,
   "id": "360dba8e",
   "metadata": {},
   "outputs": [],
   "source": [
    "# Equivalent to Listing 12.4\n",
    "\n",
    "def transition(w, t, a):\n",
    "    mu, sig = compute_mu_sigma(a)\n",
    "    W_tplus1 = w * exp(mu-0.5*sig*sig + sig*np.random.normal())\n",
    "    W_tplus1_idx = (np.abs(W[:,t+1] - W_tplus1)).argmin()\n",
    "    W_visits[W_tplus1_idx,t+1] += 1\n",
    "    return W_tplus1_idx"
   ]
  },
  {
   "cell_type": "code",
   "execution_count": 624,
   "id": "2a394b56",
   "metadata": {},
   "outputs": [],
   "source": [
    "# Equivalent to Listing 12.5\n",
    "\n",
    "def Update_Q(w_idx, t, Q):\n",
    "    if np.random.uniform() < epsilon:\n",
    "        a = np.random.randint(nA)\n",
    "        c = np.random.randint(nC)\n",
    "    else:\n",
    "        AC_array = Q[w_idx,t,:,:]\n",
    "        ac = np.argwhere(AC_array == AC_array.max())\n",
    "        if (len(ac)>1):\n",
    "            a,c = ac[np.random.choice(len(ac))]\n",
    "        else:\n",
    "            a,c = ac[0]\n",
    "    cons = (c+1)/(1.5*nC)*W[w_idx,t]\n",
    "    W_tplus1_idx = transition(W[w_idx,t]-cons, t, a)\n",
    "    Q[w_idx,t,a,c] += alpha*(utility(cons) + gamma*Q[W_tplus1_idx,t+1,:,:].max() - Q[W_idx,t,a,c])\n",
    "    #if (t==0):\n",
    "    #    optC = np.argwhere(Q[50,1,:,:] == Q[50,1,:,:].max())[0,1]\n",
    "    #    optA = np.argwhere(Q[50,1,:,:] == Q[50,1,:,:].max())[1,0]\n",
    "    #    print(cons, W_tplus1_idx, utility(cons), optC, optA, Q[W_tplus1_idx,1,optA,optC])\n",
    "    return W_tplus1_idx, t+1, Q"
   ]
  },
  {
   "cell_type": "code",
   "execution_count": 1063,
   "id": "49631753",
   "metadata": {},
   "outputs": [],
   "source": [
    "# Equivalent to Listing 12.6\n",
    "\n",
    "Q = np.zeros((nW, T+1, nA, nC))\n",
    "for j in range(nW):\n",
    "        #Q[j,:,:,:] = -99.\n",
    "        Q[j,T,:,:] = utility(W[j,T])\n",
    "        #Q[j,:,:,:] = utility(W[j,T])"
   ]
  },
  {
   "cell_type": "code",
   "execution_count": 1064,
   "id": "5167b0ec",
   "metadata": {},
   "outputs": [
    {
     "name": "stderr",
     "output_type": "stream",
     "text": [
      "Running...: 100%|██████████████████████████████████████████████████████████| 5000000/5000000 [41:17<00:00, 2017.89it/s]\n"
     ]
    }
   ],
   "source": [
    "# Equivalent to Listing 12.7\n",
    "from tqdm import tqdm\n",
    "\n",
    "n_episodes = 5000000\n",
    "epsilon = 0.5\n",
    "alpha = 0.1\n",
    "gamma = 1.0\n",
    "\n",
    "for i in tqdm(range(n_episodes), desc=\"Running...\"):\n",
    "    W_idx = 0\n",
    "    t = 0\n",
    "    while t<=(T-1):\n",
    "        W_idx, t, Q = Update_Q(W_idx, t, Q)"
   ]
  },
  {
   "cell_type": "code",
   "execution_count": 1062,
   "id": "5424d234",
   "metadata": {},
   "outputs": [],
   "source": [
    "W_visits = np.zeros((nW,T+1))"
   ]
  },
  {
   "cell_type": "code",
   "execution_count": 1180,
   "id": "24cd8f9f",
   "metadata": {},
   "outputs": [
    {
     "data": {
      "text/plain": [
       "3"
      ]
     },
     "execution_count": 1180,
     "metadata": {},
     "output_type": "execute_result"
    }
   ],
   "source": [
    "CRRA"
   ]
  },
  {
   "cell_type": "code",
   "execution_count": 1231,
   "id": "da280b4b",
   "metadata": {},
   "outputs": [],
   "source": [
    "# Test whether higher returns leads to more spending today\n",
    "\n",
    "mu_stock = 0.08\n",
    "#mu_stock = 0.13\n",
    "mu_bond = 0.045\n",
    "#mu_bond = 0.10"
   ]
  },
  {
   "cell_type": "code",
   "execution_count": 1230,
   "id": "154a37c7",
   "metadata": {},
   "outputs": [
    {
     "data": {
      "text/plain": [
       "[<matplotlib.lines.Line2D at 0x1e331d67ca0>]"
      ]
     },
     "execution_count": 1230,
     "metadata": {},
     "output_type": "execute_result"
    },
    {
     "data": {
      "image/png": "[encoded data removed]",
      "text/plain": [
       "<Figure size 432x288 with 1 Axes>"
      ]
     },
     "metadata": {
      "needs_background": "light"
     },
     "output_type": "display_data"
    }
   ],
   "source": [
    "plt.plot(C[:,0])"
   ]
  },
  {
   "cell_type": "code",
   "execution_count": 628,
   "id": "076cefd6",
   "metadata": {},
   "outputs": [
    {
     "data": {
      "text/plain": [
       "array([ -2.28413419,  -1.7429486 ,  -1.62433639,  -1.66627318,\n",
       "        -1.66764701,  -1.72124724,  -2.09499993,  -2.05804914,\n",
       "        -2.63814648,  -3.01221291,  -2.38843135,  -3.2754367 ,\n",
       "        -3.52609501,  -2.85132579,  -2.94653222,  -3.66464529,\n",
       "        -3.33216834,  -3.67327492,  -3.76349753,  -3.4772923 ,\n",
       "        -3.42184702,  -4.18095249,  -3.97794763,  -4.10276317,\n",
       "        -3.88353284,  -4.11681932,  -4.28784799,  -4.55318853,\n",
       "        -4.73398154,  -4.52145958,  -4.74261352,  -4.82516346,\n",
       "        -4.81521617,  -5.14202013,  -5.36288135,  -5.58142124,\n",
       "        -5.40125746,  -5.50896388,  -5.81581259,  -5.96551088,\n",
       "        -5.66128073,  -5.84260707,  -5.88868597,  -6.22873633,\n",
       "        -6.12183578,  -6.24021839,  -6.04648702,  -6.21260811,\n",
       "        -6.74895063,  -6.82825866,  -6.86899089,  -6.72744705,\n",
       "        -7.31219101,  -7.12298813,  -7.24784477,  -7.62368797,\n",
       "        -7.40509093,  -7.66711514,  -7.68351823,  -7.83632919,\n",
       "        -8.0156882 ,  -8.15218641,  -8.04971595,  -8.227537  ,\n",
       "        -8.16989916,  -8.39634917,  -8.26839704,  -8.8612295 ,\n",
       "        -8.84177479,  -8.78704496,  -8.63412912,  -9.09330107,\n",
       "        -9.10690181,  -9.11813814,  -9.34618414,  -9.26909351,\n",
       "        -9.53607472,  -8.9480851 ,  -9.58618146,  -9.66327593,\n",
       "        -9.28888641,  -8.81667238,  -9.04359363,  -9.03720172,\n",
       "        -9.2071342 ,  -9.05853189,  -9.10370279,  -8.41333167,\n",
       "        -9.10131311,  -8.89931992,  -9.17039248,  -7.70372118,\n",
       "        -7.85786927,  -8.77904105,  -5.64573397,  -8.79215177,\n",
       "        -8.37653378,  -5.63489844,  -8.22675534,  -3.21391908,\n",
       "       -10.20301664])"
      ]
     },
     "execution_count": 628,
     "metadata": {},
     "output_type": "execute_result"
    }
   ],
   "source": [
    "Q[:,1,0,39]"
   ]
  },
  {
   "cell_type": "code",
   "execution_count": 629,
   "id": "b038cae4",
   "metadata": {},
   "outputs": [
    {
     "data": {
      "text/plain": [
       "array([-10.81124603,  -8.37479688,  -8.74062591,  -8.30411898,\n",
       "        -8.46010346,  -9.1721422 ,  -8.95779412,  -8.84942759,\n",
       "        -9.93880605, -11.94644294, -10.49600571, -10.77287825,\n",
       "       -12.33636878, -11.20122626, -11.17351897, -12.47246814,\n",
       "       -11.18740958, -11.76092808, -12.57638072, -12.20501979,\n",
       "       -12.70773119, -13.11383463, -12.65999001, -12.91265739,\n",
       "       -12.53685103, -12.44054284, -13.37200329, -12.87077965,\n",
       "       -13.55444266, -13.19034913, -13.32735311, -14.18443096,\n",
       "       -13.73919687, -14.38546084, -13.81517619, -14.31905173,\n",
       "       -13.93293104, -14.46806217, -14.14920698, -14.53542966,\n",
       "       -13.93874724, -14.6844737 , -14.36028887, -15.00099103,\n",
       "       -14.4595759 , -15.13016371, -14.93558506, -15.60185564,\n",
       "       -15.43252832, -15.67359823, -15.58026983, -14.98711606,\n",
       "       -14.91091929, -14.73565148, -14.3087659 , -14.51323266,\n",
       "       -13.52220198, -13.89842908, -13.09629266, -12.87011662,\n",
       "       -12.71582983, -12.82020612, -12.39164418, -12.62381839,\n",
       "       -11.28948987, -11.34375689, -11.0384498 , -11.65649429,\n",
       "       -10.78174761, -11.03871427, -10.2625049 , -10.21597948,\n",
       "       -10.2816981 ,  -9.68531206,  -9.66537765,  -9.24036495,\n",
       "        -9.42070105,  -8.38125311,  -8.55693952,  -8.35739291,\n",
       "        -7.73299983,  -6.8911025 ,  -6.85991186,  -6.58594454,\n",
       "        -6.63378072,  -5.81374207,  -5.73150876,  -4.87088977,\n",
       "        -4.96855345,  -4.27412572,  -4.6660754 ,  -3.69956259,\n",
       "        -3.30863953,  -3.55308112,  -2.86214834,  -2.62754005,\n",
       "        -2.26111316,  -2.35182452,  -1.9480989 ,  -1.43965639,\n",
       "        -2.56173477])"
      ]
     },
     "execution_count": 629,
     "metadata": {},
     "output_type": "execute_result"
    }
   ],
   "source": [
    "Q[:,1,0,5]"
   ]
  },
  {
   "cell_type": "code",
   "execution_count": 572,
   "id": "32b62c3c",
   "metadata": {},
   "outputs": [
    {
     "data": {
      "text/plain": [
       "array([0., 0., 0., 0., 0., 0., 0., 0., 0., 0., 0., 0., 0., 0., 0., 0., 0.,\n",
       "       0., 0., 0., 0., 0., 0., 0., 0., 0., 0., 0., 0., 0., 0., 0., 0., 0.,\n",
       "       0., 0., 0., 0., 0., 0., 0., 0., 0., 0., 0., 0., 0., 0., 0., 0., 0.,\n",
       "       0., 0., 0., 0., 0., 0., 0., 0., 0., 0., 0., 0., 0., 0., 0., 0., 0.,\n",
       "       0., 0., 0., 0., 0., 0., 0., 0., 0., 0., 0., 0., 0., 0., 0., 0., 0.,\n",
       "       0., 0., 0., 0., 0., 0., 0., 0., 0., 0., 0., 0., 0., 0., 0., 0.])"
      ]
     },
     "execution_count": 572,
     "metadata": {},
     "output_type": "execute_result"
    }
   ],
   "source": [
    "W_visits[:,1]"
   ]
  },
  {
   "cell_type": "code",
   "execution_count": 566,
   "id": "02c4380e",
   "metadata": {},
   "outputs": [
    {
     "data": {
      "text/plain": [
       "array([0.3030303 , 0.30777594, 0.31259589, 0.31749132, 0.32246342,\n",
       "       0.32751339, 0.33264244, 0.33785182, 0.34314277, 0.34851659,\n",
       "       0.35397456, 0.35951801, 0.36514828, 0.37086671, 0.3766747 ,\n",
       "       0.38257365, 0.38856498, 0.39465013, 0.40083058, 0.40710783,\n",
       "       0.41348337, 0.41995877, 0.42653557, 0.43321536, 0.43999977,\n",
       "       0.44689042, 0.45388899, 0.46099716, 0.46821664, 0.47554919,\n",
       "       0.48299657, 0.49056058, 0.49824305, 0.50604582, 0.5139708 ,\n",
       "       0.52201988, 0.53019502, 0.53849818, 0.54693138, 0.55549665,\n",
       "       0.56419605, 0.57303169, 0.5820057 , 0.59112025, 0.60037754,\n",
       "       0.60977981, 0.61932932, 0.62902838, 0.63887933, 0.64888456,\n",
       "       0.65904647, 0.66936752, 0.67985021, 0.69049706, 0.70131065,\n",
       "       0.71229359, 0.72344852, 0.73477815, 0.74628521, 0.75797247,\n",
       "       0.76984276, 0.78189895, 0.79414395, 0.80658071, 0.81921224,\n",
       "       0.83204158, 0.84507184, 0.85830616, 0.87174774, 0.88539982,\n",
       "       0.8992657 , 0.91334873, 0.9276523 , 0.94217988, 0.95693497,\n",
       "       0.97192113, 0.98714199, 1.00260121, 1.01830253, 1.03424975,\n",
       "       1.0504467 , 1.06689732, 1.08360555, 1.10057545, 1.11781111,\n",
       "       1.13531669, 1.15309641, 1.17115458, 1.18949554, 1.20812374,\n",
       "       1.22704367, 1.24625989, 1.26577705, 1.28559986, 1.30573311,\n",
       "       1.32618165, 1.34695044, 1.36804447, 1.38946885, 1.41122875,\n",
       "       1.43332941])"
      ]
     },
     "execution_count": 566,
     "metadata": {},
     "output_type": "execute_result"
    }
   ],
   "source": [
    "W[:,1]"
   ]
  },
  {
   "cell_type": "code",
   "execution_count": 1057,
   "id": "b8a7ed8a",
   "metadata": {},
   "outputs": [
    {
     "data": {
      "text/plain": [
       "[<matplotlib.lines.Line2D at 0x1e324c91190>]"
      ]
     },
     "execution_count": 1057,
     "metadata": {},
     "output_type": "execute_result"
    },
    {
     "data": {
      "image/png": "[encoded data removed]",
      "text/plain": [
       "<Figure size 432x288 with 1 Axes>"
      ]
     },
     "metadata": {
      "needs_background": "light"
     },
     "output_type": "display_data"
    }
   ],
   "source": [
    "plt.plot(W_visits[:,3])"
   ]
  },
  {
   "cell_type": "code",
   "execution_count": 1054,
   "id": "edf77bee",
   "metadata": {},
   "outputs": [
    {
     "data": {
      "text/plain": [
       "0"
      ]
     },
     "execution_count": 1054,
     "metadata": {},
     "output_type": "execute_result"
    }
   ],
   "source": [
    "W_visits[:,1].argmax()"
   ]
  },
  {
   "cell_type": "code",
   "execution_count": 527,
   "id": "4ba491c3",
   "metadata": {},
   "outputs": [
    {
     "data": {
      "text/plain": [
       "-1.06499174783856"
      ]
     },
     "execution_count": 527,
     "metadata": {},
     "output_type": "execute_result"
    }
   ],
   "source": [
    "Q[50,1,:,:].max()"
   ]
  },
  {
   "cell_type": "code",
   "execution_count": 529,
   "id": "7773727e",
   "metadata": {},
   "outputs": [
    {
     "data": {
      "text/plain": [
       "78"
      ]
     },
     "execution_count": 529,
     "metadata": {},
     "output_type": "execute_result"
    }
   ],
   "source": [
    "Q[50,1,:,:].argmax()"
   ]
  },
  {
   "cell_type": "code",
   "execution_count": 531,
   "id": "71d2cac9",
   "metadata": {},
   "outputs": [
    {
     "name": "stdout",
     "output_type": "stream",
     "text": [
      "38\n"
     ]
    }
   ],
   "source": [
    "print(np.argwhere(Q[50,1,:,:] == Q[50,1,:,:].max())[0,1])"
   ]
  },
  {
   "cell_type": "code",
   "execution_count": 517,
   "id": "c2be217c",
   "metadata": {},
   "outputs": [
    {
     "data": {
      "text/plain": [
       "array([0.5       , 0.50529356, 0.51064317, 0.51604941, 0.52151289,\n",
       "       0.52703421, 0.53261398, 0.53825283, 0.54395138, 0.54971026,\n",
       "       0.55553011, 0.56141158, 0.56735531, 0.57336197, 0.57943223,\n",
       "       0.58556675, 0.59176621, 0.59803132, 0.60436275, 0.61076121,\n",
       "       0.61722741, 0.62376208, 0.63036592, 0.63703968, 0.6437841 ,\n",
       "       0.65059992, 0.6574879 , 0.66444881, 0.67148341, 0.67859249,\n",
       "       0.68577683, 0.69303723, 0.7003745 , 0.70778945, 0.71528291,\n",
       "       0.7228557 , 0.73050866, 0.73824264, 0.74605851, 0.75395712,\n",
       "       0.76193936, 0.7700061 , 0.77815825, 0.78639671, 0.79472239,\n",
       "       0.80313621, 0.81163911, 0.82023204, 0.82891594, 0.83769177,\n",
       "       0.84656052, 0.85552316, 0.86458069, 0.87373411, 0.88298444,\n",
       "       0.8923327 , 0.90177994, 0.91132719, 0.92097553, 0.93072601,\n",
       "       0.94057972, 0.95053775, 0.96060121, 0.97077121, 0.98104889,\n",
       "       0.99143537, 1.00193182, 1.0125394 , 1.02325928, 1.03409265,\n",
       "       1.04504071, 1.05610469, 1.0672858 , 1.07858529, 1.0900044 ,\n",
       "       1.10154441, 1.1132066 , 1.12499225, 1.13690268, 1.14893921,\n",
       "       1.16110317, 1.17339591, 1.1858188 , 1.19837321, 1.21106054,\n",
       "       1.22388218, 1.23683957, 1.24993415, 1.26316735, 1.27654066,\n",
       "       1.29005555, 1.30371353, 1.31751611, 1.33146481, 1.34556119,\n",
       "       1.35980681, 1.37420326, 1.38875211, 1.403455  , 1.41831355,\n",
       "       1.43332941])"
      ]
     },
     "execution_count": 517,
     "metadata": {},
     "output_type": "execute_result"
    }
   ],
   "source": [
    "W[:,1]"
   ]
  },
  {
   "cell_type": "code",
   "execution_count": 1053,
   "id": "74a4be12",
   "metadata": {},
   "outputs": [
    {
     "name": "stdout",
     "output_type": "stream",
     "text": [
      "3.45\n"
     ]
    },
    {
     "data": {
      "image/png": "[encoded data removed]",
      "text/plain": [
       "<Figure size 432x288 with 1 Axes>"
      ]
     },
     "metadata": {
      "needs_background": "light"
     },
     "output_type": "display_data"
    }
   ],
   "source": [
    "optimalC = np.zeros(nW)\n",
    "t=1\n",
    "for w in range(nW):\n",
    "    optimalC[w] = np.argwhere(Q[w,t,:,:] == np.amax(Q[w,t,:,:]))[0,1]\n",
    "plt.plot(optimalC)\n",
    "print(optimalC[60:80].mean())"
   ]
  },
  {
   "cell_type": "code",
   "execution_count": 993,
   "id": "af262c0e",
   "metadata": {},
   "outputs": [
    {
     "data": {
      "text/plain": [
       "8"
      ]
     },
     "execution_count": 993,
     "metadata": {},
     "output_type": "execute_result"
    }
   ],
   "source": [
    "np.argwhere(Q[77,2,:,:] == np.amax(Q[77,2,:,:]))[0,1]"
   ]
  },
  {
   "cell_type": "code",
   "execution_count": 768,
   "id": "36191a24",
   "metadata": {},
   "outputs": [
    {
     "data": {
      "text/plain": [
       "30.0"
      ]
     },
     "execution_count": 768,
     "metadata": {},
     "output_type": "execute_result"
    }
   ],
   "source": [
    "c = C[70,9]\n",
    "c"
   ]
  },
  {
   "cell_type": "code",
   "execution_count": 769,
   "id": "a68f32af",
   "metadata": {},
   "outputs": [
    {
     "data": {
      "text/plain": [
       "0.5166666666666667"
      ]
     },
     "execution_count": 769,
     "metadata": {},
     "output_type": "execute_result"
    }
   ],
   "source": [
    "cons = (c+1)/(1.5*nC)\n",
    "cons"
   ]
  },
  {
   "cell_type": "code",
   "execution_count": 767,
   "id": "2b56cc32",
   "metadata": {},
   "outputs": [
    {
     "data": {
      "text/plain": [
       "[<matplotlib.lines.Line2D at 0x1e315cd27c0>]"
      ]
     },
     "execution_count": 767,
     "metadata": {},
     "output_type": "execute_result"
    },
    {
     "data": {
      "image/png": "[encoded data removed]",
      "text/plain": [
       "<Figure size 432x288 with 1 Axes>"
      ]
     },
     "metadata": {
      "needs_background": "light"
     },
     "output_type": "display_data"
    }
   ],
   "source": [
    "plt.plot(C[:,9])"
   ]
  },
  {
   "cell_type": "code",
   "execution_count": 794,
   "id": "ae159d03",
   "metadata": {},
   "outputs": [
    {
     "data": {
      "text/plain": [
       "array([-23.53235969, -22.82479314, -22.90407609, -22.57251872,\n",
       "       -22.6699973 , -22.71420248, -22.71935296, -22.77615133,\n",
       "       -22.99212632, -23.00150679, -23.15218127, -23.25551928,\n",
       "       -23.19315403, -23.47344094, -23.57626747, -23.73491708,\n",
       "       -24.00598311, -24.01664471, -24.39334382, -24.46421163,\n",
       "       -24.71251187, -24.99272115, -25.10995964, -25.3731146 ,\n",
       "       -25.72494361, -25.92332081, -26.20374542, -26.53903673,\n",
       "       -26.72240468, -26.99594459, -27.25540104, -27.56848455,\n",
       "       -27.94456179, -28.29733695, -28.74311589, -28.98858941,\n",
       "       -29.14345461, -29.95405344, -29.04066309, -26.85303442])"
      ]
     },
     "execution_count": 794,
     "metadata": {},
     "output_type": "execute_result"
    }
   ],
   "source": [
    "Q[0,0,0,:]"
   ]
  },
  {
   "cell_type": "code",
   "execution_count": 801,
   "id": "fa5e601a",
   "metadata": {},
   "outputs": [
    {
     "data": {
      "text/plain": [
       "array([-20.15856937, -19.72685725, -19.52394958, -19.02750553,\n",
       "       -19.13807897, -20.18349831, -20.09673501, -20.05158332,\n",
       "       -20.4445867 , -20.46304029, -21.2652801 , -21.34068963,\n",
       "       -21.27968102, -21.88806115, -22.42370218, -22.27939893,\n",
       "       -22.92352721, -23.06696362, -23.36266978, -23.54403713,\n",
       "       -23.59341648, -24.12487807, -24.49925163, -24.75708932,\n",
       "       -25.16563952, -25.2927163 , -25.45804628, -25.3244508 ,\n",
       "       -25.82032019, -25.10710752, -24.83836785, -24.48509022,\n",
       "       -23.87637349, -22.77622595, -22.89706835, -22.00704154,\n",
       "       -21.86133694, -21.09435894, -20.62749707, -19.2577609 ])"
      ]
     },
     "execution_count": 801,
     "metadata": {},
     "output_type": "execute_result"
    }
   ],
   "source": [
    "Q[0,0,0,:]"
   ]
  },
  {
   "cell_type": "code",
   "execution_count": 816,
   "id": "63fed21f",
   "metadata": {},
   "outputs": [
    {
     "data": {
      "text/plain": [
       "array([-23.2120336 , -22.85274564, -22.91043711, -22.78413744,\n",
       "       -22.71643674, -22.66571387, -22.66471117, -22.67032285,\n",
       "       -22.95365783, -22.92604489, -22.77190612, -22.67111142,\n",
       "       -23.15912531, -23.01183004, -23.17653522, -23.50814462,\n",
       "       -23.82226784, -24.02038108, -23.90362094, -23.93669787,\n",
       "       -24.5382042 , -24.95304994, -24.7216385 , -25.13403214,\n",
       "       -25.69943197, -25.91684939, -26.0248216 , -26.09316672,\n",
       "       -26.59837064, -26.60535955, -27.062925  , -27.3992454 ,\n",
       "       -28.00340498, -28.13350339, -28.38073875, -27.71583928,\n",
       "       -29.21102799, -29.87520802, -29.85544315, -29.16321837])"
      ]
     },
     "execution_count": 816,
     "metadata": {},
     "output_type": "execute_result"
    }
   ],
   "source": [
    "Q[0,0,0,:]"
   ]
  },
  {
   "cell_type": "code",
   "execution_count": null,
   "id": "3c77c69a",
   "metadata": {},
   "outputs": [],
   "source": []
  },
  {
   "cell_type": "code",
   "execution_count": null,
   "id": "28849dd4",
   "metadata": {},
   "outputs": [],
   "source": [
    "#path1 = [50, 50, 50, 50, 50, 50, 50, 50, 50, 50, 50]\n",
    "#path2 = [50, 51, 52, 53, 54, 55, 56, 57, 58, 59, 60]\n",
    "#path3 = [50, 51, 51, 52, 52, 53, 53, 54, 54, 55, 55]\n",
    "optimalA1 = np.zeros(T)\n",
    "optimalA2 = np.zeros(T)\n",
    "optimalA3 = np.zeros(T)\n",
    "for t in range(T):\n",
    "    optimalA1[t] = A[path1[t],t]*0.05\n",
    "    optimalA2[t] = A[path2[t],t]*0.05\n",
    "    optimalA3[t] = A[path3[t],t]*0.05\n",
    "plt.plot(optimalA3, marker='^', label='9% Return Path')\n",
    "plt.plot(optimalA2, marker='s', label='7.5% Return Path')\n",
    "plt.plot(optimalA1, marker='o', label='6% Return Path')\n",
    "plt.legend()\n",
    "plt.xticks(np.arange(0, 10))\n",
    "plt.xlabel(\"time, $t$\")\n",
    "plt.ylabel(\"Percent Allocation to Stocks\")\n",
    "#plt.savefig('Fig12_4.png', dpi=300, bbox_inches='tight');\n",
    "#plt.savefig('Fig12_4.svg', format='svg', bbox_inches='tight');"
   ]
  },
  {
   "cell_type": "code",
   "execution_count": 450,
   "id": "6bcb5791",
   "metadata": {},
   "outputs": [
    {
     "data": {
      "text/plain": [
       "[50, 53, 54, 55, 55, 56, 56, 57, 57, 58]"
      ]
     },
     "execution_count": 450,
     "metadata": {},
     "output_type": "execute_result"
    }
   ],
   "source": [
    "path3"
   ]
  },
  {
   "cell_type": "code",
   "execution_count": null,
   "id": "1c93dd9e",
   "metadata": {},
   "outputs": [],
   "source": []
  },
  {
   "cell_type": "code",
   "execution_count": null,
   "id": "60953d49",
   "metadata": {},
   "outputs": [],
   "source": []
  },
  {
   "cell_type": "code",
   "execution_count": null,
   "id": "2bf1e4cb",
   "metadata": {},
   "outputs": [],
   "source": []
  },
  {
   "cell_type": "code",
   "execution_count": null,
   "id": "047d6308",
   "metadata": {},
   "outputs": [],
   "source": []
  },
  {
   "cell_type": "code",
   "execution_count": 431,
   "id": "8b1a7678",
   "metadata": {},
   "outputs": [
    {
     "data": {
      "text/plain": [
       "array([[ 1, 20,  3],\n",
       "       [ 5,  5, -5]])"
      ]
     },
     "execution_count": 431,
     "metadata": {},
     "output_type": "execute_result"
    }
   ],
   "source": [
    "arr = np.array([[1,20,3], [5,5,-5]])\n",
    "arr"
   ]
  },
  {
   "cell_type": "code",
   "execution_count": 349,
   "id": "6014bcc8",
   "metadata": {},
   "outputs": [
    {
     "name": "stdout",
     "output_type": "stream",
     "text": [
      "3\n"
     ]
    }
   ],
   "source": [
    "print(np.argmax(arr))"
   ]
  },
  {
   "cell_type": "code",
   "execution_count": 434,
   "id": "1c2c9d5b",
   "metadata": {},
   "outputs": [
    {
     "name": "stdout",
     "output_type": "stream",
     "text": [
      "[0 1]\n"
     ]
    }
   ],
   "source": [
    "a = np.argwhere(arr == arr.max())\n",
    "print(a[0])"
   ]
  },
  {
   "cell_type": "code",
   "execution_count": 435,
   "id": "3542f4be",
   "metadata": {},
   "outputs": [
    {
     "name": "stdout",
     "output_type": "stream",
     "text": [
      "0\n",
      "1\n"
     ]
    }
   ],
   "source": [
    "x,y = a[0]\n",
    "print(x)\n",
    "print(y)"
   ]
  },
  {
   "cell_type": "code",
   "execution_count": 421,
   "id": "14dae6ce",
   "metadata": {},
   "outputs": [
    {
     "data": {
      "text/plain": [
       "2"
      ]
     },
     "execution_count": 421,
     "metadata": {},
     "output_type": "execute_result"
    }
   ],
   "source": [
    "len(a)"
   ]
  },
  {
   "cell_type": "code",
   "execution_count": 424,
   "id": "4c07f596",
   "metadata": {},
   "outputs": [
    {
     "data": {
      "text/plain": [
       "array([1, 1], dtype=int64)"
      ]
     },
     "execution_count": 424,
     "metadata": {},
     "output_type": "execute_result"
    }
   ],
   "source": [
    "a[1]"
   ]
  },
  {
   "cell_type": "code",
   "execution_count": 428,
   "id": "e9be7c02",
   "metadata": {},
   "outputs": [
    {
     "name": "stdout",
     "output_type": "stream",
     "text": [
      "[1 0]\n",
      "[1 1]\n",
      "[1 0]\n",
      "[1 1]\n",
      "[1 1]\n",
      "[1 1]\n",
      "[1 0]\n",
      "[1 0]\n",
      "[1 0]\n",
      "[1 0]\n"
     ]
    }
   ],
   "source": [
    "for i in range(10):\n",
    "    a1 = np.random.choice(len(a))\n",
    "    print(a[a1])"
   ]
  },
  {
   "cell_type": "code",
   "execution_count": null,
   "id": "b4c1837f",
   "metadata": {},
   "outputs": [],
   "source": []
  },
  {
   "cell_type": "code",
   "execution_count": 390,
   "id": "ab3dce12",
   "metadata": {},
   "outputs": [
    {
     "data": {
      "text/plain": [
       "array([1, 1], dtype=int64)"
      ]
     },
     "execution_count": 390,
     "metadata": {},
     "output_type": "execute_result"
    }
   ],
   "source": [
    "a[1]"
   ]
  },
  {
   "cell_type": "code",
   "execution_count": null,
   "id": "c5a0a3d2",
   "metadata": {},
   "outputs": [],
   "source": []
  },
  {
   "cell_type": "code",
   "execution_count": 417,
   "id": "7f3fdc7d",
   "metadata": {},
   "outputs": [
    {
     "data": {
      "text/plain": [
       "array([2, 5, 4, 1, 5, 4])"
      ]
     },
     "execution_count": 417,
     "metadata": {},
     "output_type": "execute_result"
    }
   ],
   "source": [
    "arr2 = np.array([2,5,4,1,5,4])\n",
    "arr2"
   ]
  },
  {
   "cell_type": "code",
   "execution_count": 418,
   "id": "7cb28f7e",
   "metadata": {},
   "outputs": [
    {
     "data": {
      "text/plain": [
       "array([1, 4], dtype=int64)"
      ]
     },
     "execution_count": 418,
     "metadata": {},
     "output_type": "execute_result"
    }
   ],
   "source": [
    "a = np.where(arr2 == arr2.max())[0]\n",
    "a"
   ]
  },
  {
   "cell_type": "code",
   "execution_count": 419,
   "id": "3dc9c5fa",
   "metadata": {},
   "outputs": [
    {
     "name": "stdout",
     "output_type": "stream",
     "text": [
      "1\n",
      "4\n",
      "1\n",
      "4\n",
      "4\n",
      "1\n",
      "1\n",
      "4\n",
      "1\n",
      "1\n"
     ]
    }
   ],
   "source": [
    "for i in range(10):\n",
    "    a1 = np.random.choice(a)\n",
    "    print(a1)"
   ]
  },
  {
   "cell_type": "code",
   "execution_count": 410,
   "id": "70676f4d",
   "metadata": {},
   "outputs": [
    {
     "data": {
      "text/plain": [
       "array([1, 4], dtype=int64)"
      ]
     },
     "execution_count": 410,
     "metadata": {},
     "output_type": "execute_result"
    }
   ],
   "source": [
    "a = np.where(arr2 == arr2.max())[0]\n",
    "a"
   ]
  },
  {
   "cell_type": "code",
   "execution_count": 411,
   "id": "222a7d04",
   "metadata": {},
   "outputs": [
    {
     "data": {
      "text/plain": [
       "2"
      ]
     },
     "execution_count": 411,
     "metadata": {},
     "output_type": "execute_result"
    }
   ],
   "source": [
    "len(a)"
   ]
  },
  {
   "cell_type": "code",
   "execution_count": 394,
   "id": "092268fd",
   "metadata": {},
   "outputs": [
    {
     "data": {
      "text/plain": [
       "array([2, 5], dtype=int64)"
      ]
     },
     "execution_count": 394,
     "metadata": {},
     "output_type": "execute_result"
    }
   ],
   "source": [
    "a = np.where(arr2 == arr2.max())[0]\n",
    "a"
   ]
  },
  {
   "cell_type": "code",
   "execution_count": 465,
   "id": "3abef9f8",
   "metadata": {},
   "outputs": [
    {
     "name": "stdout",
     "output_type": "stream",
     "text": [
      "[[2 0]]\n"
     ]
    }
   ],
   "source": [
    "arr = np.array([[1, 2, 3],\n",
    "                [4, 5, 6],\n",
    "                [17, 8, 9]])\n",
    "\n",
    "# get the indices of all non-zero elements\n",
    "indices = np.argwhere(arr == np.amax(arr))\n",
    "\n",
    "# print the indices\n",
    "print(indices)"
   ]
  },
  {
   "cell_type": "code",
   "execution_count": 466,
   "id": "9f61afcb",
   "metadata": {},
   "outputs": [
    {
     "data": {
      "text/plain": [
       "0"
      ]
     },
     "execution_count": 466,
     "metadata": {},
     "output_type": "execute_result"
    }
   ],
   "source": [
    "indices[0,1]"
   ]
  },
  {
   "cell_type": "code",
   "execution_count": 369,
   "id": "5c3aa6d6",
   "metadata": {},
   "outputs": [
    {
     "data": {
      "text/plain": [
       "[<matplotlib.lines.Line2D at 0x1e30d5328e0>]"
      ]
     },
     "execution_count": 369,
     "metadata": {},
     "output_type": "execute_result"
    },
    {
     "data": {
      "image/png": "[encoded data removed]",
      "text/plain": [
       "<Figure size 432x288 with 1 Axes>"
      ]
     },
     "metadata": {
      "needs_background": "light"
     },
     "output_type": "display_data"
    }
   ],
   "source": [
    "x = np.linspace(1,10,50)\n",
    "#plt.plot(x,np.log(x))\n",
    "plt.plot(x, utility(x))"
   ]
  },
  {
   "cell_type": "code",
   "execution_count": 877,
   "id": "4a969a20",
   "metadata": {},
   "outputs": [
    {
     "ename": "TypeError",
     "evalue": "only size-1 arrays can be converted to Python scalars",
     "output_type": "error",
     "traceback": [
      "\u001b[1;31m---------------------------------------------------------------------------\u001b[0m",
      "\u001b[1;31mTypeError\u001b[0m                                 Traceback (most recent call last)",
      "Input \u001b[1;32mIn [877]\u001b[0m, in \u001b[0;36m<cell line: 3>\u001b[1;34m()\u001b[0m\n\u001b[0;32m      1\u001b[0m x \u001b[38;5;241m=\u001b[39m np\u001b[38;5;241m.\u001b[39mlinspace(\u001b[38;5;241m1\u001b[39m,\u001b[38;5;241m10\u001b[39m,\u001b[38;5;241m50\u001b[39m)\n\u001b[0;32m      2\u001b[0m \u001b[38;5;66;03m#plt.plot(x,np.log(x))\u001b[39;00m\n\u001b[1;32m----> 3\u001b[0m plt\u001b[38;5;241m.\u001b[39mplot(x, \u001b[43mutility\u001b[49m\u001b[43m(\u001b[49m\u001b[43mx\u001b[49m\u001b[43m)\u001b[49m)\n\u001b[0;32m      4\u001b[0m plt\u001b[38;5;241m.\u001b[39mvline(\u001b[38;5;241m2\u001b[39m,utility(\u001b[38;5;241m2\u001b[39m))\n",
      "Input \u001b[1;32mIn [722]\u001b[0m, in \u001b[0;36mutility\u001b[1;34m(c)\u001b[0m\n\u001b[0;32m     12\u001b[0m \u001b[38;5;28;01mdef\u001b[39;00m \u001b[38;5;21mutility\u001b[39m(c):\n\u001b[1;32m---> 13\u001b[0m     util \u001b[38;5;241m=\u001b[39m \u001b[43mlog\u001b[49m\u001b[43m(\u001b[49m\u001b[43mc\u001b[49m\u001b[43m)\u001b[49m\n\u001b[0;32m     14\u001b[0m     \u001b[38;5;66;03m#util = (c**(1-CRRA)-1)/(1-CRRA)\u001b[39;00m\n\u001b[0;32m     15\u001b[0m     \u001b[38;5;28;01mreturn\u001b[39;00m util\n",
      "\u001b[1;31mTypeError\u001b[0m: only size-1 arrays can be converted to Python scalars"
     ]
    }
   ],
   "source": [
    "x = np.linspace(1,10,50)\n",
    "#plt.plot(x,np.log(x))\n",
    "plt.plot(x, utility(x))\n",
    "plt.vline(2,utility(2))"
   ]
  },
  {
   "cell_type": "code",
   "execution_count": 878,
   "id": "ad413a6e",
   "metadata": {},
   "outputs": [
    {
     "data": {
      "text/plain": [
       "0.6931471805599453"
      ]
     },
     "execution_count": 878,
     "metadata": {},
     "output_type": "execute_result"
    }
   ],
   "source": [
    "utility(2)"
   ]
  },
  {
   "cell_type": "code",
   "execution_count": 879,
   "id": "6e415df8",
   "metadata": {},
   "outputs": [
    {
     "data": {
      "text/plain": [
       "0.6931471805599453"
      ]
     },
     "execution_count": 879,
     "metadata": {},
     "output_type": "execute_result"
    }
   ],
   "source": [
    "log(2)"
   ]
  },
  {
   "cell_type": "code",
   "execution_count": 370,
   "id": "44131995",
   "metadata": {},
   "outputs": [
    {
     "data": {
      "text/plain": [
       "[<matplotlib.lines.Line2D at 0x1e30d590d60>]"
      ]
     },
     "execution_count": 370,
     "metadata": {},
     "output_type": "execute_result"
    },
    {
     "data": {
      "image/png": "[encoded data removed]",
      "text/plain": [
       "<Figure size 432x288 with 1 Axes>"
      ]
     },
     "metadata": {
      "needs_background": "light"
     },
     "output_type": "display_data"
    }
   ],
   "source": [
    "x = np.linspace(1,20,50)\n",
    "plt.plot(x,np.log(x))"
   ]
  },
  {
   "cell_type": "code",
   "execution_count": 1013,
   "id": "623dc8bd",
   "metadata": {},
   "outputs": [
    {
     "data": {
      "image/png": "[encoded data removed]",
      "text/plain": [
       "<Figure size 432x288 with 1 Axes>"
      ]
     },
     "metadata": {},
     "output_type": "display_data"
    }
   ],
   "source": [
    "x = np.linspace(0,10,500)\n",
    "y = np.linspace(0,sqrt(10),500)\n",
    "fig,ax = plt.subplots(1)\n",
    "plt.plot(x,np.sqrt(x), lw=3)\n",
    "#ax.set_yticklabels([])\n",
    "##ax.set_xticks([0, 5,10])\n",
    "##ax.set_xticklabels([0,5,10]);\n",
    "ax.set_xticks([])\n",
    "ax.set_xticklabels([]);\n",
    "ax.set_yticks([])\n",
    "ax.set_yticklabels([]);\n",
    "#ax.hlines(y=sqrt(10), xmin=0, xmax=10, linewidth=1, color='k')\n",
    "ceq = (sqrt(10)/2)**2\n",
    "#plt.plot(x,y, lw=1,color='k')\n",
    "#ax.xaxis.set_tick_params(pad=30) \n",
    "#ax.annotate('Certainty\\nEquivalent', xy=(2.5, -0.8), xycoords='data', ha='center', annotation_clip=False)\n",
    "#ax.annotate('Expected\\nUtility', xy=(-1.4, sqrt(10)/2), xycoords='data', va='center', ha='right', annotation_clip=False)\n",
    "#ax.hlines(y=sqrt(10)/2, xmin=0, xmax=2.5, linewidth=1, color='k')\n",
    "#ax.vlines(x=2.5, ymin=0, ymax=sqrt(2.5), linewidth=1, color='k')\n",
    "#plt.scatter([0,10], [0,sqrt(10)])\n",
    "#ax.annotate('50%', xy=(0.2, 0), xycoords='data', va='center', ha='left')\n",
    "#ax.annotate('50%', xy=(10, sqrt(10)-.1), xycoords='data', va='top', ha='center')\n",
    "#fig.subplots_adjust(bottom=-.5)\n",
    "plt.xlabel('\\n\\nWealth', fontsize=16)\n",
    "plt.ylabel('Utility\\n\\n\\n', fontsize=16)\n",
    "#plt.axhline(y=2, xmin=0,xmax=4,color='b');\n",
    "#ax.margins(x=0.0)\n",
    "#plt.xticks([]);\n",
    "#plt.savefig('Fig12_5.png', dpi=300, bbox_inches='tight');\n",
    "#plt.savefig('Fig12_5.svg', format='svg', bbox_inches='tight');"
   ]
  },
  {
   "cell_type": "code",
   "execution_count": 1559,
   "id": "e0eb9513",
   "metadata": {},
   "outputs": [
    {
     "data": {
      "text/plain": [
       "Text(0, 0.5, 'Utility\\n\\n\\n')"
      ]
     },
     "execution_count": 1559,
     "metadata": {},
     "output_type": "execute_result"
    },
    {
     "data": {
      "image/png": "[encoded data removed]",
      "text/plain": [
       "<Figure size 432x288 with 1 Axes>"
      ]
     },
     "metadata": {
      "needs_background": "light"
     },
     "output_type": "display_data"
    }
   ],
   "source": [
    "x = np.linspace(0,10,500)\n",
    "y = np.linspace(0,sqrt(10),500)\n",
    "fig,ax = plt.subplots(1)\n",
    "plt.plot(x,np.sqrt(x), lw=3)\n",
    "#ax.set_yticklabels([])\n",
    "ax.set_xticks([0,2.5, 5,10])\n",
    "ax.set_xticklabels([0,2.5,5,10]);\n",
    "#ax.hlines(y=sqrt(10), xmin=0, xmax=10, linewidth=1, color='k')\n",
    "ceq = (sqrt(10)/2)**2\n",
    "#plt.plot(x,y, lw=1,color='k')\n",
    "#ax.xaxis.set_tick_params(pad=30) \n",
    "ax.annotate('Certainty\\nEquivalent', xy=(2.5, -0.8), xycoords='data', ha='center', annotation_clip=False)\n",
    "ax.annotate('Expected\\nUtility', xy=(-1.4, sqrt(10)/2), xycoords='data', va='center', ha='right', annotation_clip=False)\n",
    "ax.hlines(y=sqrt(10)/2, xmin=0, xmax=2.5, linewidth=1, color='k')\n",
    "ax.vlines(x=2.5, ymin=0, ymax=sqrt(2.5), linewidth=1, color='k')\n",
    "plt.scatter([0,10], [0,sqrt(10)])\n",
    "ax.annotate('50%', xy=(0.2, 0), xycoords='data', va='center', ha='left')\n",
    "ax.annotate('50%', xy=(10, sqrt(10)-.1), xycoords='data', va='top', ha='center')\n",
    "#fig.subplots_adjust(bottom=-.5)\n",
    "plt.xlabel('\\n\\nWealth', fontsize=16)\n",
    "plt.ylabel('Utility\\n\\n\\n', fontsize=16)\n",
    "#plt.axhline(y=2, xmin=0,xmax=4,color='b');\n",
    "#ax.margins(x=0.0)\n",
    "#plt.xticks([]);\n",
    "#plt.savefig('Fig12_6.png', dpi=300, bbox_inches='tight');\n",
    "#plt.savefig('Fig12_6.svg', format='svg', bbox_inches='tight');"
   ]
  },
  {
   "cell_type": "code",
   "execution_count": 984,
   "id": "132e529a",
   "metadata": {},
   "outputs": [],
   "source": [
    "CRRA = 2\n",
    "def utility(c):\n",
    "    #util = log(c)\n",
    "    util = (c**(1-CRRA)-1)/(1-CRRA)\n",
    "    return util"
   ]
  },
  {
   "cell_type": "markdown",
   "id": "cc502ae2",
   "metadata": {},
   "source": [
    "$$ U(W) = \\frac{W^{1-\\eta}-1}{1-\\eta} \\text{ for } \\eta\\ge 0, \\eta \\ne 1$$"
   ]
  },
  {
   "cell_type": "code",
   "execution_count": 997,
   "id": "256d87a6",
   "metadata": {},
   "outputs": [
    {
     "data": {
      "image/png": "[encoded data removed]",
      "text/plain": [
       "<Figure size 432x288 with 2 Axes>"
      ]
     },
     "metadata": {
      "needs_background": "light"
     },
     "output_type": "display_data"
    }
   ],
   "source": [
    "fig,ax = plt.subplots()\n",
    "#plt.figure(figsize=(10, 6))\n",
    "ax1 = plt.subplot(1,2,1)    \n",
    "x = np.linspace(0,10,500)\n",
    "y = np.linspace(0,sqrt(10),500)\n",
    "\n",
    "plt.plot(x,np.sqrt(x), lw=3)\n",
    "ax1.set_xticks([])\n",
    "ax1.set_xticklabels([]);\n",
    "ax1.set_yticks([])\n",
    "ax1.set_yticklabels([]);\n",
    "plt.xlabel('\\n\\nWealth', fontsize=16)\n",
    "plt.ylabel('Utility\\n\\n\\n', fontsize=16)\n",
    "\n",
    "ax2 = plt.subplot(1, 2, 2)\n",
    "\n",
    "plt.plot(x,np.sqrt(x), lw=3)\n",
    "ax2.set_xticks([0,2.5, 5,10])\n",
    "ax2.set_xticklabels([0,2.5,5,10]);\n",
    "ax2.annotate('Certainty\\nEquivalent', xy=(2.5, -0.8), xycoords='data', ha='center', annotation_clip=False)\n",
    "ax2.annotate('Expected\\nUtility', xy=(-1.4, sqrt(10)/2), xycoords='data', va='center', ha='right', annotation_clip=False)\n",
    "ax2.hlines(y=sqrt(10)/2, xmin=0, xmax=2.5, linewidth=1, color='k')\n",
    "ax2.vlines(x=2.5, ymin=0, ymax=sqrt(2.5), linewidth=1, color='k')\n",
    "plt.scatter([0,10], [0,sqrt(10)])\n",
    "ax.annotate('50%', xy=(0.2, 0), xycoords='data', va='center', ha='left')\n",
    "ax.annotate('50%', xy=(10, sqrt(10)-.1), xycoords='data', va='top', ha='center')\n",
    "plt.xlabel('\\n\\nWealth', fontsize=16)\n",
    "plt.ylabel('Utility\\n\\n\\n', fontsize=16);\n",
    "\n",
    "#plt.savefig('Fig12_2.png', dpi=300, bbox_inches='tight');\n",
    "#plt.savefig('Fig12_2.svg', format='svg', bbox_inches='tight');"
   ]
  },
  {
   "cell_type": "markdown",
   "id": "9ee2cf01",
   "metadata": {},
   "source": [
    "\\begin{equation*}\n",
    "\\begin{aligned}\n",
    "& \\underset{\\large{a_t, \\ c_t}}{\\text{max}}\n",
    "& & E \\left[ \\sum_{t=0}^T \\delta^t U(c_t) \\right] \\\\\n",
    "& \\text{subject to}\n",
    "& & W_{t+1} = (W_t - c_t) \\ (a_t \\tilde{z_t} + (1-a_t) r_f)\n",
    "\\end{aligned}\n",
    "\\end{equation*}"
   ]
  },
  {
   "cell_type": "code",
   "execution_count": null,
   "id": "44e7f437",
   "metadata": {},
   "outputs": [],
   "source": []
  },
  {
   "cell_type": "code",
   "execution_count": null,
   "id": "536ade15",
   "metadata": {},
   "outputs": [],
   "source": []
  },
  {
   "cell_type": "code",
   "execution_count": null,
   "id": "7172fc85",
   "metadata": {},
   "outputs": [],
   "source": []
  },
  {
   "cell_type": "code",
   "execution_count": 318,
   "id": "db47edb5",
   "metadata": {},
   "outputs": [
    {
     "data": {
      "text/plain": [
       "array([9.29244349e-04, 9.96623737e-04, 1.06888880e-03, 1.14639379e-03,\n",
       "       1.22951865e-03, 1.31867089e-03, 1.41428755e-03, 1.51683736e-03,\n",
       "       1.62682304e-03, 1.74478377e-03, 1.87129781e-03, 2.00698538e-03,\n",
       "       2.15251163e-03, 2.30858997e-03, 2.47598553e-03, 2.65551892e-03,\n",
       "       2.84807026e-03, 3.05458347e-03, 3.27607092e-03, 3.51361840e-03,\n",
       "       3.76839042e-03, 4.04163593e-03, 4.33469443e-03, 4.64900256e-03,\n",
       "       4.98610114e-03, 5.34764269e-03, 5.73539958e-03, 6.15127266e-03,\n",
       "       6.59730065e-03, 7.07567008e-03, 7.58872600e-03, 8.13898355e-03,\n",
       "       8.72914020e-03, 9.36208903e-03, 1.00409329e-02, 1.07689997e-02,\n",
       "       1.15498584e-02, 1.23873372e-02, 1.32855414e-02, 1.42488743e-02,\n",
       "       1.52820584e-02, 1.63901584e-02, 1.75786067e-02, 1.88532292e-02,\n",
       "       2.02202745e-02, 2.16864440e-02, 2.32589252e-02, 2.49454269e-02,\n",
       "       2.67542166e-02, 2.86941614e-02, 3.07747714e-02, 3.30062461e-02,\n",
       "       3.53995247e-02, 3.79663397e-02, 4.07192741e-02, 4.36718235e-02,\n",
       "       4.68384618e-02, 5.02347126e-02, 5.38772252e-02, 5.77838558e-02,\n",
       "       6.19737558e-02, 6.64674649e-02, 7.12870122e-02, 7.64560243e-02,\n",
       "       8.19998408e-02, 8.79456387e-02, 9.43225656e-02, 1.01161883e-01,\n",
       "       1.08497118e-01, 1.16364230e-01, 1.24801785e-01, 1.33851147e-01,\n",
       "       1.43556676e-01, 1.53965952e-01, 1.65130004e-01, 1.77103559e-01,\n",
       "       1.89945315e-01, 2.03718226e-01, 2.18489808e-01, 2.34332476e-01,\n",
       "       2.51323893e-01, 2.69547357e-01, 2.89092201e-01, 3.10054239e-01,\n",
       "       3.32536232e-01, 3.56648392e-01, 3.82508921e-01, 4.10244593e-01,\n",
       "       4.39991376e-01, 4.71895094e-01, 5.06112147e-01, 5.42810273e-01,\n",
       "       5.82169376e-01, 6.24382403e-01, 6.69656291e-01, 7.18212982e-01,\n",
       "       7.70290513e-01, 8.26144179e-01, 8.86047788e-01, 9.50294999e-01,\n",
       "       1.01920077e+00])"
      ]
     },
     "execution_count": 318,
     "metadata": {},
     "output_type": "execute_result"
    }
   ],
   "source": [
    "W[:,2]"
   ]
  },
  {
   "cell_type": "code",
   "execution_count": 185,
   "id": "69c209d3",
   "metadata": {},
   "outputs": [
    {
     "data": {
      "text/plain": [
       "-3.248055524192341"
      ]
     },
     "execution_count": 185,
     "metadata": {},
     "output_type": "execute_result"
    }
   ],
   "source": [
    "V[50,9]"
   ]
  },
  {
   "cell_type": "code",
   "execution_count": 729,
   "id": "365814f0",
   "metadata": {},
   "outputs": [
    {
     "data": {
      "text/plain": [
       "8.0"
      ]
     },
     "execution_count": 729,
     "metadata": {},
     "output_type": "execute_result"
    }
   ],
   "source": [
    "A[50,0]"
   ]
  },
  {
   "cell_type": "code",
   "execution_count": 730,
   "id": "2a3ee366",
   "metadata": {},
   "outputs": [
    {
     "data": {
      "text/plain": [
       "4.0"
      ]
     },
     "execution_count": 730,
     "metadata": {},
     "output_type": "execute_result"
    }
   ],
   "source": [
    "C[50,0]"
   ]
  },
  {
   "cell_type": "code",
   "execution_count": 94,
   "id": "e01db125",
   "metadata": {},
   "outputs": [
    {
     "name": "stdout",
     "output_type": "stream",
     "text": [
      "0.1\n"
     ]
    }
   ],
   "source": [
    "print((1+1)/(2*(nC-1)))"
   ]
  },
  {
   "cell_type": "code",
   "execution_count": 328,
   "id": "a93aedd9",
   "metadata": {},
   "outputs": [
    {
     "data": {
      "text/plain": [
       "Text(0, 0.5, 'Percent Allocation to Stocks')"
      ]
     },
     "execution_count": 328,
     "metadata": {},
     "output_type": "execute_result"
    },
    {
     "data": {
      "image/png": "[encoded data removed]",
      "text/plain": [
       "<Figure size 432x288 with 1 Axes>"
      ]
     },
     "metadata": {
      "needs_background": "light"
     },
     "output_type": "display_data"
    }
   ],
   "source": [
    "optimalA1 = np.zeros(T)\n",
    "optimalA2 = np.zeros(T)\n",
    "optimalA3 = np.zeros(T)\n",
    "for t in range(T):\n",
    "    optimalA1[t] = A[path1[t],t]*0.05\n",
    "    optimalA2[t] = A[path2[t],t]*0.05\n",
    "    optimalA3[t] = A[path3[t],t]*0.05\n",
    "plt.plot(optimalA3, marker='^', label='9% Return Path')\n",
    "plt.plot(optimalA2, marker='s', label='7.5% Return Path')\n",
    "plt.plot(optimalA1, marker='o', label='6% Return Path')\n",
    "plt.legend()\n",
    "plt.xticks(np.arange(0, 10))\n",
    "plt.xlabel(\"time, $t$\")\n",
    "plt.ylabel(\"Percent Allocation to Stocks\")"
   ]
  },
  {
   "cell_type": "code",
   "execution_count": 496,
   "id": "e16f1f7a",
   "metadata": {},
   "outputs": [
    {
     "data": {
      "text/plain": [
       "Text(0, 0.5, 'Percent Allocation to Stocks')"
      ]
     },
     "execution_count": 496,
     "metadata": {},
     "output_type": "execute_result"
    },
    {
     "data": {
      "image/png": "[encoded data removed]",
      "text/plain": [
       "<Figure size 432x288 with 1 Axes>"
      ]
     },
     "metadata": {
      "needs_background": "light"
     },
     "output_type": "display_data"
    }
   ],
   "source": [
    "optimalA1 = np.zeros(T)\n",
    "optimalA2 = np.zeros(T)\n",
    "optimalA3 = np.zeros(T)\n",
    "for t in range(T):\n",
    "    optimalA1[t] = C[path1[t],t]\n",
    "    optimalA2[t] = C[path2[t],t]\n",
    "    optimalA3[t] = C[path3[t],t]\n",
    "plt.plot(optimalA3, marker='^', label='9% Return Path')\n",
    "plt.plot(optimalA2, marker='s', label='7.5% Return Path')\n",
    "plt.plot(optimalA1, marker='o', label='6% Return Path')\n",
    "plt.legend()\n",
    "plt.xticks(np.arange(0, 10))\n",
    "plt.xlabel(\"time, $t$\")\n",
    "plt.ylabel(\"Percent Allocation to Stocks\")"
   ]
  },
  {
   "cell_type": "code",
   "execution_count": 497,
   "id": "d81b4ffb",
   "metadata": {},
   "outputs": [
    {
     "data": {
      "text/plain": [
       "[50, 50, 50, 50, 50, 50, 50, 50, 50, 49]"
      ]
     },
     "execution_count": 497,
     "metadata": {},
     "output_type": "execute_result"
    }
   ],
   "source": [
    "path1"
   ]
  },
  {
   "cell_type": "code",
   "execution_count": 459,
   "id": "47ea6d4a",
   "metadata": {},
   "outputs": [
    {
     "name": "stdout",
     "output_type": "stream",
     "text": [
      "[1, 0.9, 0.7200000000000001, 0.504, 0.3024, 0.1512, 0.060480000000000006, 0.018144000000000004, 0.0036288, 0.00036287999999999994]\n",
      "[50, 100, 75, 63, 53, 43, 31, 17, 0, 0]\n"
     ]
    }
   ],
   "source": [
    "Wpath4 = [1]\n",
    "for i in range(1,10):\n",
    "    lastW = Wpath4[i-1]\n",
    "    Wpath4.append((1-i/T)*lastW)\n",
    "print(Wpath4)\n",
    "path4 = [50]\n",
    "for i in range(1,10):\n",
    "    path4.append(np.abs(W[:,i]-Wpath4[i]).argmin())\n",
    "print(path4)"
   ]
  },
  {
   "cell_type": "code",
   "execution_count": null,
   "id": "270640e6",
   "metadata": {},
   "outputs": [],
   "source": []
  },
  {
   "cell_type": "code",
   "execution_count": 532,
   "id": "bdc94fc4",
   "metadata": {},
   "outputs": [
    {
     "data": {
      "text/plain": [
       "[<matplotlib.lines.Line2D at 0x1e30f47d640>]"
      ]
     },
     "execution_count": 532,
     "metadata": {},
     "output_type": "execute_result"
    },
    {
     "data": {
      "image/png": "[encoded data removed]",
      "text/plain": [
       "<Figure size 432x288 with 1 Axes>"
      ]
     },
     "metadata": {
      "needs_background": "light"
     },
     "output_type": "display_data"
    }
   ],
   "source": [
    "optimalC = np.zeros(T)\n",
    "for t in range(T):\n",
    "    #optimalC[t] = np.argwhere(Q[path4[t],t,:,:] == np.amax(Q[path4[t],t,:,:]))[0,1]\n",
    "    optimalC[t] = np.argwhere(Q[50,t,:,:] == np.amax(Q[50,t,:,:]))[0,1]\n",
    "plt.plot(optimalC)"
   ]
  },
  {
   "cell_type": "code",
   "execution_count": 533,
   "id": "ff696f04",
   "metadata": {},
   "outputs": [
    {
     "data": {
      "text/plain": [
       "[50, 100, 75, 63, 53, 43, 31, 17, 0, 0]"
      ]
     },
     "execution_count": 533,
     "metadata": {},
     "output_type": "execute_result"
    }
   ],
   "source": [
    "path4"
   ]
  },
  {
   "cell_type": "code",
   "execution_count": 644,
   "id": "9bb30b62",
   "metadata": {},
   "outputs": [
    {
     "data": {
      "text/plain": [
       "[<matplotlib.lines.Line2D at 0x1e3104aabe0>]"
      ]
     },
     "execution_count": 644,
     "metadata": {},
     "output_type": "execute_result"
    },
    {
     "data": {
      "image/png": "[encoded data removed]",
      "text/plain": [
       "<Figure size 432x288 with 1 Axes>"
      ]
     },
     "metadata": {
      "needs_background": "light"
     },
     "output_type": "display_data"
    }
   ],
   "source": [
    "optimalC = np.zeros(T)\n",
    "for t in range(T):\n",
    "    optimalC[t] = np.argwhere(Q[path1[t],t,:,:] == np.amax(Q[path1[t],t,:,:]))[0,1]\n",
    "plt.plot(optimalC)"
   ]
  },
  {
   "cell_type": "code",
   "execution_count": 645,
   "id": "0ee826e4",
   "metadata": {},
   "outputs": [
    {
     "data": {
      "text/plain": [
       "[<matplotlib.lines.Line2D at 0x1e3118c7130>]"
      ]
     },
     "execution_count": 645,
     "metadata": {},
     "output_type": "execute_result"
    },
    {
     "data": {
      "image/png": "[encoded data removed]",
      "text/plain": [
       "<Figure size 432x288 with 1 Axes>"
      ]
     },
     "metadata": {
      "needs_background": "light"
     },
     "output_type": "display_data"
    }
   ],
   "source": [
    "optimalC = np.zeros(nW)\n",
    "for w in range(nW):\n",
    "    optimalC[w] = C[w,3]\n",
    "plt.plot(optimalC)"
   ]
  },
  {
   "cell_type": "code",
   "execution_count": 499,
   "id": "e0469c57",
   "metadata": {},
   "outputs": [
    {
     "data": {
      "text/plain": [
       "array([[-19.31024451, -19.31024451, -19.31024451, -19.31024451,\n",
       "        -19.31024451, -19.31024451, -19.31024451, -19.31024451,\n",
       "        -19.31024451, -19.31024451, -19.31024451, -19.31024451,\n",
       "        -19.31024451, -19.31024451, -19.31024451, -19.31024451,\n",
       "        -19.31024451, -19.31024451, -19.31024451, -19.31024451,\n",
       "        -19.31024451, -19.31024451, -19.31024451, -19.31024451,\n",
       "        -19.31024451, -19.31024451, -19.31024451, -19.31024451,\n",
       "        -19.31024451, -19.31024451, -19.31024451, -19.31024451,\n",
       "        -19.31024451, -19.31024451, -19.31024451, -19.31024451,\n",
       "        -19.31024451, -19.31024451, -19.31024451, -19.31024451],\n",
       "       [-19.1384618 , -19.1384618 , -19.1384618 , -19.1384618 ,\n",
       "        -19.1384618 , -19.1384618 , -19.1384618 , -19.1384618 ,\n",
       "        -19.1384618 , -19.1384618 , -19.1384618 , -19.1384618 ,\n",
       "        -19.1384618 , -19.1384618 , -19.1384618 , -19.1384618 ,\n",
       "        -19.1384618 , -19.1384618 , -19.1384618 , -19.1384618 ,\n",
       "        -19.1384618 , -19.1384618 , -19.1384618 , -19.1384618 ,\n",
       "        -19.1384618 , -19.1384618 , -19.1384618 , -19.1384618 ,\n",
       "        -19.1384618 , -19.1384618 , -19.1384618 , -19.1384618 ,\n",
       "        -19.1384618 , -19.1384618 , -19.1384618 , -19.1384618 ,\n",
       "        -19.1384618 , -19.1384618 , -19.1384618 , -19.1384618 ],\n",
       "       [-19.13753439, -19.13753439, -19.13753439, -19.13753439,\n",
       "        -19.13753439, -19.13753439, -19.13753439, -19.13753439,\n",
       "        -19.13753439, -19.13753439, -19.13753439, -19.13753439,\n",
       "        -19.13753439, -19.13753439, -19.13753439, -19.13753439,\n",
       "        -19.13753439, -19.13753439, -19.13753439, -19.13753439,\n",
       "        -19.13753439, -19.13753439, -19.13753439, -19.13753439,\n",
       "        -19.13753439, -19.13753439, -19.13753439, -19.13753439,\n",
       "        -19.13753439, -19.13753439, -19.13753439, -19.13753439,\n",
       "        -19.13753439, -19.13753439, -19.13753439, -19.13753439,\n",
       "        -19.13753439, -19.13753439, -19.13753439, -19.13753439],\n",
       "       [-19.51134592, -19.51134592, -19.51134592, -19.51134592,\n",
       "        -19.51134592, -19.51134592, -19.51134592, -19.51134592,\n",
       "        -19.51134592, -19.51134592, -19.51134592, -19.51134592,\n",
       "        -19.51134592, -19.51134592, -19.51134592, -19.51134592,\n",
       "        -19.51134592, -19.51134592, -19.51134592, -19.51134592,\n",
       "        -19.51134592, -19.51134592, -19.51134592, -19.51134592,\n",
       "        -19.51134592, -19.51134592, -19.51134592, -19.51134592,\n",
       "        -19.51134592, -19.51134592, -19.51134592, -19.51134592,\n",
       "        -19.51134592, -19.51134592, -19.51134592, -19.51134592,\n",
       "        -19.51134592, -19.51134592, -19.51134592, -19.51134592],\n",
       "       [-19.31814478, -19.31814478, -19.31814478, -19.31814478,\n",
       "        -19.31814478, -19.31814478, -19.31814478, -19.31814478,\n",
       "        -19.31814478, -19.31814478, -19.31814478, -19.31814478,\n",
       "        -19.31814478, -19.31814478, -19.31814478, -19.31814478,\n",
       "        -19.31814478, -19.31814478, -19.31814478, -19.31814478,\n",
       "        -19.31814478, -19.31814478, -19.31814478, -19.31814478,\n",
       "        -19.31814478, -19.31814478, -19.31814478, -19.31814478,\n",
       "        -19.31814478, -19.31814478, -19.31814478, -19.31814478,\n",
       "        -19.31814478, -19.31814478, -19.31814478, -19.31814478,\n",
       "        -19.31814478, -19.31814478, -19.31814478, -19.31814478],\n",
       "       [-19.16853181, -19.16853181, -19.16853181, -19.16853181,\n",
       "        -19.16853181, -19.16853181, -19.16853181, -19.16853181,\n",
       "        -19.16853181, -19.16853181, -19.16853181, -19.16853181,\n",
       "        -19.16853181, -19.16853181, -19.16853181, -19.16853181,\n",
       "        -19.16853181, -19.16853181, -19.16853181, -19.16853181,\n",
       "        -19.16853181, -19.16853181, -19.16853181, -19.16853181,\n",
       "        -19.16853181, -19.16853181, -19.16853181, -19.16853181,\n",
       "        -19.16853181, -19.16853181, -19.16853181, -19.16853181,\n",
       "        -19.16853181, -19.16853181, -19.16853181, -19.16853181,\n",
       "        -19.16853181, -19.16853181, -19.16853181, -19.16853181],\n",
       "       [-19.39358052, -19.39358052, -19.39358052, -19.39358052,\n",
       "        -19.39358052, -19.39358052, -19.39358052, -19.39358052,\n",
       "        -19.39358052, -19.39358052, -19.39358052, -19.39358052,\n",
       "        -19.39358052, -19.39358052, -19.39358052, -19.39358052,\n",
       "        -19.39358052, -19.39358052, -19.39358052, -19.39358052,\n",
       "        -19.39358052, -19.39358052, -19.39358052, -19.39358052,\n",
       "        -19.39358052, -19.39358052, -19.39358052, -19.39358052,\n",
       "        -19.39358052, -19.39358052, -19.39358052, -19.39358052,\n",
       "        -19.39358052, -19.39358052, -19.39358052, -19.39358052,\n",
       "        -19.39358052, -19.39358052, -19.39358052, -19.39358052],\n",
       "       [-18.90283628, -18.90283628, -18.90283628, -18.90283628,\n",
       "        -18.90283628, -18.90283628, -18.90283628, -18.90283628,\n",
       "        -18.90283628, -18.90283628, -18.90283628, -18.90283628,\n",
       "        -18.90283628, -18.90283628, -18.90283628, -18.90283628,\n",
       "        -18.90283628, -18.90283628, -18.90283628, -18.90283628,\n",
       "        -18.90283628, -18.90283628, -18.90283628, -18.90283628,\n",
       "        -18.90283628, -18.90283628, -18.90283628, -18.90283628,\n",
       "        -18.90283628, -18.90283628, -18.90283628, -18.90283628,\n",
       "        -18.90283628, -18.90283628, -18.90283628, -18.90283628,\n",
       "        -18.90283628, -18.90283628, -18.90283628, -18.90283628],\n",
       "       [-19.46346204, -19.46346204, -19.46346204, -19.46346204,\n",
       "        -19.46346204, -19.46346204, -19.46346204, -19.46346204,\n",
       "        -19.46346204, -19.46346204, -19.46346204, -19.46346204,\n",
       "        -19.46346204, -19.46346204, -19.46346204, -19.46346204,\n",
       "        -19.46346204, -19.46346204, -19.46346204, -19.46346204,\n",
       "        -19.46346204, -19.46346204, -19.46346204, -19.46346204,\n",
       "        -19.46346204, -19.46346204, -19.46346204, -19.46346204,\n",
       "        -19.46346204, -19.46346204, -19.46346204, -19.46346204,\n",
       "        -19.46346204, -19.46346204, -19.46346204, -19.46346204,\n",
       "        -19.46346204, -19.46346204, -19.46346204, -19.46346204],\n",
       "       [-19.24340995, -19.24340995, -19.24340995, -19.24340995,\n",
       "        -19.24340995, -19.24340995, -19.24340995, -19.24340995,\n",
       "        -19.24340995, -19.24340995, -19.24340995, -19.24340995,\n",
       "        -19.24340995, -19.24340995, -19.24340995, -19.24340995,\n",
       "        -19.24340995, -19.24340995, -19.24340995, -19.24340995,\n",
       "        -19.24340995, -19.24340995, -19.24340995, -19.24340995,\n",
       "        -19.24340995, -19.24340995, -19.24340995, -19.24340995,\n",
       "        -19.24340995, -19.24340995, -19.24340995, -19.24340995,\n",
       "        -19.24340995, -19.24340995, -19.24340995, -19.24340995,\n",
       "        -19.24340995, -19.24340995, -19.24340995, -19.24340995],\n",
       "       [-19.1421215 , -19.1421215 , -19.1421215 , -19.1421215 ,\n",
       "        -19.1421215 , -19.1421215 , -19.1421215 , -19.1421215 ,\n",
       "        -19.1421215 , -19.1421215 , -19.1421215 , -19.1421215 ,\n",
       "        -19.1421215 , -19.1421215 , -19.1421215 , -19.1421215 ,\n",
       "        -19.1421215 , -19.1421215 , -19.1421215 , -19.1421215 ,\n",
       "        -19.1421215 , -19.1421215 , -19.1421215 , -19.1421215 ,\n",
       "        -19.1421215 , -19.1421215 , -19.1421215 , -19.1421215 ,\n",
       "        -19.1421215 , -19.1421215 , -19.1421215 , -19.1421215 ,\n",
       "        -19.1421215 , -19.1421215 , -19.1421215 , -19.1421215 ,\n",
       "        -19.1421215 , -19.1421215 , -19.1421215 , -19.1421215 ]])"
      ]
     },
     "execution_count": 499,
     "metadata": {},
     "output_type": "execute_result"
    }
   ],
   "source": [
    "Q[50,1,:,:]"
   ]
  },
  {
   "cell_type": "code",
   "execution_count": 642,
   "id": "57119a61",
   "metadata": {},
   "outputs": [
    {
     "data": {
      "text/plain": [
       "0.11666666666666667"
      ]
     },
     "execution_count": 642,
     "metadata": {},
     "output_type": "execute_result"
    }
   ],
   "source": [
    "c=6\n",
    "cons = (c+1)/(1.5*nC)\n",
    "cons"
   ]
  },
  {
   "cell_type": "code",
   "execution_count": 329,
   "id": "f73e2629",
   "metadata": {},
   "outputs": [
    {
     "data": {
      "text/plain": [
       "array([1.000000e+00, 5.000000e-01, 2.500000e-01, 1.250000e-01,\n",
       "       6.250000e-02, 3.125000e-02, 1.562500e-02, 7.812500e-03,\n",
       "       3.906250e-03, 1.953125e-03, 9.765625e-04])"
      ]
     },
     "execution_count": 329,
     "metadata": {},
     "output_type": "execute_result"
    }
   ],
   "source": [
    "W[0,:]"
   ]
  },
  {
   "cell_type": "markdown",
   "id": "418acb68",
   "metadata": {},
   "source": [
    "## Longevity Risk"
   ]
  },
  {
   "cell_type": "code",
   "execution_count": 1390,
   "id": "8d595119",
   "metadata": {},
   "outputs": [
    {
     "data": {
      "text/html": [
       "<div>\n",
       "<style scoped>\n",
       "    .dataframe tbody tr th:only-of-type {\n",
       "        vertical-align: middle;\n",
       "    }\n",
       "\n",
       "    .dataframe tbody tr th {\n",
       "        vertical-align: top;\n",
       "    }\n",
       "\n",
       "    .dataframe thead th {\n",
       "        text-align: right;\n",
       "    }\n",
       "</style>\n",
       "<table border=\"1\" class=\"dataframe\">\n",
       "  <thead>\n",
       "    <tr style=\"text-align: right;\">\n",
       "      <th></th>\n",
       "      <th>Healthy Annuitant</th>\n",
       "    </tr>\n",
       "    <tr>\n",
       "      <th>Age</th>\n",
       "      <th></th>\n",
       "    </tr>\n",
       "  </thead>\n",
       "  <tbody>\n",
       "    <tr>\n",
       "      <th>50</th>\n",
       "      <td>0.002764</td>\n",
       "    </tr>\n",
       "    <tr>\n",
       "      <th>51</th>\n",
       "      <td>0.002981</td>\n",
       "    </tr>\n",
       "    <tr>\n",
       "      <th>52</th>\n",
       "      <td>0.003202</td>\n",
       "    </tr>\n",
       "    <tr>\n",
       "      <th>53</th>\n",
       "      <td>0.003429</td>\n",
       "    </tr>\n",
       "    <tr>\n",
       "      <th>54</th>\n",
       "      <td>0.003661</td>\n",
       "    </tr>\n",
       "  </tbody>\n",
       "</table>\n",
       "</div>"
      ],
      "text/plain": [
       "     Healthy Annuitant\n",
       "Age                   \n",
       "50            0.002764\n",
       "51            0.002981\n",
       "52            0.003202\n",
       "53            0.003429\n",
       "54            0.003661"
      ]
     },
     "execution_count": 1390,
     "metadata": {},
     "output_type": "execute_result"
    }
   ],
   "source": [
    "file_name = 'research-2014-rp-mort-tab-rates-exposure.xlsx'\n",
    "sheet = 'White Collar'\n",
    "gender = 'Males'\n",
    "if gender == 'Males':\n",
    "    usecols = 'B,E'\n",
    "elif gender == 'Females':\n",
    "    usecols = 'B,I'\n",
    "mort = pd.read_excel(file_name, sheet, header=3, usecols=usecols).set_index('Age')\n",
    "mort.dropna(inplace=True)\n",
    "mort.head()"
   ]
  },
  {
   "cell_type": "code",
   "execution_count": null,
   "id": "8bd61ba0",
   "metadata": {},
   "outputs": [],
   "source": []
  },
  {
   "cell_type": "code",
   "execution_count": null,
   "id": "319b7f3b",
   "metadata": {},
   "outputs": [],
   "source": []
  },
  {
   "cell_type": "code",
   "execution_count": 1391,
   "id": "5f9ee704",
   "metadata": {},
   "outputs": [
    {
     "data": {
      "text/html": [
       "<div>\n",
       "<style scoped>\n",
       "    .dataframe tbody tr th:only-of-type {\n",
       "        vertical-align: middle;\n",
       "    }\n",
       "\n",
       "    .dataframe tbody tr th {\n",
       "        vertical-align: top;\n",
       "    }\n",
       "\n",
       "    .dataframe thead th {\n",
       "        text-align: right;\n",
       "    }\n",
       "</style>\n",
       "<table border=\"1\" class=\"dataframe\">\n",
       "  <thead>\n",
       "    <tr style=\"text-align: right;\">\n",
       "      <th></th>\n",
       "      <th>Healthy Annuitant</th>\n",
       "      <th>prob dying</th>\n",
       "      <th>cumulative prob dying</th>\n",
       "    </tr>\n",
       "  </thead>\n",
       "  <tbody>\n",
       "    <tr>\n",
       "      <th>49</th>\n",
       "      <td>0.000000</td>\n",
       "      <td>0.000000</td>\n",
       "      <td>0.000000</td>\n",
       "    </tr>\n",
       "    <tr>\n",
       "      <th>50</th>\n",
       "      <td>0.002764</td>\n",
       "      <td>0.002764</td>\n",
       "      <td>0.002764</td>\n",
       "    </tr>\n",
       "    <tr>\n",
       "      <th>51</th>\n",
       "      <td>0.002981</td>\n",
       "      <td>0.002973</td>\n",
       "      <td>0.005737</td>\n",
       "    </tr>\n",
       "    <tr>\n",
       "      <th>52</th>\n",
       "      <td>0.003202</td>\n",
       "      <td>0.003184</td>\n",
       "      <td>0.008920</td>\n",
       "    </tr>\n",
       "    <tr>\n",
       "      <th>53</th>\n",
       "      <td>0.003429</td>\n",
       "      <td>0.003398</td>\n",
       "      <td>0.012319</td>\n",
       "    </tr>\n",
       "  </tbody>\n",
       "</table>\n",
       "</div>"
      ],
      "text/plain": [
       "    Healthy Annuitant  prob dying  cumulative prob dying\n",
       "49           0.000000    0.000000               0.000000\n",
       "50           0.002764    0.002764               0.002764\n",
       "51           0.002981    0.002973               0.005737\n",
       "52           0.003202    0.003184               0.008920\n",
       "53           0.003429    0.003398               0.012319"
      ]
     },
     "execution_count": 1391,
     "metadata": {},
     "output_type": "execute_result"
    }
   ],
   "source": [
    "mort['prob dying'] = 0\n",
    "mort['cumulative prob dying'] = 0\n",
    "line = pd.DataFrame({'Healthy Annuitant':0, 'prob dying': 0, 'cumulative prob dying':0}, index=[49])\n",
    "# concatenate two dataframe\n",
    "mort = pd.concat([line,mort])\n",
    "for age in range(50,121):\n",
    "    mort['prob dying'].loc[age] = (1-mort['cumulative prob dying'].loc[age-1])*mort['Healthy Annuitant'].loc[age]\n",
    "    mort['cumulative prob dying'].loc[age] = mort['cumulative prob dying'].loc[age-1] + mort['prob dying'].loc[age]\n",
    "mort.head()"
   ]
  },
  {
   "cell_type": "code",
   "execution_count": null,
   "id": "45bce608",
   "metadata": {},
   "outputs": [],
   "source": []
  },
  {
   "cell_type": "code",
   "execution_count": null,
   "id": "ebd69b3e",
   "metadata": {},
   "outputs": [],
   "source": []
  },
  {
   "cell_type": "code",
   "execution_count": 1392,
   "id": "5fd90fb4",
   "metadata": {},
   "outputs": [
    {
     "name": "stdout",
     "output_type": "stream",
     "text": [
      "85.47969020887875\n"
     ]
    }
   ],
   "source": [
    "current_age = 62\n",
    "pdf = mort['prob dying'].loc[current_age:mort.index[-1]]/mort['prob dying'].loc[current_age:mort.index[-1]].sum()\n",
    "ages = mort.index[mort.index.get_loc(current_age):]\n",
    "LifeExpectancy = (pdf*ages).sum()\n",
    "print(LifeExpectancy)"
   ]
  },
  {
   "cell_type": "code",
   "execution_count": 1369,
   "id": "8616a053",
   "metadata": {},
   "outputs": [
    {
     "data": {
      "text/plain": [
       "62    0.005699\n",
       "63    0.006098\n",
       "64    0.006555\n",
       "65    0.007079\n",
       "66    0.007684\n",
       "Name: prob dying, dtype: float64"
      ]
     },
     "execution_count": 1369,
     "metadata": {},
     "output_type": "execute_result"
    }
   ],
   "source": [
    "mort['prob dying'].loc[62:66]"
   ]
  },
  {
   "cell_type": "code",
   "execution_count": 1375,
   "id": "95a824e2",
   "metadata": {},
   "outputs": [
    {
     "name": "stdout",
     "output_type": "stream",
     "text": [
      "85.27390284334604\n"
     ]
    }
   ],
   "source": [
    "# Compute life expectancy assuming a max age of 102 instead of 120\n",
    "\n",
    "current_age = 62\n",
    "pdf = mort['prob dying'].loc[current_age:102]/mort['prob dying'].loc[current_age:102].sum()\n",
    "ages = mort.index[mort.index.get_loc(current_age):mort.index.get_loc(103)]\n",
    "LifeExpectancy = (pdf*ages).sum()\n",
    "print(LifeExpectancy)"
   ]
  },
  {
   "cell_type": "code",
   "execution_count": 1253,
   "id": "009feb13",
   "metadata": {},
   "outputs": [
    {
     "data": {
      "text/plain": [
       "0.5"
      ]
     },
     "execution_count": 1253,
     "metadata": {},
     "output_type": "execute_result"
    }
   ],
   "source": [
    "mort.loc[start_age+49,'Healthy Annuitant']"
   ]
  },
  {
   "cell_type": "code",
   "execution_count": 1133,
   "id": "c192df37",
   "metadata": {},
   "outputs": [
    {
     "data": {
      "text/plain": [
       "90     1.261900e-01\n",
       "91     1.238302e-01\n",
       "92     1.185943e-01\n",
       "93     1.106743e-01\n",
       "94     1.005655e-01\n",
       "95     8.893392e-02\n",
       "96     7.650197e-02\n",
       "97     6.395916e-02\n",
       "98     5.190573e-02\n",
       "99     4.079930e-02\n",
       "100    3.078515e-02\n",
       "101    2.248955e-02\n",
       "102    1.587572e-02\n",
       "103    1.082195e-02\n",
       "104    7.120536e-03\n",
       "105    4.521621e-03\n",
       "106    2.771455e-03\n",
       "107    1.640350e-03\n",
       "108    9.381464e-04\n",
       "109    5.189353e-04\n",
       "110    2.779427e-04\n",
       "111    1.421332e-04\n",
       "112    7.106662e-05\n",
       "113    3.553331e-05\n",
       "114    1.776665e-05\n",
       "115    8.883327e-06\n",
       "116    4.441663e-06\n",
       "117    2.220832e-06\n",
       "118    1.110416e-06\n",
       "119    5.552079e-07\n",
       "120    5.552079e-07\n",
       "Name: prob dying, dtype: float64"
      ]
     },
     "execution_count": 1133,
     "metadata": {},
     "output_type": "execute_result"
    }
   ],
   "source": [
    "pdf"
   ]
  },
  {
   "cell_type": "code",
   "execution_count": null,
   "id": "cc18fbae",
   "metadata": {},
   "outputs": [],
   "source": []
  },
  {
   "cell_type": "code",
   "execution_count": 1387,
   "id": "34dde14f",
   "metadata": {},
   "outputs": [
    {
     "data": {
      "text/html": [
       "<div>\n",
       "<style scoped>\n",
       "    .dataframe tbody tr th:only-of-type {\n",
       "        vertical-align: middle;\n",
       "    }\n",
       "\n",
       "    .dataframe tbody tr th {\n",
       "        vertical-align: top;\n",
       "    }\n",
       "\n",
       "    .dataframe thead th {\n",
       "        text-align: right;\n",
       "    }\n",
       "</style>\n",
       "<table border=\"1\" class=\"dataframe\">\n",
       "  <thead>\n",
       "    <tr style=\"text-align: right;\">\n",
       "      <th></th>\n",
       "      <th>Healthy Annuitant</th>\n",
       "      <th>prob dying</th>\n",
       "      <th>cumulative prob dying</th>\n",
       "      <th>New Healthy Annuitant</th>\n",
       "    </tr>\n",
       "  </thead>\n",
       "  <tbody>\n",
       "    <tr>\n",
       "      <th>49</th>\n",
       "      <td>0.000000</td>\n",
       "      <td>0.000000</td>\n",
       "      <td>0.000000</td>\n",
       "      <td>0.000000</td>\n",
       "    </tr>\n",
       "    <tr>\n",
       "      <th>50</th>\n",
       "      <td>0.002764</td>\n",
       "      <td>0.003593</td>\n",
       "      <td>0.003593</td>\n",
       "      <td>0.003593</td>\n",
       "    </tr>\n",
       "    <tr>\n",
       "      <th>51</th>\n",
       "      <td>0.002981</td>\n",
       "      <td>0.003861</td>\n",
       "      <td>0.007455</td>\n",
       "      <td>0.003875</td>\n",
       "    </tr>\n",
       "    <tr>\n",
       "      <th>52</th>\n",
       "      <td>0.003202</td>\n",
       "      <td>0.004132</td>\n",
       "      <td>0.011586</td>\n",
       "      <td>0.004163</td>\n",
       "    </tr>\n",
       "    <tr>\n",
       "      <th>53</th>\n",
       "      <td>0.003429</td>\n",
       "      <td>0.004406</td>\n",
       "      <td>0.015992</td>\n",
       "      <td>0.004458</td>\n",
       "    </tr>\n",
       "  </tbody>\n",
       "</table>\n",
       "</div>"
      ],
      "text/plain": [
       "    Healthy Annuitant  prob dying  cumulative prob dying  \\\n",
       "49           0.000000    0.000000               0.000000   \n",
       "50           0.002764    0.003593               0.003593   \n",
       "51           0.002981    0.003861               0.007455   \n",
       "52           0.003202    0.004132               0.011586   \n",
       "53           0.003429    0.004406               0.015992   \n",
       "\n",
       "    New Healthy Annuitant  \n",
       "49               0.000000  \n",
       "50               0.003593  \n",
       "51               0.003875  \n",
       "52               0.004163  \n",
       "53               0.004458  "
      ]
     },
     "execution_count": 1387,
     "metadata": {},
     "output_type": "execute_result"
    }
   ],
   "source": [
    "# Let's lower the life excpectancy\n",
    "mort['New Healthy Annuitant'] =  mort['Healthy Annuitant']*1.3\n",
    "\n",
    "mort['prob dying'] = 0\n",
    "mort['cumulative prob dying'] = 0\n",
    "line = pd.DataFrame({'Healthy Annuitant':0, 'prob dying': 0, 'cumulative prob dying':0, 'New Healthy Annuitant':0}, index=[49])\n",
    "# concatenate two dataframe\n",
    "mort = pd.concat([line,mort])\n",
    "for age in range(50,121):\n",
    "    mort['prob dying'].loc[age] = (1-mort['cumulative prob dying'].loc[age-1])*mort['New Healthy Annuitant'].loc[age]\n",
    "    mort['cumulative prob dying'].loc[age] = mort['cumulative prob dying'].loc[age-1] + mort['prob dying'].loc[age]\n",
    "mort.head()"
   ]
  },
  {
   "cell_type": "code",
   "execution_count": 1388,
   "id": "661c7496",
   "metadata": {},
   "outputs": [
    {
     "name": "stdout",
     "output_type": "stream",
     "text": [
      "83.39303202357728\n"
     ]
    }
   ],
   "source": [
    "# Compute life expectancy assuming a max age of 102 instead of 120\n",
    "\n",
    "current_age = 62\n",
    "pdf = mort['prob dying'].loc[current_age:102]/mort['prob dying'].loc[current_age:102].sum()\n",
    "ages = mort.index[mort.index.get_loc(current_age):mort.index.get_loc(103)]\n",
    "LifeExpectancy = (pdf*ages).sum()\n",
    "print(LifeExpectancy)"
   ]
  },
  {
   "cell_type": "code",
   "execution_count": 1382,
   "id": "309dd7c9",
   "metadata": {},
   "outputs": [
    {
     "data": {
      "text/html": [
       "<div>\n",
       "<style scoped>\n",
       "    .dataframe tbody tr th:only-of-type {\n",
       "        vertical-align: middle;\n",
       "    }\n",
       "\n",
       "    .dataframe tbody tr th {\n",
       "        vertical-align: top;\n",
       "    }\n",
       "\n",
       "    .dataframe thead th {\n",
       "        text-align: right;\n",
       "    }\n",
       "</style>\n",
       "<table border=\"1\" class=\"dataframe\">\n",
       "  <thead>\n",
       "    <tr style=\"text-align: right;\">\n",
       "      <th></th>\n",
       "      <th>Healthy Annuitant</th>\n",
       "      <th>prob dying</th>\n",
       "      <th>cumulative prob dying</th>\n",
       "      <th>New Healthy Annuitant</th>\n",
       "    </tr>\n",
       "  </thead>\n",
       "  <tbody>\n",
       "    <tr>\n",
       "      <th>49</th>\n",
       "      <td>0.000000</td>\n",
       "      <td>0</td>\n",
       "      <td>0</td>\n",
       "      <td>0.000000</td>\n",
       "    </tr>\n",
       "    <tr>\n",
       "      <th>49</th>\n",
       "      <td>0.000000</td>\n",
       "      <td>0</td>\n",
       "      <td>0</td>\n",
       "      <td>0.000000</td>\n",
       "    </tr>\n",
       "    <tr>\n",
       "      <th>49</th>\n",
       "      <td>0.000000</td>\n",
       "      <td>0</td>\n",
       "      <td>0</td>\n",
       "      <td>0.000000</td>\n",
       "    </tr>\n",
       "    <tr>\n",
       "      <th>50</th>\n",
       "      <td>0.003040</td>\n",
       "      <td>0</td>\n",
       "      <td>0</td>\n",
       "      <td>0.003344</td>\n",
       "    </tr>\n",
       "    <tr>\n",
       "      <th>51</th>\n",
       "      <td>0.003279</td>\n",
       "      <td>0</td>\n",
       "      <td>0</td>\n",
       "      <td>0.003607</td>\n",
       "    </tr>\n",
       "  </tbody>\n",
       "</table>\n",
       "</div>"
      ],
      "text/plain": [
       "    Healthy Annuitant  prob dying  cumulative prob dying  \\\n",
       "49           0.000000           0                      0   \n",
       "49           0.000000           0                      0   \n",
       "49           0.000000           0                      0   \n",
       "50           0.003040           0                      0   \n",
       "51           0.003279           0                      0   \n",
       "\n",
       "    New Healthy Annuitant  \n",
       "49               0.000000  \n",
       "49               0.000000  \n",
       "49               0.000000  \n",
       "50               0.003344  \n",
       "51               0.003607  "
      ]
     },
     "execution_count": 1382,
     "metadata": {},
     "output_type": "execute_result"
    }
   ],
   "source": [
    "mort.head()"
   ]
  },
  {
   "cell_type": "code",
   "execution_count": null,
   "id": "96f61616",
   "metadata": {},
   "outputs": [],
   "source": []
  },
  {
   "cell_type": "code",
   "execution_count": null,
   "id": "56588428",
   "metadata": {},
   "outputs": [],
   "source": []
  },
  {
   "cell_type": "code",
   "execution_count": null,
   "id": "5e64d3d9",
   "metadata": {},
   "outputs": [],
   "source": []
  },
  {
   "cell_type": "code",
   "execution_count": null,
   "id": "34e75c99",
   "metadata": {},
   "outputs": [],
   "source": [
    "np.random.seed(123)\n",
    "numb_years = 50\n",
    "numb_sims = 10000\n",
    "mean = 0.06\n",
    "stdev = 0.12\n",
    "spending_0 = 60000\n",
    "W0 = 1200000\n",
    "age_start = 60\n",
    "\n",
    "inflation = 0.02\n",
    "\n",
    "# Generate normal random numbers\n",
    "z = np.random.normal(loc=mean, scale=stdev, size=(numb_sims, numb_years+1))\n",
    "\n",
    "# Initialize Wealth\n",
    "W = np.empty(shape=[numb_sims, numb_years+1])\n",
    "W[:,:] = np.NaN\n",
    "W[:,0] = W0\n",
    "\n",
    "# Keep track of age if bankrupt\n",
    "age_bankruptcy = []\n",
    "\n",
    "for sim in range(numb_sims):\n",
    "    spending = spending_0\n",
    "    year = 0\n",
    "    alive = True\n",
    "    bankrupt = False\n",
    "    while not bankrupt and alive: \n",
    "        # Check whether you run out of money\n",
    "        if W[sim, year] - spending < 0:\n",
    "            age_bankruptcy.append(year+age_start)\n",
    "            bankrupt = True\n",
    "        else:\n",
    "            # Check whether you live to the next year\n",
    "            mortality_prob = mort['Healthy Annuitant'].loc[year+age_start]\n",
    "            p = np.random.uniform()\n",
    "            if p < mortality_prob:\n",
    "                alive = False\n",
    "            else:\n",
    "                year += 1\n",
    "                W[sim,year] = (W[sim, year-1] - spending) * (1 + z[sim, year])\n",
    "            spending = spending * (1 + inflation)\n",
    "    \n",
    "bins = max(age_bankruptcy) - min(age_bankruptcy) + 1\n",
    "plt.hist(age_bankruptcy, bins=bins, density=True)\n",
    "plt.xlabel(\"Age\")\n",
    "#plt.savefig('Fig5_11.png', dpi=300);\n",
    "#plt.savefig('Fig5_11.svg', format='svg');"
   ]
  },
  {
   "cell_type": "code",
   "execution_count": 1331,
   "id": "ee60156f",
   "metadata": {},
   "outputs": [],
   "source": [
    "# Equivalent to Listing 12.1, but W0=1\n",
    "\n",
    "W0 = 1000000\n",
    "T = 50\n",
    "nW = 401 #A\n",
    "mu_stock = 0.08\n",
    "mu_bond = 0.045\n",
    "sig_stock = 0.20\n",
    "sig_bond = 0.0\n",
    "\n",
    "lnW = np.zeros((nW,T+1))\n",
    "W = np.zeros((nW, T+1))\n",
    "\n",
    "for t in range(T+1):\n",
    "    lnW_min = log(W0) - t*log(1.3)\n",
    "    lnW_max = log(W0) - t*0.1 + (mu_stock-0.5*sig_stock**2)*t + 2.5*sig_stock*sqrt(t)\n",
    "    lnW[:,t] = np.linspace(lnW_min, lnW_max, nW) #B\n",
    "W = np.exp(lnW)"
   ]
  },
  {
   "cell_type": "code",
   "execution_count": 1336,
   "id": "e91085bc",
   "metadata": {},
   "outputs": [
    {
     "data": {
      "text/plain": [
       "array([2.61081282e+00, 2.70648629e+00, 2.80566572e+00, 2.90847959e+00,\n",
       "       3.01506108e+00, 3.12554826e+00, 3.24008425e+00, 3.35881743e+00,\n",
       "       3.48190159e+00, 3.60949618e+00, 3.74176649e+00, 3.87888385e+00,\n",
       "       4.02102589e+00, 4.16837674e+00, 4.32112728e+00, 4.47947537e+00,\n",
       "       4.64362614e+00, 4.81379223e+00, 4.99019408e+00, 5.17306018e+00,\n",
       "       5.36262743e+00, 5.55914139e+00, 5.76285661e+00, 5.97403701e+00,\n",
       "       6.19295612e+00, 6.41989755e+00, 6.65515526e+00, 6.89903401e+00,\n",
       "       7.15184973e+00, 7.41392989e+00, 7.68561401e+00, 7.96725402e+00,\n",
       "       8.25921474e+00, 8.56187440e+00, 8.87562505e+00, 9.20087311e+00,\n",
       "       9.53803992e+00, 9.88756224e+00, 1.02498928e+01, 1.06255011e+01,\n",
       "       1.10148735e+01, 1.14185145e+01, 1.18369470e+01, 1.22707129e+01,\n",
       "       1.27203743e+01, 1.31865136e+01, 1.36697345e+01, 1.41706631e+01,\n",
       "       1.46899483e+01, 1.52282628e+01, 1.57863038e+01, 1.63647943e+01,\n",
       "       1.69644837e+01, 1.75861487e+01, 1.82305947e+01, 1.88986564e+01,\n",
       "       1.95911994e+01, 2.03091206e+01, 2.10533501e+01, 2.18248520e+01,\n",
       "       2.26246256e+01, 2.34537070e+01, 2.43131702e+01, 2.52041285e+01,\n",
       "       2.61277360e+01, 2.70851892e+01, 2.80777284e+01, 2.91066392e+01,\n",
       "       3.01732546e+01, 3.12789562e+01, 3.24251763e+01, 3.36133997e+01,\n",
       "       3.48451658e+01, 3.61220699e+01, 3.74457664e+01, 3.88179698e+01,\n",
       "       4.02404578e+01, 4.17150729e+01, 4.32437254e+01, 4.48283956e+01,\n",
       "       4.64711361e+01, 4.81740750e+01, 4.99394182e+01, 5.17694526e+01,\n",
       "       5.36665488e+01, 5.56331643e+01, 5.76718465e+01, 5.97852364e+01,\n",
       "       6.19760717e+01, 6.42471903e+01, 6.66015343e+01, 6.90421534e+01,\n",
       "       7.15722092e+01, 7.41949792e+01, 7.69138608e+01, 7.97323760e+01,\n",
       "       8.26541760e+01, 8.56830456e+01, 8.88229084e+01, 9.20778317e+01,\n",
       "       9.54520320e+01, 9.89498802e+01, 1.02575907e+02, 1.06334811e+02,\n",
       "       1.10231459e+02, 1.14270901e+02, 1.18458368e+02, 1.22799285e+02,\n",
       "       1.27299276e+02, 1.31964169e+02, 1.36800008e+02, 1.41813056e+02,\n",
       "       1.47009808e+02, 1.52396996e+02, 1.57981597e+02, 1.63770847e+02,\n",
       "       1.69772244e+02, 1.75993563e+02, 1.82442863e+02, 1.89128497e+02,\n",
       "       1.96059128e+02, 2.03243732e+02, 2.10691617e+02, 2.18412430e+02,\n",
       "       2.26416172e+02, 2.34713213e+02, 2.43314299e+02, 2.52230574e+02,\n",
       "       2.61473585e+02, 2.71055308e+02, 2.80988154e+02, 2.91284989e+02,\n",
       "       3.01959154e+02, 3.13024474e+02, 3.24495283e+02, 3.36386442e+02,\n",
       "       3.48713352e+02, 3.61491984e+02, 3.74738890e+02, 3.88471230e+02,\n",
       "       4.02706792e+02, 4.17464018e+02, 4.32762024e+02, 4.48620627e+02,\n",
       "       4.65060370e+02, 4.82102548e+02, 4.99769239e+02, 5.18083327e+02,\n",
       "       5.37068536e+02, 5.56749460e+02, 5.77151593e+02, 5.98301365e+02,\n",
       "       6.20226171e+02, 6.42954414e+02, 6.66515535e+02, 6.90940056e+02,\n",
       "       7.16259616e+02, 7.42507013e+02, 7.69716248e+02, 7.97922568e+02,\n",
       "       8.27162511e+02, 8.57473955e+02, 8.88896164e+02, 9.21469842e+02,\n",
       "       9.55237186e+02, 9.90241938e+02, 1.02652944e+03, 1.06414670e+03,\n",
       "       1.10314245e+03, 1.14356721e+03, 1.18547333e+03, 1.22891510e+03,\n",
       "       1.27394881e+03, 1.32063277e+03, 1.36902748e+03, 1.41919561e+03,\n",
       "       1.47120216e+03, 1.52511449e+03, 1.58100245e+03, 1.63893842e+03,\n",
       "       1.69899747e+03, 1.76125738e+03, 1.82579881e+03, 1.89270537e+03,\n",
       "       1.96206373e+03, 2.03396373e+03, 2.10849851e+03, 2.18576462e+03,\n",
       "       2.26586216e+03, 2.34889488e+03, 2.43497034e+03, 2.52420004e+03,\n",
       "       2.61669958e+03, 2.71258876e+03, 2.81199182e+03, 2.91503751e+03,\n",
       "       3.02185932e+03, 3.13259562e+03, 3.24738986e+03, 3.36639075e+03,\n",
       "       3.48975244e+03, 3.61763473e+03, 3.75020327e+03, 3.88762980e+03,\n",
       "       4.03009234e+03, 4.17777543e+03, 4.33087038e+03, 4.48957551e+03,\n",
       "       4.65409640e+03, 4.82464618e+03, 5.00144576e+03, 5.18472419e+03,\n",
       "       5.37471886e+03, 5.57167591e+03, 5.77585047e+03, 5.98750702e+03,\n",
       "       6.20691975e+03, 6.43437287e+03, 6.67016103e+03, 6.91458968e+03,\n",
       "       7.16797543e+03, 7.43064652e+03, 7.70294322e+03, 7.98521826e+03,\n",
       "       8.27783729e+03, 8.58117937e+03, 8.89563745e+03, 9.22161887e+03,\n",
       "       9.55954591e+03, 9.90985631e+03, 1.02730039e+04, 1.06494590e+04,\n",
       "       1.10397094e+04, 1.14442605e+04, 1.18636364e+04, 1.22983805e+04,\n",
       "       1.27490557e+04, 1.32162460e+04, 1.37005565e+04, 1.42026146e+04,\n",
       "       1.47230706e+04, 1.52625989e+04, 1.58218982e+04, 1.64016930e+04,\n",
       "       1.70027345e+04, 1.76258012e+04, 1.82717003e+04, 1.89412683e+04,\n",
       "       1.96353728e+04, 2.03549128e+04, 2.11008204e+04, 2.18740618e+04,\n",
       "       2.26756387e+04, 2.35065895e+04, 2.43679906e+04, 2.52609577e+04,\n",
       "       2.61866478e+04, 2.71462598e+04, 2.81410369e+04, 2.91722677e+04,\n",
       "       3.02412880e+04, 3.13494827e+04, 3.24982873e+04, 3.36891899e+04,\n",
       "       3.49237332e+04, 3.62035165e+04, 3.75301976e+04, 3.89054950e+04,\n",
       "       4.03311903e+04, 4.18091303e+04, 4.33412296e+04, 4.49294728e+04,\n",
       "       4.65759173e+04, 4.82826959e+04, 5.00520196e+04, 5.18861803e+04,\n",
       "       5.37875540e+04, 5.57586037e+04, 5.78018826e+04, 5.99200377e+04,\n",
       "       6.21158128e+04, 6.43920523e+04, 6.67517047e+04, 6.91978269e+04,\n",
       "       7.17335874e+04, 7.43622710e+04, 7.70872830e+04, 7.99121533e+04,\n",
       "       8.28405413e+04, 8.58762402e+04, 8.90231827e+04, 9.22854451e+04,\n",
       "       9.56672534e+04, 9.91729884e+04, 1.02807191e+05, 1.06574570e+05,\n",
       "       1.10480004e+05, 1.14528554e+05, 1.18725463e+05, 1.23076168e+05,\n",
       "       1.27586305e+05, 1.32261717e+05, 1.37108459e+05, 1.42132811e+05,\n",
       "       1.47341280e+05, 1.52740614e+05, 1.58337808e+05, 1.64140111e+05,\n",
       "       1.70155039e+05, 1.76390386e+05, 1.82854227e+05, 1.89554937e+05,\n",
       "       1.96501194e+05, 2.03701998e+05, 2.11166675e+05, 2.18904897e+05,\n",
       "       2.26926686e+05, 2.35242435e+05, 2.43862915e+05, 2.52799293e+05,\n",
       "       2.62063145e+05, 2.71666472e+05, 2.81621714e+05, 2.91941767e+05,\n",
       "       3.02639999e+05, 3.13730268e+05, 3.25226942e+05, 3.37144912e+05,\n",
       "       3.49499617e+05, 3.62307062e+05, 3.75583836e+05, 3.89347139e+05,\n",
       "       4.03614799e+05, 4.18405299e+05, 4.33737799e+05, 4.49632159e+05,\n",
       "       4.66108969e+05, 4.83189573e+05, 5.00896098e+05, 5.19251480e+05,\n",
       "       5.38279496e+05, 5.58004796e+05, 5.78452931e+05, 5.99650390e+05,\n",
       "       6.21624632e+05, 6.44404121e+05, 6.68018368e+05, 6.92497960e+05,\n",
       "       7.17874609e+05, 7.44181187e+05, 7.71451773e+05, 7.99721691e+05,\n",
       "       8.29027564e+05, 8.59407352e+05, 8.90900411e+05, 9.23547535e+05,\n",
       "       9.57391016e+05, 9.92474695e+05, 1.02884402e+06, 1.06654610e+06,\n",
       "       1.10562977e+06, 1.14614568e+06, 1.18814629e+06, 1.23168601e+06,\n",
       "       1.27682125e+06, 1.32361048e+06, 1.37211430e+06, 1.42239556e+06,\n",
       "       1.47451937e+06, 1.52855326e+06, 1.58456723e+06, 1.64263383e+06,\n",
       "       1.70282830e+06, 1.76522859e+06, 1.82991555e+06, 1.89697297e+06,\n",
       "       1.96648771e+06, 2.03854982e+06, 2.11325266e+06, 2.19069299e+06,\n",
       "       2.27097113e+06, 2.35419107e+06, 2.44046061e+06, 2.52989151e+06,\n",
       "       2.62259961e+06, 2.71870500e+06, 2.81833219e+06, 2.92161022e+06,\n",
       "       3.02867288e+06, 3.13965887e+06, 3.25471195e+06, 3.37398115e+06,\n",
       "       3.49762099e+06, 3.62579162e+06, 3.75865908e+06, 3.89639547e+06,\n",
       "       4.03917923e+06, 4.18719531e+06, 4.34063545e+06, 4.49969842e+06,\n",
       "       4.66459027e+06])"
      ]
     },
     "execution_count": 1336,
     "metadata": {},
     "output_type": "execute_result"
    }
   ],
   "source": [
    "W[:,T-1]"
   ]
  },
  {
   "cell_type": "code",
   "execution_count": 1258,
   "id": "cb3feb74",
   "metadata": {},
   "outputs": [
    {
     "data": {
      "text/plain": [
       "9.197680368150047e-05"
      ]
     },
     "execution_count": 1258,
     "metadata": {},
     "output_type": "execute_result"
    }
   ],
   "source": [
    "W[65,T-1]"
   ]
  },
  {
   "cell_type": "code",
   "execution_count": 1319,
   "id": "4d5f96fd",
   "metadata": {},
   "outputs": [
    {
     "name": "stdout",
     "output_type": "stream",
     "text": [
      "49\n",
      "48\n",
      "47\n",
      "46\n",
      "45\n",
      "44\n",
      "43\n",
      "42\n",
      "41\n",
      "40\n",
      "39\n",
      "38\n",
      "37\n",
      "36\n",
      "35\n",
      "34\n",
      "33\n",
      "32\n",
      "31\n",
      "30\n",
      "29\n",
      "28\n",
      "27\n",
      "26\n",
      "25\n",
      "24\n",
      "23\n",
      "22\n",
      "21\n",
      "20\n",
      "19\n",
      "18\n",
      "17\n",
      "16\n",
      "15\n",
      "14\n",
      "13\n",
      "12\n",
      "11\n",
      "10\n",
      "9\n",
      "8\n",
      "7\n",
      "6\n",
      "5\n",
      "4\n",
      "3\n",
      "2\n",
      "1\n",
      "0\n"
     ]
    }
   ],
   "source": [
    "# Equivalent to Listing 12.3\n",
    "\n",
    "nA = 11\n",
    "nC = 40\n",
    "V = np.zeros((nW, T+1)) #A\n",
    "A = np.zeros((nW, T)) #B\n",
    "C = np.zeros((nW, T))\n",
    "EV = np.zeros((nA, nC)) #C\n",
    "W_midpoints = compute_midpoints()\n",
    "\n",
    "gamma = 0.95\n",
    "start_age = 62\n",
    "CRRA = 3\n",
    "def utility(c):\n",
    "    if (CRRA == 1):\n",
    "        util = log(c)\n",
    "    else:\n",
    "        util = (c**(1-CRRA)-1)/(1-CRRA)\n",
    "    return util\n",
    "\n",
    "for j in range(nW): #D \n",
    "        V[j, T] = utility(W[j,T])   \n",
    "        \n",
    "for t in range(T-1, -1, -1):\n",
    "    print(t)\n",
    "    for j in range(nW):\n",
    "        for a in range(nA):\n",
    "            for c in range(nC):\n",
    "                cons = (c+1)/(4*nC)*W[j,t]\n",
    "                W_tplus1_dist = compute_transition_probs(W[j,t]-cons, t, a)\n",
    "                EV[a,c] = np.dot(W_tplus1_dist, utility(cons)+gamma*(1-mort.loc[start_age+t,\"Healthy Annuitant\"])*V[:,t+1])\n",
    "                #if (a==0 and j ==65 and t==T-1):\n",
    "                #    print(c, cons, EV[a,c], utility(cons))\n",
    "                #    print(EV[a,c])\n",
    "        V[j,t] = EV.max() #E\n",
    "        A[j,t], C[j,t] = np.unravel_index(EV.argmax(), EV.shape) #F"
   ]
  },
  {
   "cell_type": "code",
   "execution_count": 1323,
   "id": "1502aeba",
   "metadata": {},
   "outputs": [
    {
     "data": {
      "text/plain": [
       "[<matplotlib.lines.Line2D at 0x1e336413b20>]"
      ]
     },
     "execution_count": 1323,
     "metadata": {},
     "output_type": "execute_result"
    },
    {
     "data": {
      "image/png": "[encoded data removed]",
      "text/plain": [
       "<Figure size 432x288 with 1 Axes>"
      ]
     },
     "metadata": {
      "needs_background": "light"
     },
     "output_type": "display_data"
    }
   ],
   "source": [
    "plt.plot(C[:,45])"
   ]
  },
  {
   "cell_type": "code",
   "execution_count": 1326,
   "id": "835021eb",
   "metadata": {},
   "outputs": [
    {
     "data": {
      "text/plain": [
       "-2006.4376793700135"
      ]
     },
     "execution_count": 1326,
     "metadata": {},
     "output_type": "execute_result"
    }
   ],
   "source": [
    "V[0,0]"
   ]
  },
  {
   "cell_type": "code",
   "execution_count": 1299,
   "id": "f946d985",
   "metadata": {},
   "outputs": [
    {
     "data": {
      "text/plain": [
       "[<matplotlib.lines.Line2D at 0x1e334e486d0>]"
      ]
     },
     "execution_count": 1299,
     "metadata": {},
     "output_type": "execute_result"
    },
    {
     "data": {
      "image/png": "[encoded data removed]",
      "text/plain": [
       "<Figure size 432x288 with 1 Axes>"
      ]
     },
     "metadata": {
      "needs_background": "light"
     },
     "output_type": "display_data"
    }
   ],
   "source": [
    "plt.plot(A[:,0])"
   ]
  },
  {
   "cell_type": "code",
   "execution_count": 1301,
   "id": "7aba2b88",
   "metadata": {},
   "outputs": [
    {
     "data": {
      "text/plain": [
       "array([-3493.17349371, -3479.0171298 , -3464.91781944, -3450.87533219,\n",
       "       -3436.88943846, -3422.95990957, -3409.08651773, -3395.26903601,\n",
       "       -3381.50723842, -3367.80089983, -3354.14979601, -3340.55370364,\n",
       "       -3327.01240029, -3313.52566442, -3300.09327538, -3286.71501342,\n",
       "       -3273.39065968, -3260.11999618, -3246.90280585, -3233.73887247,\n",
       "       -3220.62798074, -3207.56991621, -3194.56446533, -3181.61141542,\n",
       "       -3168.71055467, -3155.86167213, -3143.06455775, -3130.31900231,\n",
       "       -3117.62479749, -3104.98173579, -3092.38961061, -3079.84821618,\n",
       "       -3067.35734757, -3054.91680075, -3042.52637248, -3030.18586039,\n",
       "       -3017.89506297, -3005.65377953, -2993.4618102 , -2981.31895598,\n",
       "       -2969.22501868, -2957.17980094, -2945.18310623, -2933.23473885,\n",
       "       -2921.3345039 , -2909.48220732, -2897.67765585, -2885.92065705,\n",
       "       -2874.21101929, -2862.54855174, -2850.93306439, -2839.36436802,\n",
       "       -2827.84227421, -2816.36659533, -2804.93714456, -2793.55373586,\n",
       "       -2782.21618398, -2770.92430446, -2759.67791362, -2748.47682856,\n",
       "       -2737.32086716, -2726.20984806, -2715.1435907 , -2704.12191527,\n",
       "       -2693.14464273, -2682.21159481, -2671.322594  , -2660.47746353,\n",
       "       -2649.67602742, -2638.91811042, -2628.20353804, -2617.53213652,\n",
       "       -2606.90373287, -2596.31815483, -2585.77523088, -2575.27479024,\n",
       "       -2564.81666285, -2554.40067941, -2544.02667131, -2533.6944707 ,\n",
       "       -2523.40391044, -2513.1548241 , -2502.94704598, -2492.7804111 ,\n",
       "       -2482.65475516, -2472.56991461, -2462.52572658, -2452.5220289 ,\n",
       "       -2442.55866012, -2432.63545947, -2422.75226687, -2412.90892296,\n",
       "       -2403.10526904, -2393.3411471 , -2383.61639983, -2373.93087056,\n",
       "       -2364.28440335, -2354.67684289, -2345.10803455, -2335.57782439,\n",
       "       -2326.08605911, -2316.63258608, -2307.21725333, -2297.83990953,\n",
       "       -2288.50040403, -2279.19858681, -2269.9343085 , -2260.70742037,\n",
       "       -2251.51777433, -2242.36522294, -2233.24961937, -2224.17081745,\n",
       "       -2215.12867161, -2206.12303691, -2197.15376905, -2188.22072433,\n",
       "       -2179.32375966, -2170.46273258, -2161.63750122, -2152.84792433,\n",
       "       -2144.09386125, -2135.37517194, -2126.69171691, -2118.04335732,\n",
       "       -2109.42995487, -2100.85137187, -2092.30747122, -2083.79811637,\n",
       "       -2075.32317137, -2066.88250083, -2058.47596995, -2050.10344446,\n",
       "       -2041.76479068, -2033.45987548, -2025.1885663 , -2016.9507311 ,\n",
       "       -2008.74623842, -2000.57495734, -1992.43675747, -1984.33150896,\n",
       "       -1976.25908252, -1968.21934936, -1960.21218124, -1952.23745044,\n",
       "       -1944.29502976, -1936.38479253, -1928.50661258, -1920.66036426,\n",
       "       -1912.84592244, -1905.06316247, -1897.31196022, -1889.59219207,\n",
       "       -1881.90373487, -1874.24646598, -1866.62026324, -1859.02500498,\n",
       "       -1851.46057002, -1843.92683765, -1836.42368764, -1828.95100022,\n",
       "       -1821.50865611, -1814.09653648, -1806.71452297, -1799.36249769,\n",
       "       -1792.04034319, -1784.74794248, -1777.48517901, -1770.25193669,\n",
       "       -1763.04809988, -1755.87355337, -1748.72818238, -1741.61187257,\n",
       "       -1734.52451004, -1727.46598131, -1720.43617334, -1713.43497348,\n",
       "       -1706.46226952, -1699.51794968, -1692.60190257, -1685.71401722,\n",
       "       -1678.85418306, -1672.02228993, -1665.21822807, -1658.44188813,\n",
       "       -1651.69316114, -1644.97193852, -1638.27811209, -1631.61157407,\n",
       "       -1624.97221703, -1618.35993396, -1611.7746182 , -1605.21616348,\n",
       "       -1598.68446391, -1592.17941396, -1585.70090846, -1579.24884264,\n",
       "       -1572.82311206, -1566.42361265, -1560.05024072, -1553.7028929 ,\n",
       "       -1547.38146621, -1541.085858  , -1534.81596597, -1528.57168818,\n",
       "       -1522.35292303, -1516.15956926, -1509.99152595, -1503.84869252,\n",
       "       -1497.73096873, -1491.63825467, -1485.57045077, -1479.52745778,\n",
       "       -1473.5091768 , -1467.51550922, -1461.54635679, -1455.60162157,\n",
       "       -1449.68120593, -1443.78501259, -1437.91294456, -1432.06490518,\n",
       "       -1426.24079809, -1420.44052727, -1414.66399699, -1408.91111183,\n",
       "       -1403.1817767 , -1397.47589679, -1391.79337762, -1386.13412499,\n",
       "       -1380.49804503, -1374.88504415, -1369.29502909, -1363.72790685,\n",
       "       -1358.18358475, -1352.66197042, -1347.16297177, -1341.68649701,\n",
       "       -1336.23245463, -1330.80075345, -1325.39130254, -1320.00401129,\n",
       "       -1314.63878938, -1309.29554676, -1303.97419369, -1298.67464072,\n",
       "       -1293.39679866, -1288.14057865, -1282.90589207, -1277.69265062,\n",
       "       -1272.50076629, -1267.33015131, -1262.18071826, -1257.05237994,\n",
       "       -1251.94504948, -1246.85864027, -1241.79306599, -1236.7482406 ,\n",
       "       -1231.72407835, -1226.72049377, -1221.73740165, -1216.77471709,\n",
       "       -1211.83235547, -1206.91023243, -1202.0082639 , -1197.12636611,\n",
       "       -1192.26445553, -1187.42244896, -1182.60026344, -1177.79781631,\n",
       "       -1173.01502519, -1168.25180797, -1163.50808284, -1158.78376824,\n",
       "       -1154.07878292, -1149.3930459 , -1144.72647648, -1140.07899424,\n",
       "       -1135.45051904, -1130.84097102, -1126.25027061, -1121.67833851,\n",
       "       -1117.12509572, -1112.59046349, -1108.07436339, -1103.57671723,\n",
       "       -1099.09744714, -1094.63647552, -1090.19372504, -1085.76911867,\n",
       "       -1081.36257965, -1076.97403151, -1072.60339806, -1068.2506034 ,\n",
       "       -1063.91557192, -1059.59822826, -1055.29849739, -1051.01630454,\n",
       "       -1046.75157522, -1042.50423523, -1038.27421067, -1034.06142791,\n",
       "       -1029.86581361, -1025.68729471, -1021.52579845, -1017.38125234,\n",
       "       -1013.25358419, -1009.14272209, -1005.04859442, -1000.97112984,\n",
       "        -996.9102573 ,  -992.86590604,  -988.8380056 ,  -984.82648578,\n",
       "        -980.83127669,  -976.85230871,  -972.88951253,  -968.9428191 ,\n",
       "        -965.01215969,  -961.09746583,  -957.19866936,  -953.31570238,\n",
       "        -949.44849732,  -945.59698685,  -941.76110396,  -937.94078193,\n",
       "        -934.1359543 ,  -930.34655493,  -926.57251794,  -922.81377776,\n",
       "        -919.07026909,  -915.34192693,  -911.62868657,  -907.93048356,\n",
       "        -904.24725378,  -900.57893334,  -896.9254587 ,  -893.28676656,\n",
       "        -889.66279391,  -886.05347806,  -882.45875656,  -878.87856727,\n",
       "        -875.31284832,  -871.76153816,  -868.22457547,  -864.70189924,\n",
       "        -861.19344876,  -857.69916357,  -854.21898351,  -850.75284869,\n",
       "        -847.30069952,  -843.86247667,  -840.43812109,  -837.02757402,\n",
       "        -833.63077698,  -830.24767176,  -826.87820043,  -823.52230532,\n",
       "        -820.17992907,  -816.85101456,  -813.53550497,  -810.23334375,\n",
       "        -806.9444746 ,  -803.66884152,  -800.40638878,  -797.1570609 ,\n",
       "        -793.92080269,  -790.69755922,  -787.48727583,  -784.28989814,\n",
       "        -781.10537203,  -777.93364364,  -774.77465938,  -771.62836595,\n",
       "        -768.49471029,  -765.37363961,  -762.2651014 ,  -759.16904341,\n",
       "        -756.08541364,  -753.01416038,  -749.95523218,  -746.90857786,\n",
       "        -743.8741465 ,  -740.85188746,  -737.84175036,  -734.84368512,\n",
       "        -731.8576419 ,  -728.88357117,  -725.92142366,  -722.9711504 ,\n",
       "        -720.0327027 ,  -717.10603217,  -714.19109072,  -711.28783058,\n",
       "        -708.39620426,  -705.51616464,  -702.6476649 ,  -699.79065856,\n",
       "        -696.94509954,  -694.11094207,  -691.28814082,  -688.47665083,\n",
       "        -685.67642758])"
      ]
     },
     "execution_count": 1301,
     "metadata": {},
     "output_type": "execute_result"
    }
   ],
   "source": [
    "V[:,1]"
   ]
  },
  {
   "cell_type": "code",
   "execution_count": null,
   "id": "fa6c782e",
   "metadata": {},
   "outputs": [],
   "source": [
    "# Equivalent to Listing 12.4\n",
    "\n",
    "def transition(w, t, a):\n",
    "    mu, sig = compute_mu_sigma(a)\n",
    "    W_tplus1 = w * exp(mu-0.5*sig*sig + sig*np.random.normal())\n",
    "    W_tplus1_idx = (np.abs(W[:,t+1] - W_tplus1)).argmin()\n",
    "    W_visits[W_tplus1_idx,t+1] += 1\n",
    "    return W_tplus1_idx"
   ]
  },
  {
   "cell_type": "code",
   "execution_count": null,
   "id": "3c6953a9",
   "metadata": {},
   "outputs": [],
   "source": [
    "# Equivalent to Listing 12.5\n",
    "\n",
    "def Update_Q(w_idx, t, Q):\n",
    "    if np.random.uniform() < epsilon:\n",
    "        a = np.random.randint(nA)\n",
    "        c = np.random.randint(nC)\n",
    "    else:\n",
    "        AC_array = Q[w_idx,t,:,:]\n",
    "        ac = np.argwhere(AC_array == AC_array.max())\n",
    "        if (len(ac)>1):\n",
    "            a,c = ac[np.random.choice(len(ac))]\n",
    "        else:\n",
    "            a,c = ac[0]\n",
    "    cons = (c+1)/(1.5*nC)*W[w_idx,t]\n",
    "    W_tplus1_idx = transition(W[w_idx,t]-cons, t, a)\n",
    "    Q[w_idx,t,a,c] += alpha*(utility(cons) + gamma*Q[W_tplus1_idx,t+1,:,:].max() - Q[W_idx,t,a,c])\n",
    "    #if (t==0):\n",
    "    #    optC = np.argwhere(Q[50,1,:,:] == Q[50,1,:,:].max())[0,1]\n",
    "    #    optA = np.argwhere(Q[50,1,:,:] == Q[50,1,:,:].max())[1,0]\n",
    "    #    print(cons, W_tplus1_idx, utility(cons), optC, optA, Q[W_tplus1_idx,1,optA,optC])\n",
    "    return W_tplus1_idx, t+1, Q"
   ]
  },
  {
   "cell_type": "code",
   "execution_count": null,
   "id": "21e70b1a",
   "metadata": {},
   "outputs": [],
   "source": [
    "# Equivalent to Listing 12.6\n",
    "\n",
    "Q = np.zeros((nW, T+1, nA, nC))\n",
    "for j in range(nW):\n",
    "        #Q[j,:,:,:] = -99.\n",
    "        Q[j,T,:,:] = utility(W[j,T])\n",
    "        #Q[j,:,:,:] = utility(W[j,T])"
   ]
  },
  {
   "cell_type": "code",
   "execution_count": null,
   "id": "d44632dd",
   "metadata": {},
   "outputs": [],
   "source": [
    "# Equivalent to Listing 12.7\n",
    "from tqdm import tqdm\n",
    "\n",
    "n_episodes = 5000000\n",
    "epsilon = 0.5\n",
    "alpha = 0.1\n",
    "gamma = 1.0\n",
    "\n",
    "for i in tqdm(range(n_episodes), desc=\"Running...\"):\n",
    "    W_idx = 0\n",
    "    t = 0\n",
    "    while t<=(T-1):\n",
    "        W_idx, t, Q = Update_Q(W_idx, t, Q)"
   ]
  },
  {
   "cell_type": "code",
   "execution_count": null,
   "id": "db36f663",
   "metadata": {},
   "outputs": [],
   "source": []
  },
  {
   "cell_type": "code",
   "execution_count": null,
   "id": "bca37b3f",
   "metadata": {},
   "outputs": [],
   "source": []
  },
  {
   "cell_type": "code",
   "execution_count": null,
   "id": "d5126ece",
   "metadata": {},
   "outputs": [],
   "source": []
  },
  {
   "cell_type": "markdown",
   "id": "b54f2b70",
   "metadata": {},
   "source": [
    "## Social Security Optimization"
   ]
  },
  {
   "cell_type": "code",
   "execution_count": 1520,
   "id": "c05cd8f2",
   "metadata": {},
   "outputs": [],
   "source": [
    "# Equivalent to Listing 12.1, but W0=1\n",
    "\n",
    "W0 = 1042000\n",
    "T = 50\n",
    "nW = 401 #A\n",
    "mu_stock = 0.08\n",
    "mu_bond = 0.045\n",
    "sig_stock = 0.20\n",
    "sig_bond = 0.0\n",
    "\n",
    "lnW = np.zeros((nW,T+1))\n",
    "W = np.zeros((nW, T+1))\n",
    "\n",
    "for t in range(T+1):\n",
    "    lnW_min = log(W0) - t*log(1.3)\n",
    "    #lnW_min = max(log(W0) - t*log(1.5), log(30000)-3.5*sig_stock)\n",
    "    lnW_max = log(W0) - t*0.1 + (mu_stock-0.5*sig_stock**2)*t + 2.5*sig_stock*sqrt(t)\n",
    "    lnW[:,t] = np.linspace(lnW_min, lnW_max, nW) #B\n",
    "W = np.exp(lnW)"
   ]
  },
  {
   "cell_type": "code",
   "execution_count": 1521,
   "id": "795dbfbc",
   "metadata": {},
   "outputs": [
    {
     "name": "stdout",
     "output_type": "stream",
     "text": [
      "49\n",
      "48\n",
      "47\n",
      "46\n",
      "45\n",
      "44\n",
      "43\n",
      "42\n",
      "41\n",
      "40\n",
      "39\n",
      "38\n",
      "37\n",
      "36\n",
      "35\n",
      "34\n",
      "33\n",
      "32\n",
      "31\n",
      "30\n",
      "29\n",
      "28\n",
      "27\n",
      "26\n",
      "25\n",
      "24\n",
      "23\n",
      "22\n",
      "21\n",
      "20\n",
      "19\n",
      "18\n",
      "17\n",
      "16\n",
      "15\n",
      "14\n",
      "13\n",
      "12\n",
      "11\n",
      "10\n",
      "9\n",
      "8\n",
      "7\n",
      "6\n",
      "5\n",
      "4\n",
      "3\n",
      "2\n",
      "1\n",
      "0\n",
      "-4.2662734817855456e-15\n"
     ]
    }
   ],
   "source": [
    "#### Equivalent to Listing 12.3\n",
    "\n",
    "nA = 11\n",
    "nC = 40\n",
    "W_midpoints = compute_midpoints()\n",
    "gamma = 0.95\n",
    "start_age = 62\n",
    "infl_rate = 0.025\n",
    "SS0 = 30000\n",
    "#SS0 = 52800\n",
    "claiming_age = 62\n",
    "#claiming_age = 70\n",
    "CRRA = 4\n",
    "def utility(c):\n",
    "    if (CRRA == 1):\n",
    "        util = log(c)\n",
    "    else:\n",
    "        util = (c**(1-CRRA))/(1-CRRA)\n",
    "    return util\n",
    "\n",
    "\n",
    "V = np.zeros((nW, T+1)) #A\n",
    "A = np.zeros((nW, T)) #B\n",
    "C = np.zeros((nW, T))\n",
    "EV = np.zeros((nA, nC)) #C\n",
    "\n",
    "for j in range(nW): #D \n",
    "    V[j, T] = utility(W[j,T])   \n",
    "        \n",
    "for t in range(T-1, -1, -1):\n",
    "    print(t)\n",
    "    for j in range(nW):\n",
    "        for a in range(nA):\n",
    "            for c in range(nC):\n",
    "                cons = (c+1)/(4*nC)*W[j,t]\n",
    "                if t+start_age>=claiming_age:\n",
    "                    SS = SS0*(1+infl_rate)**t\n",
    "                else:\n",
    "                    SS = 0\n",
    "                W_tplus1_dist = compute_transition_probs(W[j,t]-cons+SS, t, a)\n",
    "                EV[a,c] = np.dot(W_tplus1_dist, utility(cons)+gamma*(1-mort.loc[start_age+t,\"Healthy Annuitant\"])*V[:,t+1])\n",
    "        V[j,t] = EV.max() #E\n",
    "        A[j,t], C[j,t] = np.unravel_index(EV.argmax(), EV.shape) #F\n",
    "print(V[0,0])"
   ]
  },
  {
   "cell_type": "markdown",
   "id": "52b6753f",
   "metadata": {},
   "source": [
    "I modified the code to compute the risk neutral benefit of claiming at 70 vs 62. I couldn't use the old program above and simply set CRRA=0, because it will choose an asset allocation to all stocks, which comes with an average return of 8%, so the real rate will be much higher. Also, the subjective discount rate above was different from the risk-free rate."
   ]
  },
  {
   "cell_type": "code",
   "execution_count": 1503,
   "id": "82da5ec2",
   "metadata": {},
   "outputs": [
    {
     "name": "stdout",
     "output_type": "stream",
     "text": [
      "49\n",
      "48\n",
      "47\n",
      "46\n",
      "45\n",
      "44\n",
      "43\n",
      "42\n",
      "41\n",
      "40\n",
      "39\n",
      "38\n",
      "37\n",
      "36\n",
      "35\n",
      "34\n",
      "33\n",
      "32\n",
      "31\n",
      "30\n",
      "29\n",
      "28\n",
      "27\n",
      "26\n",
      "25\n",
      "24\n",
      "23\n",
      "22\n",
      "21\n",
      "20\n",
      "19\n",
      "18\n",
      "17\n",
      "16\n",
      "15\n",
      "14\n",
      "13\n",
      "12\n",
      "11\n",
      "10\n",
      "9\n",
      "8\n",
      "7\n",
      "6\n",
      "5\n",
      "4\n",
      "3\n",
      "2\n",
      "1\n",
      "0\n",
      "1466422.5320034358\n"
     ]
    }
   ],
   "source": [
    "# To test traditional Social Security Break Even\n",
    "#### Equivalent to Listing 12.3\n",
    "\n",
    "nA = 2 # change back\n",
    "nC = 40\n",
    "W_midpoints = compute_midpoints()\n",
    "gamma = 0.95\n",
    "gamma = 0.955 # change back\n",
    "start_age = 62\n",
    "infl_rate = 0.025\n",
    "SS0 = 30000\n",
    "#SS0 = 52800\n",
    "claiming_age = 62\n",
    "#claiming_age = 70\n",
    "CRRA = 0\n",
    "def utility(c):\n",
    "    if (CRRA == 1):\n",
    "        util = log(c)\n",
    "    else:\n",
    "        util = (c**(1-CRRA))/(1-CRRA)\n",
    "    return util\n",
    "\n",
    "\n",
    "V = np.zeros((nW, T+1)) #A\n",
    "A = np.zeros((nW, T)) #B\n",
    "C = np.zeros((nW, T))\n",
    "EV = np.zeros((nA, nC)) #C\n",
    "\n",
    "for j in range(nW): #D \n",
    "    V[j, T] = utility(W[j,T])   \n",
    "\n",
    "a=0    \n",
    "for t in range(T-1, -1, -1):\n",
    "    print(t)\n",
    "    for j in range(nW):\n",
    "        for c in range(nC):\n",
    "            cons = (c+1)/(4*nC)*W[j,t]\n",
    "            if t+start_age>=claiming_age:\n",
    "                SS = SS0*(1+infl_rate)**t\n",
    "            else:\n",
    "                SS = 0\n",
    "            W_tplus1_dist = compute_transition_probs(W[j,t]-cons+SS, t, a)\n",
    "            EV[a,c] = np.dot(W_tplus1_dist, utility(cons)+gamma*(1-mort.loc[start_age+t,\"Healthy Annuitant\"])*V[:,t+1])\n",
    "        V[j,t] = EV.max() #E\n",
    "        A[j,t], C[j,t] = np.unravel_index(EV.argmax(), EV.shape) #F\n",
    "print(V[0,0])"
   ]
  },
  {
   "cell_type": "code",
   "execution_count": 1505,
   "id": "9676eded",
   "metadata": {},
   "outputs": [
    {
     "data": {
      "text/plain": [
       "-6.628611669049968e-10"
      ]
     },
     "execution_count": 1505,
     "metadata": {},
     "output_type": "execute_result"
    }
   ],
   "source": [
    "# Claim at 62 CRRA=3\n",
    "\n",
    "y62 = V[0,0]\n",
    "y62"
   ]
  },
  {
   "cell_type": "code",
   "execution_count": 1507,
   "id": "47839566",
   "metadata": {},
   "outputs": [
    {
     "data": {
      "text/plain": [
       "-6.353750175453771e-10"
      ]
     },
     "execution_count": 1507,
     "metadata": {},
     "output_type": "execute_result"
    }
   ],
   "source": [
    "# Clain at 70 CRRA=3\n",
    "\n",
    "y70 = V[0,0]\n",
    "y70"
   ]
  },
  {
   "cell_type": "code",
   "execution_count": 1522,
   "id": "13fb33f8",
   "metadata": {},
   "outputs": [
    {
     "name": "stdout",
     "output_type": "stream",
     "text": [
      "0.9997543962165347\n"
     ]
    }
   ],
   "source": [
    "x = (4.597213944171007-4.2662734817855456)/(4.597213944171007-4.266192181588246)\n",
    "print(x)"
   ]
  },
  {
   "cell_type": "code",
   "execution_count": 1514,
   "id": "f1fcfdaa",
   "metadata": {},
   "outputs": [
    {
     "data": {
      "text/plain": [
       "-4.597213944171007e-15"
      ]
     },
     "execution_count": 1514,
     "metadata": {},
     "output_type": "execute_result"
    }
   ],
   "source": [
    "# Claim at 62 CRRA=4\n",
    "\n",
    "y62 = V[0,0]\n",
    "y62"
   ]
  },
  {
   "cell_type": "code",
   "execution_count": 1516,
   "id": "90e1ddb4",
   "metadata": {},
   "outputs": [
    {
     "data": {
      "text/plain": [
       "-4.266192181588246e-15"
      ]
     },
     "execution_count": 1516,
     "metadata": {},
     "output_type": "execute_result"
    }
   ],
   "source": [
    "# Clain at 70 CRRA=3\n",
    "\n",
    "y70 = V[0,0]\n",
    "y70"
   ]
  },
  {
   "cell_type": "code",
   "execution_count": null,
   "id": "b76f4039",
   "metadata": {},
   "outputs": [],
   "source": []
  },
  {
   "cell_type": "code",
   "execution_count": null,
   "id": "80d1f0db",
   "metadata": {},
   "outputs": [],
   "source": []
  },
  {
   "cell_type": "code",
   "execution_count": null,
   "id": "839e6046",
   "metadata": {},
   "outputs": [],
   "source": []
  },
  {
   "cell_type": "code",
   "execution_count": null,
   "id": "d1cef75e",
   "metadata": {},
   "outputs": [],
   "source": []
  },
  {
   "cell_type": "code",
   "execution_count": 1470,
   "id": "3b4462d7",
   "metadata": {},
   "outputs": [
    {
     "data": {
      "text/plain": [
       "-3.2162470562933287e-20"
      ]
     },
     "execution_count": 1470,
     "metadata": {},
     "output_type": "execute_result"
    }
   ],
   "source": [
    "# With a minimum wealth closer to SS floor nW=401\n",
    "\n",
    "y70 = V[0,0]\n",
    "y70"
   ]
  },
  {
   "cell_type": "code",
   "execution_count": 1468,
   "id": "eb4dec81",
   "metadata": {},
   "outputs": [
    {
     "data": {
      "text/plain": [
       "-3.607367110745506e-20"
      ]
     },
     "execution_count": 1468,
     "metadata": {},
     "output_type": "execute_result"
    }
   ],
   "source": [
    "# With a minimum wealth closer to SS floor nW=401\n",
    "\n",
    "y62 = V[0,0]\n",
    "y62"
   ]
  },
  {
   "cell_type": "code",
   "execution_count": 1462,
   "id": "80c034e1",
   "metadata": {},
   "outputs": [
    {
     "data": {
      "text/plain": [
       "-3.584152985850302e-20"
      ]
     },
     "execution_count": 1462,
     "metadata": {},
     "output_type": "execute_result"
    }
   ],
   "source": [
    "# With a minimum wealth closer to SS floor nW=301\n",
    "\n",
    "y62 = V[0,0]\n",
    "y62"
   ]
  },
  {
   "cell_type": "code",
   "execution_count": 1430,
   "id": "5799b45e",
   "metadata": {},
   "outputs": [
    {
     "data": {
      "text/plain": [
       "-3.5924858413479467e-20"
      ]
     },
     "execution_count": 1430,
     "metadata": {},
     "output_type": "execute_result"
    }
   ],
   "source": [
    "# Claim at 62 CRRA=5\n",
    "\n",
    "y62 = V[0,0]\n",
    "y62"
   ]
  },
  {
   "cell_type": "code",
   "execution_count": 1433,
   "id": "ba9eab04",
   "metadata": {},
   "outputs": [
    {
     "data": {
      "text/plain": [
       "-3.214602263493985e-20"
      ]
     },
     "execution_count": 1433,
     "metadata": {},
     "output_type": "execute_result"
    }
   ],
   "source": [
    "# Clain at 70 CRRA=5\n",
    "\n",
    "y70 = V[0,0]\n",
    "y70"
   ]
  },
  {
   "cell_type": "code",
   "execution_count": 1448,
   "id": "9fcd6d53",
   "metadata": {},
   "outputs": [
    {
     "name": "stdout",
     "output_type": "stream",
     "text": [
      "1.0002907299074282\n"
     ]
    }
   ],
   "source": [
    "x = (3.592485841347946-3.214492401436376)/(3.5924858413479467-3.214602263493985)\n",
    "print(x)"
   ]
  },
  {
   "cell_type": "code",
   "execution_count": 1443,
   "id": "b1d3f9cb",
   "metadata": {},
   "outputs": [
    {
     "data": {
      "text/plain": [
       "467867.8237882296"
      ]
     },
     "execution_count": 1443,
     "metadata": {},
     "output_type": "execute_result"
    }
   ],
   "source": [
    "(1/x)*465000"
   ]
  },
  {
   "cell_type": "code",
   "execution_count": 1449,
   "id": "e6afc936",
   "metadata": {},
   "outputs": [
    {
     "data": {
      "text/plain": [
       "39988.374183675376"
      ]
     },
     "execution_count": 1449,
     "metadata": {},
     "output_type": "execute_result"
    }
   ],
   "source": [
    "(1/x)*40000"
   ]
  },
  {
   "cell_type": "code",
   "execution_count": 1406,
   "id": "bb6ad520",
   "metadata": {},
   "outputs": [
    {
     "data": {
      "text/plain": [
       "4.535394960344029"
      ]
     },
     "execution_count": 1406,
     "metadata": {},
     "output_type": "execute_result"
    }
   ],
   "source": [
    "# Claim at 62\n",
    "\n",
    "V[0,0]"
   ]
  },
  {
   "cell_type": "code",
   "execution_count": 1408,
   "id": "8ab3f6fc",
   "metadata": {},
   "outputs": [
    {
     "data": {
      "text/plain": [
       "4.535394960344032"
      ]
     },
     "execution_count": 1408,
     "metadata": {},
     "output_type": "execute_result"
    }
   ],
   "source": [
    "# Clain at 70\n",
    "\n",
    "V[0,0]"
   ]
  },
  {
   "cell_type": "code",
   "execution_count": 1411,
   "id": "fb976dbb",
   "metadata": {},
   "outputs": [
    {
     "data": {
      "text/plain": [
       "0.333333333333"
      ]
     },
     "execution_count": 1411,
     "metadata": {},
     "output_type": "execute_result"
    }
   ],
   "source": [
    "utility(10000)"
   ]
  },
  {
   "cell_type": "code",
   "execution_count": 1404,
   "id": "57d422e3",
   "metadata": {},
   "outputs": [
    {
     "data": {
      "text/plain": [
       "3.4015462202580244"
      ]
     },
     "execution_count": 1404,
     "metadata": {},
     "output_type": "execute_result"
    }
   ],
   "source": [
    "# Claim at 62\n",
    "\n",
    "V[0,0]"
   ]
  },
  {
   "cell_type": "code",
   "execution_count": 1400,
   "id": "dce3d82a",
   "metadata": {},
   "outputs": [
    {
     "data": {
      "text/plain": [
       "3.401546220258024"
      ]
     },
     "execution_count": 1400,
     "metadata": {},
     "output_type": "execute_result"
    }
   ],
   "source": [
    "# Clain at 70\n",
    "\n",
    "V[0,0]"
   ]
  },
  {
   "cell_type": "code",
   "execution_count": 1355,
   "id": "05276453",
   "metadata": {},
   "outputs": [
    {
     "data": {
      "text/plain": [
       "[<matplotlib.lines.Line2D at 0x1e3367f65b0>]"
      ]
     },
     "execution_count": 1355,
     "metadata": {},
     "output_type": "execute_result"
    },
    {
     "data": {
      "image/png": "[encoded data removed]",
      "text/plain": [
       "<Figure size 432x288 with 1 Axes>"
      ]
     },
     "metadata": {
      "needs_background": "light"
     },
     "output_type": "display_data"
    }
   ],
   "source": [
    "plt.plot(C[:,45])"
   ]
  },
  {
   "cell_type": "code",
   "execution_count": 1354,
   "id": "c3c07240",
   "metadata": {},
   "outputs": [
    {
     "data": {
      "text/plain": [
       "0"
      ]
     },
     "execution_count": 1354,
     "metadata": {},
     "output_type": "execute_result"
    }
   ],
   "source": [
    "SS"
   ]
  },
  {
   "cell_type": "code",
   "execution_count": 1350,
   "id": "eda18e55",
   "metadata": {},
   "outputs": [
    {
     "data": {
      "text/plain": [
       "0.025"
      ]
     },
     "execution_count": 1350,
     "metadata": {},
     "output_type": "execute_result"
    }
   ],
   "source": [
    "infl_rate"
   ]
  },
  {
   "cell_type": "code",
   "execution_count": 1362,
   "id": "d648eb18",
   "metadata": {},
   "outputs": [
    {
     "data": {
      "text/plain": [
       "[<matplotlib.lines.Line2D at 0x1e337aa8a60>]"
      ]
     },
     "execution_count": 1362,
     "metadata": {},
     "output_type": "execute_result"
    },
    {
     "data": {
      "image/png": "[encoded data removed]",
      "text/plain": [
       "<Figure size 432x288 with 1 Axes>"
      ]
     },
     "metadata": {
      "needs_background": "light"
     },
     "output_type": "display_data"
    }
   ],
   "source": [
    "plt.plot(V[:,1])"
   ]
  },
  {
   "cell_type": "code",
   "execution_count": 1365,
   "id": "47d45356",
   "metadata": {},
   "outputs": [
    {
     "data": {
      "text/plain": [
       "6.674776006744307"
      ]
     },
     "execution_count": 1365,
     "metadata": {},
     "output_type": "execute_result"
    }
   ],
   "source": [
    "V[70,1]"
   ]
  },
  {
   "cell_type": "code",
   "execution_count": null,
   "id": "6178d57a",
   "metadata": {},
   "outputs": [],
   "source": []
  },
  {
   "cell_type": "code",
   "execution_count": null,
   "id": "968d5ea1",
   "metadata": {},
   "outputs": [],
   "source": []
  },
  {
   "cell_type": "code",
   "execution_count": null,
   "id": "b7290b3f",
   "metadata": {},
   "outputs": [],
   "source": []
  },
  {
   "cell_type": "code",
   "execution_count": 1562,
   "id": "4c279188",
   "metadata": {},
   "outputs": [
    {
     "data": {
      "image/png": "[encoded data removed]",
      "text/plain": [
       "<Figure size 432x288 with 1 Axes>"
      ]
     },
     "metadata": {
      "needs_background": "light"
     },
     "output_type": "display_data"
    }
   ],
   "source": [
    "import matplotlib as mpl\n",
    "\n",
    "def add_value_labels_Rob(ax, spacing=1.5):\n",
    "    \"\"\"Add labels to the end of each bar in a bar chart.\n",
    "\n",
    "    Arguments:\n",
    "        ax (matplotlib.axes.Axes): The matplotlib object containing the axes\n",
    "            of the plot to annotate.\n",
    "        spacing (int): The distance between the labels and the bars.\n",
    "    \"\"\"\n",
    "\n",
    "    # For each bar: Place a label\n",
    "    for rect in ax.patches:\n",
    "        # Get X and Y placement of label from rect.\n",
    "        y_value = rect.get_height()\n",
    "        x_value = rect.get_x() + rect.get_width() / 2\n",
    "    \n",
    "        # Number of points between bar and label. Change to your liking.\n",
    "        space = spacing\n",
    "        # Vertical alignment for positive values\n",
    "        va = 'bottom'\n",
    "    \n",
    "        # If value of bar is negative: Place label below bar\n",
    "        if y_value < 0:\n",
    "            # Invert space to place label below\n",
    "            space *= -1\n",
    "            # Vertically align label at top\n",
    "            va = 'top'\n",
    "    \n",
    "        # Use Y value as label and format number with one decimal place\n",
    "        #label = \"{:.1f}\".format(y_value)\n",
    "        label = \"{:,.0f}\".format(y_value)\n",
    "    \n",
    "        # Create annotation\n",
    "        if y_value !=0:\n",
    "            ax.annotate(\n",
    "                    label,                      # Use `label` as label\n",
    "                    (x_value, y_value),         # Place label at end of the bar\n",
    "                    xytext=(0, space),          # Vertically shift label by `space`\n",
    "                    textcoords=\"offset points\", # Interpret `xytext` as offset in points\n",
    "                    ha='center', size=11,       # Horizontally center label\n",
    "                    va=va)                      # Vertically align label differently for\n",
    "                                                # positive and negative values.\n",
    "\n",
    "\n",
    "fig,ax = plt.subplots(1)\n",
    "# create dataset\n",
    "height = [3000, 35000, 42000, 47000]\n",
    "bars = ('Risk Neutral', 'CRRA=3', 'CRRA=4', 'CRRA=5')\n",
    "plt.ylim(0, 50000)\n",
    " \n",
    "# Choose the position of each barplots on the x-axis (space=1,4,3,1)\n",
    "x_pos = [0,5,7,9]\n",
    " \n",
    "# Create bars\n",
    "plt.bar(x_pos, height, width=1.5)\n",
    " \n",
    "# Create names on the x-axis\n",
    "plt.xticks(x_pos, bars)\n",
    "\n",
    "#ax.spines['top'].set_visible(False)\n",
    "#ax.spines['right'].set_visible(False)\n",
    "\n",
    "#ax.spines['left'].set_visible(False)\n",
    "#ax.axes.get_yaxis().set_visible(False)\n",
    "\n",
    "add_value_labels_Rob(ax)\n",
    "plt.ylabel('Dollar Benefit: Claiming at 70')\n",
    "\n",
    "ax.yaxis.set_major_formatter(mpl.ticker.StrMethodFormatter('{x:,.0f}'))\n",
    "\n",
    "# Show graphic\n",
    "#plt.show()\n",
    "#plt.savefig('Fig12_7.png', dpi=300, bbox_inches='tight');\n",
    "#plt.savefig('Fig12_7.svg', format='svg', bbox_inches='tight');"
   ]
  },
  {
   "cell_type": "code",
   "execution_count": null,
   "id": "abfea196",
   "metadata": {},
   "outputs": [],
   "source": []
  },
  {
   "cell_type": "code",
   "execution_count": null,
   "id": "9c622857",
   "metadata": {},
   "outputs": [],
   "source": []
  },
  {
   "cell_type": "code",
   "execution_count": null,
   "id": "d3446fb1",
   "metadata": {},
   "outputs": [],
   "source": []
  },
  {
   "cell_type": "code",
   "execution_count": null,
   "id": "313f01e3",
   "metadata": {},
   "outputs": [],
   "source": []
  }
 ],
 "metadata": {
  "kernelspec": {
   "display_name": "Python 3 (ipykernel)",
   "language": "python",
   "name": "python3"
  },
  "language_info": {
   "codemirror_mode": {
    "name": "ipython",
    "version": 3
   },
   "file_extension": ".py",
   "mimetype": "text/x-python",
   "name": "python",
   "nbconvert_exporter": "python",
   "pygments_lexer": "ipython3",
   "version": "3.9.12"
  }
 },
 "nbformat": 4,
 "nbformat_minor": 5
}
